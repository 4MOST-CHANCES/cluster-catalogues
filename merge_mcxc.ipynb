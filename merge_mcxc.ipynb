{
 "cells": [
  {
   "cell_type": "code",
   "execution_count": 1,
   "metadata": {},
   "outputs": [],
   "source": [
    "%load_ext autoreload\n",
    "%autoreload 2"
   ]
  },
  {
   "cell_type": "code",
   "execution_count": 2,
   "metadata": {},
   "outputs": [
    {
     "data": {
      "text/plain": [
       "'5.1'"
      ]
     },
     "execution_count": 2,
     "metadata": {},
     "output_type": "execute_result"
    }
   ],
   "source": [
    "import astropy\n",
    "astropy.__version__"
   ]
  },
  {
   "cell_type": "code",
   "execution_count": 3,
   "metadata": {},
   "outputs": [],
   "source": [
    "%matplotlib inline\n",
    "from astropy import units as u\n",
    "from astropy.cosmology import Planck18\n",
    "from astropy.table import Table, join\n",
    "import cmasher as cmr\n",
    "from glob import glob\n",
    "from matplotlib import pyplot as plt\n",
    "import numpy as np\n",
    "from scipy.optimize import curve_fit"
   ]
  },
  {
   "cell_type": "markdown",
   "metadata": {},
   "source": [
    "pip installable:"
   ]
  },
  {
   "cell_type": "code",
   "execution_count": 4,
   "metadata": {},
   "outputs": [
    {
     "data": {
      "text/plain": [
       "'1.3.4b'"
      ]
     },
     "execution_count": 4,
     "metadata": {},
     "output_type": "execute_result"
    }
   ],
   "source": [
    "import profiley\n",
    "profiley.__version__"
   ]
  },
  {
   "cell_type": "code",
   "execution_count": 5,
   "metadata": {},
   "outputs": [
    {
     "name": "stderr",
     "output_type": "stream",
     "text": [
      "/home/cristobal/anaconda3/envs/bluemembers/lib/python3.10/site-packages/plottery/plotutils.py:175: MatplotlibDeprecationWarning: Support for setting an rcParam that expects a str value to a non-str value is deprecated since 3.5 and support will be removed two minor releases later.\n",
      "  rcParams[key] = default[key]\n"
     ]
    }
   ],
   "source": [
    "from colossus.cosmology import cosmology\n",
    "from colossus.halo import concentration\n",
    "from plottery.plotutils import savefig, update_rcParams\n",
    "from profiley.nfw import NFW\n",
    "update_rcParams()"
   ]
  },
  {
   "cell_type": "markdown",
   "metadata": {},
   "source": [
    "My own code, at https://github.com/cristobal-sifon/astro"
   ]
  },
  {
   "cell_type": "code",
   "execution_count": 6,
   "metadata": {},
   "outputs": [],
   "source": [
    "from astro.clusters import catalogs, conversions"
   ]
  },
  {
   "cell_type": "code",
   "execution_count": 7,
   "metadata": {},
   "outputs": [
    {
     "name": "stdout",
     "output_type": "stream",
     "text": [
      "Available catalogs:\n",
      "('abell', 'actpol', 'advact', 'gmbcg', 'hecs2013', 'madcows', 'maxbcg', 'mcxc', 'orca', 'psz1', 'psz2', 'redmapper', 'spt-sz', 'whl')\n"
     ]
    }
   ],
   "source": [
    "catalogs.list_available()"
   ]
  },
  {
   "cell_type": "code",
   "execution_count": 74,
   "metadata": {},
   "outputs": [],
   "source": [
    "sample = 'lowz'\n",
    "sample = 'evolution'"
   ]
  },
  {
   "cell_type": "code",
   "execution_count": 75,
   "metadata": {},
   "outputs": [
    {
     "data": {
      "text/html": [
       "<div><i>Table length=79</i>\n",
       "<table id=\"table140096984893616\" class=\"table-striped table-bordered table-condensed\">\n",
       "<thead><tr><th>CHANCES name</th><th>VISTA</th><th>Comments</th><th>name</th><th>index</th><th>index_PSZ</th><th>hms</th><th>dms</th><th>z</th><th>m500</th><th>m500lo</th><th>m500hi</th><th>hms_PSZ</th><th>dms_PSZ</th><th>z_PSZ</th><th>m500_PSZ</th><th>m500lo_PSZ</th><th>m500hi_PSZ</th><th>index_ACT</th><th>ACT_name</th><th>hms_ACT</th><th>dms_ACT</th><th>z_ACT</th><th>m500_ACT</th><th>m500lo_ACT</th><th>m500hi_ACT</th></tr></thead>\n",
       "<thead><tr><th>str19</th><th>str4</th><th>str17</th><th>str19</th><th>int64</th><th>int64</th><th>str10</th><th>str9</th><th>float64</th><th>float64</th><th>float64</th><th>float64</th><th>str10</th><th>str9</th><th>float64</th><th>float64</th><th>float64</th><th>float64</th><th>int64</th><th>str19</th><th>str10</th><th>str9</th><th>float64</th><th>float64</th><th>float64</th><th>float64</th></tr></thead>\n",
       "<tr><td>PSZ2 G304.84-41.40</td><td>SMC</td><td>--</td><td>PSZ2 G304.84-41.40</td><td>--</td><td>--</td><td>00:28:16.7</td><td>-75:38:02</td><td>0.41</td><td>7.65</td><td>0.38</td><td>0.35</td><td>00:28:16.7</td><td>-75:38:02</td><td>0.41</td><td>7.65</td><td>0.38</td><td>0.35</td><td>--</td><td>--</td><td>--</td><td>--</td><td>--</td><td>--</td><td>--</td><td>--</td></tr>\n",
       "<tr><td>Abell0907</td><td>HiLx</td><td>--</td><td>PSZ2 G249.38+33.26</td><td>--</td><td>--</td><td>09:58:24.4</td><td>-11:04:08</td><td>0.167</td><td>5.41</td><td>0.37</td><td>0.33</td><td>09:58:24.4</td><td>-11:04:08</td><td>0.17</td><td>5.41</td><td>0.37</td><td>0.33</td><td>--</td><td>--</td><td>--</td><td>--</td><td>--</td><td>--</td><td>--</td><td>--</td></tr>\n",
       "<tr><td>Abell0901</td><td>HiLx</td><td>--</td><td>--</td><td>--</td><td>--</td><td>09:56:26.4</td><td>-10:04:12</td><td>0.163</td><td>--</td><td>--</td><td>--</td><td>--</td><td>--</td><td>--</td><td>--</td><td>--</td><td>--</td><td>--</td><td>--</td><td>--</td><td>--</td><td>--</td><td>--</td><td>--</td><td>--</td></tr>\n",
       "<tr><td>RXC J0600.1-2007</td><td>GCAV</td><td>--</td><td>PSZ2 G225.93-19.99</td><td>--</td><td>--</td><td>06:00:15.6</td><td>-20:07:27</td><td>0.46</td><td>10.73</td><td>0.54</td><td>0.51</td><td>06:00:15.6</td><td>-20:07:27</td><td>0.46</td><td>10.73</td><td>0.54</td><td>0.51</td><td>--</td><td>--</td><td>--</td><td>--</td><td>--</td><td>--</td><td>--</td><td>--</td></tr>\n",
       "<tr><td>MACS J0553.4-3342</td><td>GCAV</td><td>--</td><td>PSZ2 G239.27-26.01</td><td>--</td><td>--</td><td>05:53:23.6</td><td>-33:42:07</td><td>0.43</td><td>8.77</td><td>0.46</td><td>0.44</td><td>05:53:23.6</td><td>-33:42:07</td><td>0.43</td><td>8.77</td><td>0.46</td><td>0.44</td><td>--</td><td>--</td><td>--</td><td>--</td><td>--</td><td>--</td><td>--</td><td>--</td></tr>\n",
       "<tr><td>RXC J1212.3-1816</td><td>HiLx</td><td>--</td><td>--</td><td>--</td><td>--</td><td>12:12:18.9</td><td>-18:16:44</td><td>0.269</td><td>--</td><td>--</td><td>--</td><td>--</td><td>--</td><td>--</td><td>--</td><td>--</td><td>--</td><td>--</td><td>--</td><td>--</td><td>--</td><td>--</td><td>--</td><td>--</td><td>--</td></tr>\n",
       "<tr><td>PSZ2 G243.15-73.84</td><td>P109</td><td>WAVES</td><td>PSZ2 G243.15-73.84</td><td>--</td><td>--</td><td>01:59:03.1</td><td>-34:14:06</td><td>0.41</td><td>8.09</td><td>0.5</td><td>0.48</td><td>01:59:03.1</td><td>-34:14:06</td><td>0.41</td><td>8.09</td><td>0.5</td><td>0.48</td><td>--</td><td>--</td><td>--</td><td>--</td><td>--</td><td>--</td><td>--</td><td>--</td></tr>\n",
       "<tr><td>PSZ2 G277.76-51.74</td><td>GCAV</td><td>SPT-ClJ0254.8587</td><td>PSZ2 G277.76-51.74</td><td>--</td><td>--</td><td>02:54:16.4</td><td>-58:57:38</td><td>0.438</td><td>9.69</td><td>0.38</td><td>0.37</td><td>02:54:16.4</td><td>-58:57:38</td><td>0.44</td><td>9.69</td><td>0.38</td><td>0.37</td><td>--</td><td>--</td><td>--</td><td>--</td><td>--</td><td>--</td><td>--</td><td>--</td></tr>\n",
       "<tr><td>PSZ2 G201.50-27.31</td><td>GCAV</td><td>MS 0451</td><td>PSZ2 G201.50-27.31</td><td>--</td><td>--</td><td>04:54:14.2</td><td>-03:01:08</td><td>0.538</td><td>8.3</td><td>0.73</td><td>0.7</td><td>04:54:14.2</td><td>-03:01:08</td><td>0.54</td><td>8.3</td><td>0.73</td><td>0.7</td><td>--</td><td>--</td><td>--</td><td>--</td><td>--</td><td>--</td><td>--</td><td>--</td></tr>\n",
       "<tr><td>PSZ2 G241.11-28.68</td><td>P108</td><td>--</td><td>PSZ2 G241.11-28.68</td><td>--</td><td>--</td><td>05:42:57.0</td><td>-35:59:03</td><td>0.42</td><td>7.36</td><td>0.49</td><td>0.5</td><td>05:42:57.0</td><td>-35:59:03</td><td>0.42</td><td>7.36</td><td>0.49</td><td>0.5</td><td>--</td><td>--</td><td>--</td><td>--</td><td>--</td><td>--</td><td>--</td><td>--</td></tr>\n",
       "<tr><td>PSZ2 G337.12-66.02</td><td>P107</td><td>--</td><td>PSZ2 G337.12-66.02</td><td>--</td><td>--</td><td>23:35:05.4</td><td>-45:42:28</td><td>0.547</td><td>7.12</td><td>0.59</td><td>0.56</td><td>23:35:05.4</td><td>-45:42:28</td><td>0.55</td><td>7.12</td><td>0.59</td><td>0.56</td><td>--</td><td>--</td><td>--</td><td>--</td><td>--</td><td>--</td><td>--</td><td>--</td></tr>\n",
       "<tr><td>PSZ2 G262.73-40.92</td><td>P108</td><td>--</td><td>PSZ2 G262.73-40.92</td><td>--</td><td>--</td><td>04:38:22.8</td><td>-54:19:15</td><td>0.421</td><td>7.46</td><td>0.36</td><td>0.36</td><td>04:38:22.8</td><td>-54:19:15</td><td>0.42</td><td>7.46</td><td>0.36</td><td>0.36</td><td>--</td><td>--</td><td>--</td><td>--</td><td>--</td><td>--</td><td>--</td><td>--</td></tr>\n",
       "<tr><td>PSZ2 G205.93-39.46</td><td>P108</td><td>MeerKAT</td><td>PSZ2 G205.93-39.46</td><td>--</td><td>--</td><td>04:17:37.5</td><td>-11:53:45</td><td>0.443</td><td>12.25</td><td>0.55</td><td>0.53</td><td>04:17:37.5</td><td>-11:53:45</td><td>0.44</td><td>12.25</td><td>0.55</td><td>0.53</td><td>--</td><td>--</td><td>--</td><td>--</td><td>--</td><td>--</td><td>--</td><td>--</td></tr>\n",
       "<tr><td>ACT-CL J0138.0-2155</td><td>--</td><td>--</td><td>ACT-CL J0138.0-2155</td><td>1</td><td>--</td><td>01:38:05.1</td><td>-21:55:36</td><td>0.338</td><td>6.34</td><td>1.22</td><td>1.41</td><td>--</td><td>--</td><td>--</td><td>--</td><td>--</td><td>--</td><td>81</td><td>ACT-CL J0138.0-2155</td><td>01:38:05.1</td><td>-21:55:36</td><td>0.34</td><td>6.34</td><td>1.22</td><td>1.41</td></tr>\n",
       "<tr><td>MACS J0329.7-0211</td><td>P108</td><td>CLASH-VLT</td><td>ACT-CL J0329.6-0211</td><td>8</td><td>--</td><td>03:29:41.0</td><td>-02:11:44</td><td>0.459</td><td>7.84</td><td>1.44</td><td>1.63</td><td>--</td><td>--</td><td>--</td><td>--</td><td>--</td><td>--</td><td>44</td><td>ACT-CL J0329.6-0211</td><td>03:29:41.0</td><td>-02:11:44</td><td>0.46</td><td>7.84</td><td>1.44</td><td>1.63</td></tr>\n",
       "<tr><td>ACT-CL J1311.0-0310</td><td>--</td><td>--</td><td>ACT-CL J1311.0-0310</td><td>40</td><td>--</td><td>13:11:01.0</td><td>-03:10:41</td><td>0.491</td><td>4.95</td><td>0.95</td><td>1.09</td><td>--</td><td>--</td><td>--</td><td>--</td><td>--</td><td>--</td><td>184</td><td>ACT-CL J1311.0-0310</td><td>13:11:01.0</td><td>-03:10:41</td><td>0.49</td><td>4.95</td><td>0.95</td><td>1.09</td></tr>\n",
       "<tr><td>MACSJ0329-02</td><td>--</td><td>--</td><td>MACSJ0329-02</td><td>63</td><td>--</td><td>03:29:40.8</td><td>-02:11:54</td><td>0.45</td><td>--</td><td>--</td><td>--</td><td>--</td><td>--</td><td>--</td><td>--</td><td>--</td><td>--</td><td>--</td><td>--</td><td>--</td><td>--</td><td>--</td><td>--</td><td>--</td><td>--</td></tr>\n",
       "<tr><td>...</td><td>...</td><td>...</td><td>...</td><td>...</td><td>...</td><td>...</td><td>...</td><td>...</td><td>...</td><td>...</td><td>...</td><td>...</td><td>...</td><td>...</td><td>...</td><td>...</td><td>...</td><td>...</td><td>...</td><td>...</td><td>...</td><td>...</td><td>...</td><td>...</td><td>...</td></tr>\n",
       "<tr><td>PSZ2 G313.88-17.11</td><td>--</td><td>--</td><td>PSZ2 G313.88-17.11</td><td>55</td><td>18</td><td>16:01:45.3</td><td>-75:45:26</td><td>0.153</td><td>8.03</td><td>0.28</td><td>0.26</td><td>16:01:45.3</td><td>-75:45:26</td><td>0.15</td><td>8.03</td><td>0.28</td><td>0.26</td><td>--</td><td>--</td><td>--</td><td>--</td><td>--</td><td>--</td><td>--</td><td>--</td></tr>\n",
       "<tr><td>PSZ2 G314.96+10.06</td><td>--</td><td>--</td><td>PSZ2 G314.96+10.06</td><td>49</td><td>51</td><td>14:07:36.1</td><td>-51:01:15</td><td>0.097</td><td>6.83</td><td>0.29</td><td>0.31</td><td>14:07:36.1</td><td>-51:01:15</td><td>0.1</td><td>6.83</td><td>0.29</td><td>0.31</td><td>--</td><td>--</td><td>--</td><td>--</td><td>--</td><td>--</td><td>--</td><td>--</td></tr>\n",
       "<tr><td>PSZ2 G315.68-18.04</td><td>--</td><td>--</td><td>PSZ2 G315.68-18.04</td><td>56</td><td>71</td><td>16:31:20.9</td><td>-75:08:37</td><td>0.105</td><td>6.42</td><td>0.21</td><td>0.22</td><td>16:31:20.9</td><td>-75:08:37</td><td>0.1</td><td>6.42</td><td>0.21</td><td>0.22</td><td>--</td><td>--</td><td>--</td><td>--</td><td>--</td><td>--</td><td>--</td><td>--</td></tr>\n",
       "<tr><td>PSZ2 G323.30+63.66</td><td>--</td><td>--</td><td>PSZ2 G323.30+63.66</td><td>44</td><td>70</td><td>13:27:01.4</td><td>+02:12:13</td><td>0.26</td><td>6.47</td><td>1.28</td><td>1.48</td><td>13:26:59.4</td><td>+02:12:42</td><td>0.26</td><td>6.42</td><td>0.45</td><td>0.42</td><td>71</td><td>ACT-CL J1327.0+0212</td><td>13:27:01.4</td><td>+02:12:13</td><td>0.26</td><td>6.47</td><td>1.28</td><td>1.48</td></tr>\n",
       "<tr><td>RXC J1347.5-1144</td><td>GCAV</td><td>CLASH-VLT</td><td>PSZ2 G324.04+48.79</td><td>46</td><td>5</td><td>13:47:32.7</td><td>-11:45:45</td><td>0.452</td><td>11.03</td><td>0.61</td><td>0.57</td><td>13:47:32.7</td><td>-11:45:45</td><td>0.45</td><td>11.03</td><td>0.61</td><td>0.57</td><td>--</td><td>--</td><td>--</td><td>--</td><td>--</td><td>--</td><td>--</td><td>--</td></tr>\n",
       "<tr><td>PSZ2 G325.70+17.34</td><td>P109</td><td>--</td><td>PSZ2 G325.70+17.34</td><td>50</td><td>28</td><td>14:47:26.6</td><td>-40:20:44</td><td>0.315</td><td>7.57</td><td>0.57</td><td>0.51</td><td>14:47:26.6</td><td>-40:20:44</td><td>0.32</td><td>7.57</td><td>0.57</td><td>0.51</td><td>--</td><td>--</td><td>--</td><td>--</td><td>--</td><td>--</td><td>--</td><td>--</td></tr>\n",
       "<tr><td>PSZ2 G333.89-43.60</td><td>--</td><td>--</td><td>PSZ2 G333.89-43.60</td><td>60</td><td>62</td><td>21:37:49.7</td><td>-60:07:12</td><td>0.318</td><td>6.66</td><td>0.51</td><td>0.47</td><td>21:37:49.7</td><td>-60:07:12</td><td>0.32</td><td>6.66</td><td>0.51</td><td>0.47</td><td>--</td><td>--</td><td>--</td><td>--</td><td>--</td><td>--</td><td>--</td><td>--</td></tr>\n",
       "<tr><td>PSZ2 G337.14-25.98</td><td>--</td><td>--</td><td>PSZ2 G337.14-25.98</td><td>57</td><td>67</td><td>19:14:38.2</td><td>-59:28:02</td><td>0.264</td><td>7.83</td><td>1.53</td><td>1.77</td><td>19:14:28.6</td><td>-59:28:19</td><td>0.26</td><td>6.58</td><td>0.51</td><td>0.47</td><td>45</td><td>ACT-CL J1914.6-5928</td><td>19:14:38.2</td><td>-59:28:02</td><td>0.26</td><td>7.83</td><td>1.53</td><td>1.77</td></tr>\n",
       "<tr><td>PSZ2 G340.36+60.58</td><td>--</td><td>--</td><td>PSZ2 G340.36+60.58</td><td>48</td><td>7</td><td>14:01:01.8</td><td>+02:52:32</td><td>0.252</td><td>15.23</td><td>2.98</td><td>3.44</td><td>14:01:00.7</td><td>+02:52:14</td><td>0.25</td><td>9.75</td><td>0.4</td><td>0.36</td><td>4</td><td>ACT-CL J1401.0+0252</td><td>14:01:01.8</td><td>+02:52:32</td><td>0.25</td><td>15.23</td><td>2.98</td><td>3.44</td></tr>\n",
       "<tr><td>AbellS0780</td><td>P109</td><td>--</td><td>PSZ2 G340.94+35.07</td><td>51</td><td>23</td><td>14:59:34.5</td><td>-18:10:22</td><td>0.236</td><td>7.8</td><td>0.48</td><td>0.45</td><td>14:59:34.5</td><td>-18:10:22</td><td>0.24</td><td>7.8</td><td>0.48</td><td>0.45</td><td>--</td><td>--</td><td>--</td><td>--</td><td>--</td><td>--</td><td>--</td><td>--</td></tr>\n",
       "<tr><td>PSZ2 G341.16+34.81</td><td>--</td><td>--</td><td>PSZ2 G341.16+34.81</td><td>52</td><td>31</td><td>15:00:50.7</td><td>-18:16:31</td><td>0.39</td><td>7.42</td><td>0.65</td><td>0.64</td><td>15:00:50.7</td><td>-18:16:31</td><td>0.39</td><td>7.42</td><td>0.65</td><td>0.64</td><td>--</td><td>--</td><td>--</td><td>--</td><td>--</td><td>--</td><td>--</td><td>--</td></tr>\n",
       "<tr><td>PSZ2 G342.33-34.93</td><td>VHS</td><td>MeerKAT</td><td>PSZ2 G342.33-34.93</td><td>59</td><td>60</td><td>20:23:20.2</td><td>-55:35:26</td><td>0.232</td><td>9.5</td><td>1.85</td><td>2.14</td><td>20:23:24.7</td><td>-55:34:30</td><td>0.23</td><td>6.68</td><td>0.43</td><td>0.45</td><td>21</td><td>ACT-CL J2023.3-5535</td><td>20:23:20.2</td><td>-55:35:26</td><td>0.23</td><td>9.5</td><td>1.85</td><td>2.14</td></tr>\n",
       "<tr><td>RXC J1514.9-1523</td><td>GCAV</td><td>--</td><td>PSZ2 G346.61+35.06</td><td>54</td><td>11</td><td>15:15:00.5</td><td>-15:21:23</td><td>0.223</td><td>8.86</td><td>0.46</td><td>0.41</td><td>15:15:00.5</td><td>-15:21:23</td><td>0.22</td><td>8.86</td><td>0.46</td><td>0.41</td><td>--</td><td>--</td><td>--</td><td>--</td><td>--</td><td>--</td><td>--</td><td>--</td></tr>\n",
       "<tr><td>PSZ2 G347.17-27.36</td><td>VHS</td><td>--</td><td>PSZ2 G347.17-27.36</td><td>58</td><td>40</td><td>19:34:53.5</td><td>-50:52:40</td><td>0.237</td><td>7.19</td><td>0.46</td><td>0.44</td><td>19:34:53.5</td><td>-50:52:40</td><td>0.24</td><td>7.19</td><td>0.46</td><td>0.44</td><td>--</td><td>--</td><td>--</td><td>--</td><td>--</td><td>--</td><td>--</td><td>--</td></tr>\n",
       "<tr><td>PSZ2 G348.90-67.37</td><td>P109</td><td>MeerKAT</td><td>PSZ2 G348.90-67.37</td><td>62</td><td>39</td><td>23:25:12.2</td><td>-41:11:45</td><td>0.358</td><td>7.62</td><td>1.41</td><td>1.61</td><td>23:25:08.2</td><td>-41:12:42</td><td>0.36</td><td>7.19</td><td>0.45</td><td>0.49</td><td>49</td><td>ACT-CL J2325.2-4111</td><td>23:25:12.2</td><td>-41:11:45</td><td>0.36</td><td>7.62</td><td>1.41</td><td>1.61</td></tr>\n",
       "<tr><td>RXC J2248.7-4431</td><td>GCAV</td><td>CLASH-VLT MeerKAT</td><td>PSZ2 G349.46-59.95</td><td>61</td><td>3</td><td>22:48:49.2</td><td>-44:31:40</td><td>0.351</td><td>18.97</td><td>3.55</td><td>4.05</td><td>22:48:51.6</td><td>-44:31:33</td><td>0.35</td><td>11.36</td><td>0.34</td><td>0.34</td><td>0</td><td>ACT-CL J2248.8-4431</td><td>22:48:49.2</td><td>-44:31:40</td><td>0.35</td><td>18.97</td><td>3.55</td><td>4.05</td></tr>\n",
       "<tr><td>RXC J1504.1-0248</td><td>HiLx</td><td>--</td><td>PSZ2 G355.07+46.20</td><td>53</td><td>61</td><td>15:04:06.8</td><td>-02:48:22</td><td>0.217</td><td>11.27</td><td>2.24</td><td>2.6</td><td>15:04:05.4</td><td>-02:47:54</td><td>0.22</td><td>6.67</td><td>0.48</td><td>0.48</td><td>12</td><td>ACT-CL J1504.1-0248</td><td>15:04:06.8</td><td>-02:48:22</td><td>0.22</td><td>11.27</td><td>2.24</td><td>2.6</td></tr>\n",
       "</table></div>"
      ],
      "text/plain": [
       "<Table length=79>\n",
       "    CHANCES name    VISTA      Comments             name        index ...  dms_ACT   z_ACT  m500_ACT m500lo_ACT m500hi_ACT\n",
       "       str19         str4       str17              str19        int64 ...    str9   float64 float64   float64    float64  \n",
       "------------------- ----- ----------------- ------------------- ----- ... --------- ------- -------- ---------- ----------\n",
       " PSZ2 G304.84-41.40   SMC                --  PSZ2 G304.84-41.40    -- ...        --      --       --         --         --\n",
       "          Abell0907  HiLx                --  PSZ2 G249.38+33.26    -- ...        --      --       --         --         --\n",
       "          Abell0901  HiLx                --                  --    -- ...        --      --       --         --         --\n",
       "   RXC J0600.1-2007  GCAV                --  PSZ2 G225.93-19.99    -- ...        --      --       --         --         --\n",
       "  MACS J0553.4-3342  GCAV                --  PSZ2 G239.27-26.01    -- ...        --      --       --         --         --\n",
       "   RXC J1212.3-1816  HiLx                --                  --    -- ...        --      --       --         --         --\n",
       " PSZ2 G243.15-73.84  P109             WAVES  PSZ2 G243.15-73.84    -- ...        --      --       --         --         --\n",
       " PSZ2 G277.76-51.74  GCAV  SPT-ClJ0254.8587  PSZ2 G277.76-51.74    -- ...        --      --       --         --         --\n",
       " PSZ2 G201.50-27.31  GCAV           MS 0451  PSZ2 G201.50-27.31    -- ...        --      --       --         --         --\n",
       " PSZ2 G241.11-28.68  P108                --  PSZ2 G241.11-28.68    -- ...        --      --       --         --         --\n",
       " PSZ2 G337.12-66.02  P107                --  PSZ2 G337.12-66.02    -- ...        --      --       --         --         --\n",
       " PSZ2 G262.73-40.92  P108                --  PSZ2 G262.73-40.92    -- ...        --      --       --         --         --\n",
       " PSZ2 G205.93-39.46  P108           MeerKAT  PSZ2 G205.93-39.46    -- ...        --      --       --         --         --\n",
       "ACT-CL J0138.0-2155    --                -- ACT-CL J0138.0-2155     1 ... -21:55:36    0.34     6.34       1.22       1.41\n",
       "  MACS J0329.7-0211  P108         CLASH-VLT ACT-CL J0329.6-0211     8 ... -02:11:44    0.46     7.84       1.44       1.63\n",
       "ACT-CL J1311.0-0310    --                -- ACT-CL J1311.0-0310    40 ... -03:10:41    0.49     4.95       0.95       1.09\n",
       "       MACSJ0329-02    --                --        MACSJ0329-02    63 ...        --      --       --         --         --\n",
       "                ...   ...               ...                 ...   ... ...       ...     ...      ...        ...        ...\n",
       " PSZ2 G313.88-17.11    --                --  PSZ2 G313.88-17.11    55 ...        --      --       --         --         --\n",
       " PSZ2 G314.96+10.06    --                --  PSZ2 G314.96+10.06    49 ...        --      --       --         --         --\n",
       " PSZ2 G315.68-18.04    --                --  PSZ2 G315.68-18.04    56 ...        --      --       --         --         --\n",
       " PSZ2 G323.30+63.66    --                --  PSZ2 G323.30+63.66    44 ... +02:12:13    0.26     6.47       1.28       1.48\n",
       "   RXC J1347.5-1144  GCAV         CLASH-VLT  PSZ2 G324.04+48.79    46 ...        --      --       --         --         --\n",
       " PSZ2 G325.70+17.34  P109                --  PSZ2 G325.70+17.34    50 ...        --      --       --         --         --\n",
       " PSZ2 G333.89-43.60    --                --  PSZ2 G333.89-43.60    60 ...        --      --       --         --         --\n",
       " PSZ2 G337.14-25.98    --                --  PSZ2 G337.14-25.98    57 ... -59:28:02    0.26     7.83       1.53       1.77\n",
       " PSZ2 G340.36+60.58    --                --  PSZ2 G340.36+60.58    48 ... +02:52:32    0.25    15.23       2.98       3.44\n",
       "         AbellS0780  P109                --  PSZ2 G340.94+35.07    51 ...        --      --       --         --         --\n",
       " PSZ2 G341.16+34.81    --                --  PSZ2 G341.16+34.81    52 ...        --      --       --         --         --\n",
       " PSZ2 G342.33-34.93   VHS           MeerKAT  PSZ2 G342.33-34.93    59 ... -55:35:26    0.23      9.5       1.85       2.14\n",
       "   RXC J1514.9-1523  GCAV                --  PSZ2 G346.61+35.06    54 ...        --      --       --         --         --\n",
       " PSZ2 G347.17-27.36   VHS                --  PSZ2 G347.17-27.36    58 ...        --      --       --         --         --\n",
       " PSZ2 G348.90-67.37  P109           MeerKAT  PSZ2 G348.90-67.37    62 ... -41:11:45    0.36     7.62       1.41       1.61\n",
       "   RXC J2248.7-4431  GCAV CLASH-VLT MeerKAT  PSZ2 G349.46-59.95    61 ... -44:31:40    0.35    18.97       3.55       4.05\n",
       "   RXC J1504.1-0248  HiLx                --  PSZ2 G355.07+46.20    53 ... -02:48:22    0.22    11.27       2.24        2.6"
      ]
     },
     "execution_count": 75,
     "metadata": {},
     "output_type": "execute_result"
    }
   ],
   "source": [
    "chances = Table.read(f'catalogues/chances_clusters_{sample}_all.txt', format='ascii.fixed_width')\n",
    "if sample == 'lowz':\n",
    "    chances.rename_column('name', 'CHANCES name')\n",
    "chances"
   ]
  },
  {
   "cell_type": "code",
   "execution_count": 76,
   "metadata": {},
   "outputs": [
    {
     "name": "stdout",
     "output_type": "stream",
     "text": [
      "MCXC: 46 matches\n"
     ]
    },
    {
     "name": "stderr",
     "output_type": "stream",
     "text": [
      "/home/cristobal/anaconda3/envs/bluemembers/lib/python3.10/site-packages/astro/clusters/catalogs.py:391: VisibleDeprecationWarning: Creating an ndarray from ragged nested sequences (which is a list-or-tuple of lists-or-tuples-or ndarrays with different lengths or shapes) is deprecated. If you meant to do this, you must specify 'dtype=object' when creating the ndarray.\n",
      "  match = np.array([(d <= r) for d, r in zip(dist, radius)])\n"
     ]
    },
    {
     "data": {
      "text/plain": [
       "({'name': array(['J0958.3-1103', 'J0956.4-1004', 'J1212.3-1816', 'J0454.1-0300',\n",
       "         'J0417.5-1154', 'J0329.6-0211', 'J1311.0-0310', 'J0329.6-0211',\n",
       "         'J1311.0-0310', 'J0437.1+0043', 'J0454.1+0255', 'J0510.7-0801',\n",
       "         'J0454.1-1014', 'J0307.0-2840', 'J1023.6+0411', 'J0532.9-3701',\n",
       "         'J0841.9-1729', 'J0528.9-3927', 'J1115.8+0129', 'J0232.2-4420',\n",
       "         'J0516.6-5430', 'J0638.7-5358', 'J0645.4-5413', 'J0658.5-5556',\n",
       "         'J1023.8-2715', 'J1023.8-2715', 'J1131.9-1955', 'J1206.2-0848',\n",
       "         'J1203.2-2131', 'J0352.4-7401', 'J0303.7-7752', 'J1258.6-0145',\n",
       "         'J1317.1-3821', 'J1314.4-2515', 'J1311.5-0120', 'J1601.7-7544',\n",
       "         'J1407.8-5100', 'J1631.6-7507', 'J1347.5-1144', 'J1401.0+0252',\n",
       "         'J1459.4-1811', 'J2023.4-5535', 'J1514.9-1523', 'J1934.7-5053',\n",
       "         'J2248.7-4431', 'J1504.1-0248'], dtype='<U12'),\n",
       "  'ra': array([149.592, 149.11 , 183.079,  73.546,  64.393,  52.423, 197.758,\n",
       "          52.423, 197.758,  69.292,  73.546,  77.686,  73.538,  46.767,\n",
       "         155.912,  83.231, 130.478,  82.234, 168.975,  38.07 ,  79.158,\n",
       "          99.694, 101.372, 104.63 , 155.962, 155.962, 172.985, 181.552,\n",
       "         180.821,  58.123,  45.943, 194.671, 199.29 , 198.617, 197.875,\n",
       "         240.445, 211.969, 247.913, 206.875, 210.26 , 224.872, 305.852,\n",
       "         228.742, 293.697, 342.181, 226.032]),\n",
       "  'dec': array([-11.06 , -10.07 , -18.279,  -3.015, -11.908,  -2.196,  -3.177,\n",
       "          -2.196,  -3.177,   0.727,   2.918,  -8.018, -10.239, -28.671,\n",
       "           4.187, -37.024, -17.485, -39.463,   1.496, -44.347, -54.514,\n",
       "         -53.972, -54.219, -55.947, -27.258, -27.258, -19.927,  -8.806,\n",
       "         -21.523, -74.031, -77.869,  -1.757, -38.362, -25.261,  -1.335,\n",
       "         -75.746, -51.009, -75.122, -11.749,   2.88 , -18.187, -55.592,\n",
       "         -15.386, -50.897, -44.529,  -2.805]),\n",
       "  'z': array([0.1669, 0.1634, 0.269 , 0.5377, 0.443 , 0.45  , 0.494 , 0.45  ,\n",
       "         0.494 , 0.2842, 0.203 , 0.2195, 0.2475, 0.2537, 0.285 , 0.2708,\n",
       "         0.1687, 0.2839, 0.3499, 0.2836, 0.2952, 0.2266, 0.1644, 0.2965,\n",
       "         0.2542, 0.2542, 0.3075, 0.4414, 0.1992, 0.127 , 0.2742, 0.0845,\n",
       "         0.2553, 0.2439, 0.1832, 0.153 , 0.0966, 0.105 , 0.4516, 0.2528,\n",
       "         0.2357, 0.232 , 0.2226, 0.2371, 0.3475, 0.2153]),\n",
       "  'index': array([ 627,  621,  848,  354,  322,  269,  961,  269,  961,  338,  353,\n",
       "          371,  352,  246,  674,  395,  542,  389,  737,  203,  376,  448,\n",
       "          451,  455,  676,  676,  771,  838,  827,  306,  239,  939,  979,\n",
       "          975,  964, 1218, 1078, 1253, 1048, 1071, 1141, 1495, 1164, 1460,\n",
       "         1642, 1149]),\n",
       "  'dist': array([0.78003502, 0.        , 0.01572609, 0.82268806, 1.06679082,\n",
       "         0.13261333, 0.23821959, 0.22793062, 0.09251008, 0.39119393,\n",
       "         0.22030943, 0.7512004 , 0.97483709, 0.53653824, 0.05543449,\n",
       "         0.13138851, 1.66833275, 0.82276754, 0.64838467, 0.24731365,\n",
       "         1.27273127, 0.10156771, 0.26871749, 0.37932415, 0.61272944,\n",
       "         0.61272944, 0.77035865, 1.20250071, 0.2673013 , 1.70414668,\n",
       "         2.13024955, 0.55156447, 0.68753559, 0.82011427, 0.27127374,\n",
       "         0.67962972, 2.68441656, 1.74563697, 1.04537649, 0.30586663,\n",
       "         1.50513187, 0.61082864, 1.86998703, 1.51409145, 1.02919636,\n",
       "         0.22962684]),\n",
       "  'dz': array([], dtype=float64)},\n",
       " array([ 1,  2,  5,  8, 12, 14, 15, 16, 17, 18, 19, 21, 22, 27, 30, 31, 32,\n",
       "        33, 35, 36, 37, 39, 40, 41, 42, 43, 46, 47, 51, 52, 54, 55, 57, 59,\n",
       "        60, 62, 63, 64, 66, 70, 71, 73, 74, 75, 77, 78]))"
      ]
     },
     "execution_count": 76,
     "metadata": {},
     "output_type": "execute_result"
    }
   ],
   "source": [
    "mcxc_matches = catalogs.query(chances['hms'], chances['dms'], radius=3, catalogs='mcxc', squeeze=True)\n",
    "mcxc_matches"
   ]
  },
  {
   "cell_type": "code",
   "execution_count": 77,
   "metadata": {},
   "outputs": [
    {
     "data": {
      "text/html": [
       "<div><i>Table length=46</i>\n",
       "<table id=\"table140096927656272\" class=\"table-striped table-bordered table-condensed\">\n",
       "<thead><tr><th>MCXC</th><th>X-rays</th><th>AName</th><th>RAh</th><th>RAm</th><th>RAs</th><th>DE-</th><th>DEd</th><th>DEm</th><th>DEs</th><th>RAdeg</th><th>DEdeg</th><th>GLON</th><th>GLAT</th><th>z</th><th>X-ray catalog</th><th>Sub-Cat</th><th>Scale</th><th>L500_X</th><th>m500_X</th><th>r500_X</th><th>Notes</th><th>Cat1</th><th>Cat2</th><th>Cat3</th><th>Cat4</th><th>L500r1</th><th>L500r2</th><th>L500r3</th><th>L500r4</th><th>CHANCES name</th></tr></thead>\n",
       "<thead><tr><th>str12</th><th>str18</th><th>str54</th><th>int16</th><th>int16</th><th>float64</th><th>str1</th><th>int16</th><th>int16</th><th>int16</th><th>float64</th><th>float64</th><th>float64</th><th>float64</th><th>float64</th><th>str12</th><th>str12</th><th>float64</th><th>float64</th><th>float64</th><th>float64</th><th>str42</th><th>str12</th><th>str12</th><th>str12</th><th>str12</th><th>float64</th><th>float64</th><th>float64</th><th>float64</th><th>str19</th></tr></thead>\n",
       "<tr><td>J0958.3-1103</td><td>RXCJ0958.3-1103</td><td>A0907</td><td>9</td><td>58</td><td>22.2</td><td>-</td><td>11</td><td>3</td><td>35</td><td>149.592</td><td>-11.06</td><td>249.368</td><td>33.268</td><td>0.1669</td><td>NORAS/REFLEX</td><td>REFLEX</td><td>2.855</td><td>5.299925</td><td>5.0282</td><td>1.1448</td><td></td><td></td><td></td><td></td><td></td><td>0.0</td><td>0.0</td><td>0.0</td><td>0.0</td><td>Abell0907</td></tr>\n",
       "<tr><td>J0956.4-1004</td><td>RXCJ0956.4-1004</td><td>A0901</td><td>9</td><td>56</td><td>26.4</td><td>-</td><td>10</td><td>4</td><td>12</td><td>149.11</td><td>-10.07</td><td>248.112</td><td>33.591</td><td>0.1634</td><td>NORAS/REFLEX</td><td>REFLEX</td><td>2.806</td><td>5.629624</td><td>5.2302</td><td>1.1613</td><td>D,three maxima/NE-W-S (diffuse)</td><td></td><td></td><td></td><td></td><td>0.0</td><td>0.0</td><td>0.0</td><td>0.0</td><td>Abell0901</td></tr>\n",
       "<tr><td>J1212.3-1816</td><td>RXCJ1212.3-1816</td><td></td><td>12</td><td>12</td><td>18.9</td><td>-</td><td>18</td><td>16</td><td>43</td><td>183.079</td><td>-18.279</td><td>290.059</td><td>43.613</td><td>0.269</td><td>NORAS/REFLEX</td><td>REFLEX</td><td>4.124</td><td>5.644133</td><td>4.8327</td><td>1.0892</td><td>X</td><td></td><td></td><td></td><td></td><td>0.0</td><td>0.0</td><td>0.0</td><td>0.0</td><td>RXC J1212.3-1816</td></tr>\n",
       "<tr><td>J0454.1-0300</td><td>MACSJ0454.1-0300</td><td>MS 0451.6+0305</td><td>4</td><td>54</td><td>11.1</td><td>-</td><td>3</td><td>0</td><td>54</td><td>73.546</td><td>-3.015</td><td>201.497</td><td>-27.329</td><td>0.5377</td><td>MACS</td><td>MACS_DIST</td><td>6.339</td><td>15.352674</td><td>7.1338</td><td>1.1183</td><td></td><td>EMSS_2004</td><td></td><td></td><td></td><td>0.581</td><td>0.0</td><td>0.0</td><td>0.0</td><td>PSZ2 G201.50-27.31</td></tr>\n",
       "<tr><td>J0417.5-1154</td><td>MACSJ0417.5-1154</td><td></td><td>4</td><td>17</td><td>34.3</td><td>-</td><td>11</td><td>54</td><td>27</td><td>64.393</td><td>-11.908</td><td>205.943</td><td>-39.479</td><td>0.443</td><td>MACS</td><td>MACS_BRIGHT</td><td>5.708</td><td>29.1</td><td>22.1</td><td>1.69</td><td></td><td></td><td></td><td></td><td></td><td>0.0</td><td>0.0</td><td>0.0</td><td>0.0</td><td>PSZ2 G205.93-39.46</td></tr>\n",
       "<tr><td>J0329.6-0211</td><td>MACSJ0329.6-0211</td><td>MCS  J0329.6-0211</td><td>3</td><td>29</td><td>41.5</td><td>-</td><td>2</td><td>11</td><td>46</td><td>52.423</td><td>-2.196</td><td>186.444</td><td>-44.674</td><td>0.45</td><td>MACS</td><td>MACS_MJFV</td><td>5.759</td><td>13.573036</td><td>4.4622</td><td>0.99</td><td></td><td></td><td></td><td></td><td></td><td>0.0</td><td>0.0</td><td>0.0</td><td>0.0</td><td>MACS J0329.7-0211</td></tr>\n",
       "<tr><td>J1311.0-0310</td><td>MACSJ1311.0-0310</td><td>MCS  J1311.0-0310</td><td>13</td><td>11</td><td>1.9</td><td>-</td><td>3</td><td>10</td><td>36</td><td>197.758</td><td>-3.177</td><td>312.553</td><td>59.329</td><td>0.494</td><td>MACS</td><td>MACS_MJFV</td><td>6.065</td><td>7.240105</td><td>4.1524</td><td>0.95</td><td></td><td></td><td></td><td></td><td></td><td>0.0</td><td>0.0</td><td>0.0</td><td>0.0</td><td>ACT-CL J1311.0-0310</td></tr>\n",
       "<tr><td>J0329.6-0211</td><td>MACSJ0329.6-0211</td><td>MCS  J0329.6-0211</td><td>3</td><td>29</td><td>41.5</td><td>-</td><td>2</td><td>11</td><td>46</td><td>52.423</td><td>-2.196</td><td>186.444</td><td>-44.674</td><td>0.45</td><td>MACS</td><td>MACS_MJFV</td><td>5.759</td><td>13.573036</td><td>4.4622</td><td>0.99</td><td></td><td></td><td></td><td></td><td></td><td>0.0</td><td>0.0</td><td>0.0</td><td>0.0</td><td>MACSJ0329-02</td></tr>\n",
       "<tr><td>J1311.0-0310</td><td>MACSJ1311.0-0310</td><td>MCS  J1311.0-0310</td><td>13</td><td>11</td><td>1.9</td><td>-</td><td>3</td><td>10</td><td>36</td><td>197.758</td><td>-3.177</td><td>312.553</td><td>59.329</td><td>0.494</td><td>MACS</td><td>MACS_MJFV</td><td>6.065</td><td>7.240105</td><td>4.1524</td><td>0.95</td><td></td><td></td><td></td><td></td><td></td><td>0.0</td><td>0.0</td><td>0.0</td><td>0.0</td><td>MACS J1311.0-0311</td></tr>\n",
       "<tr><td>J0437.1+0043</td><td>RXCJ0437.1+0043</td><td>RXJ0437.1+0043</td><td>4</td><td>37</td><td>10.1</td><td></td><td>0</td><td>43</td><td>38</td><td>69.292</td><td>0.727</td><td>195.388</td><td>-29.095</td><td>0.2842</td><td>NORAS/REFLEX</td><td>REFLEX</td><td>4.289</td><td>8.094954</td><td>5.9496</td><td>1.1608</td><td></td><td>eBCS</td><td></td><td></td><td></td><td>0.907</td><td>0.0</td><td>0.0</td><td>0.0</td><td>PSZ2 G195.39-29.08</td></tr>\n",
       "<tr><td>J0454.1+0255</td><td>RXC J0454.1+0255</td><td>A0520</td><td>4</td><td>54</td><td>11.0</td><td></td><td>2</td><td>55</td><td>5</td><td>73.546</td><td>2.918</td><td>195.81</td><td>-24.328</td><td>0.203</td><td>NORAS/REFLEX</td><td>NORAS</td><td>3.338</td><td>8.30627</td><td>6.4364</td><td>1.2273</td><td></td><td>EMSS_1994</td><td>BCS</td><td></td><td></td><td>0.438</td><td>0.922</td><td>0.0</td><td>0.0</td><td>PSZ2 G195.75-24.32</td></tr>\n",
       "<tr><td>J0510.7-0801</td><td>RXCJ0510.7-0801</td><td></td><td>5</td><td>10</td><td>44.7</td><td>-</td><td>8</td><td>1</td><td>6</td><td>77.686</td><td>-8.018</td><td>208.598</td><td>-26.006</td><td>0.2195</td><td>NORAS/REFLEX</td><td>REFLEX</td><td>3.546</td><td>7.728559</td><td>6.0827</td><td>1.1974</td><td></td><td></td><td></td><td></td><td></td><td>0.0</td><td>0.0</td><td>0.0</td><td>0.0</td><td>PSZ2 G208.60-26.00</td></tr>\n",
       "<tr><td>J0454.1-1014</td><td>RXCJ0454.1-1014</td><td>A0521</td><td>4</td><td>54</td><td>9.1</td><td>-</td><td>10</td><td>14</td><td>19</td><td>73.538</td><td>-10.239</td><td>208.829</td><td>-30.66</td><td>0.2475</td><td>NORAS/REFLEX</td><td>REFLEX</td><td>3.881</td><td>7.44515</td><td>5.8187</td><td>1.1679</td><td></td><td></td><td></td><td></td><td></td><td>0.0</td><td>0.0</td><td>0.0</td><td>0.0</td><td>Abell0521</td></tr>\n",
       "<tr><td>J0307.0-2840</td><td>RXCJ0307.0-2840</td><td>A3088</td><td>3</td><td>7</td><td>4.1</td><td>-</td><td>28</td><td>40</td><td>14</td><td>46.767</td><td>-28.671</td><td>223.911</td><td>-60.094</td><td>0.2537</td><td>NORAS/REFLEX</td><td>REFLEX</td><td>3.953</td><td>6.258801</td><td>5.2091</td><td>1.1231</td><td></td><td>SGP</td><td></td><td></td><td></td><td>0.971</td><td>0.0</td><td>0.0</td><td>0.0</td><td>PSZ2 G223.93-60.10</td></tr>\n",
       "<tr><td>J1023.6+0411</td><td>RXC J1023.6+0411</td><td>Zw 1021.0+0426</td><td>10</td><td>23</td><td>38.8</td><td></td><td>4</td><td>11</td><td>11</td><td>155.912</td><td>4.187</td><td>239.4</td><td>47.958</td><td>0.285</td><td>NORAS/REFLEX</td><td>NORAS</td><td>4.298</td><td>18.098963</td><td>9.7115</td><td>1.3664</td><td></td><td>BCS</td><td></td><td></td><td></td><td>0.919</td><td>0.0</td><td>0.0</td><td>0.0</td><td>ZwCl 1021.0+0426</td></tr>\n",
       "<tr><td>J0532.9-3701</td><td>RXCJ0532.9-3701</td><td></td><td>5</td><td>32</td><td>55.5</td><td>-</td><td>37</td><td>1</td><td>28</td><td>83.231</td><td>-37.024</td><td>241.744</td><td>-30.881</td><td>0.2708</td><td>NORAS/REFLEX</td><td>REFLEX</td><td>4.144</td><td>6.197377</td><td>5.1091</td><td>1.1088</td><td></td><td></td><td></td><td></td><td></td><td>0.0</td><td>0.0</td><td>0.0</td><td>0.0</td><td>PSZ2 G241.76-30.88</td></tr>\n",
       "<tr><td>J0841.9-1729</td><td>RXC J0841.9-1729</td><td>A3411</td><td>8</td><td>41</td><td>54.7</td><td>-</td><td>17</td><td>29</td><td>5</td><td>130.478</td><td>-17.485</td><td>241.961</td><td>14.864</td><td>0.1687</td><td>CIZA</td><td>CIZAI</td><td>2.88</td><td>4.074893</td><td>4.2779</td><td>1.0841</td><td></td><td></td><td></td><td></td><td></td><td>0.0</td><td>0.0</td><td>0.0</td><td>0.0</td><td>PSZ2 G241.98+14.87</td></tr>\n",
       "<tr><td>...</td><td>...</td><td>...</td><td>...</td><td>...</td><td>...</td><td>...</td><td>...</td><td>...</td><td>...</td><td>...</td><td>...</td><td>...</td><td>...</td><td>...</td><td>...</td><td>...</td><td>...</td><td>...</td><td>...</td><td>...</td><td>...</td><td>...</td><td>...</td><td>...</td><td>...</td><td>...</td><td>...</td><td>...</td><td>...</td><td>...</td></tr>\n",
       "<tr><td>J0352.4-7401</td><td>MS0353.3-7411</td><td>A3186</td><td>3</td><td>52</td><td>29.5</td><td>-</td><td>74</td><td>1</td><td>51</td><td>58.123</td><td>-74.031</td><td>288.643</td><td>-37.642</td><td>0.127</td><td>EMSS</td><td>EMSS_1994</td><td>2.271</td><td>2.276006</td><td>3.092</td><td>0.9869</td><td></td><td></td><td></td><td></td><td></td><td>0.0</td><td>0.0</td><td>0.0</td><td>0.0</td><td>PSZ2 G288.63-37.66</td></tr>\n",
       "<tr><td>J0303.7-7752</td><td>RXCJ0303.7-7752</td><td></td><td>3</td><td>3</td><td>46.4</td><td>-</td><td>77</td><td>52</td><td>9</td><td>45.943</td><td>-77.869</td><td>294.668</td><td>-37.05</td><td>0.2742</td><td>NORAS/REFLEX</td><td>REFLEX</td><td>4.181</td><td>6.344215</td><td>5.1687</td><td>1.1117</td><td></td><td></td><td></td><td></td><td></td><td>0.0</td><td>0.0</td><td>0.0</td><td>0.0</td><td>PSZ2 G294.68-37.01</td></tr>\n",
       "<tr><td>J1258.6-0145</td><td>RXCJ1258.6-0145</td><td>A1650</td><td>12</td><td>58</td><td>41.1</td><td>-</td><td>1</td><td>45</td><td>25</td><td>194.671</td><td>-1.757</td><td>306.677</td><td>61.062</td><td>0.0845</td><td>NORAS/REFLEX</td><td>REFLEX</td><td>1.587</td><td>3.470646</td><td>4.1213</td><td>1.1015</td><td></td><td></td><td></td><td></td><td></td><td>0.0</td><td>0.0</td><td>0.0</td><td>0.0</td><td>PSZ2 G306.66+61.06</td></tr>\n",
       "<tr><td>J1317.1-3821</td><td>RXCJ1317.1-3821</td><td></td><td>13</td><td>17</td><td>9.6</td><td>-</td><td>38</td><td>21</td><td>42</td><td>199.29</td><td>-38.362</td><td>308.458</td><td>24.234</td><td>0.2553</td><td>NORAS/REFLEX</td><td>REFLEX</td><td>3.971</td><td>7.145512</td><td>5.6404</td><td>1.1526</td><td></td><td></td><td></td><td></td><td></td><td>0.0</td><td>0.0</td><td>0.0</td><td>0.0</td><td>PSZ2 G308.44+24.24</td></tr>\n",
       "<tr><td>J1314.4-2515</td><td>RXCJ1314.4-2515</td><td></td><td>13</td><td>14</td><td>28.0</td><td>-</td><td>25</td><td>15</td><td>41</td><td>198.617</td><td>-25.261</td><td>309.482</td><td>37.317</td><td>0.2439</td><td>NORAS/REFLEX</td><td>REFLEX</td><td>3.839</td><td>9.892675</td><td>6.9392</td><td>1.2401</td><td></td><td></td><td></td><td></td><td></td><td>0.0</td><td>0.0</td><td>0.0</td><td>0.0</td><td>RXC J1314.4-2515</td></tr>\n",
       "<tr><td>J1311.5-0120</td><td>RXCJ1311.4-0120</td><td>A1689</td><td>13</td><td>11</td><td>30.0</td><td>-</td><td>1</td><td>20</td><td>7</td><td>197.875</td><td>-1.335</td><td>313.361</td><td>61.129</td><td>0.1832</td><td>NORAS/REFLEX</td><td>REFLEX</td><td>3.078</td><td>12.524024</td><td>8.392</td><td>1.3502</td><td></td><td></td><td></td><td></td><td></td><td>0.0</td><td>0.0</td><td>0.0</td><td>0.0</td><td>PSZ2 G313.33+61.13</td></tr>\n",
       "<tr><td>J1601.7-7544</td><td>RXC J1601.7-7544</td><td></td><td>16</td><td>1</td><td>46.7</td><td>-</td><td>75</td><td>44</td><td>46</td><td>240.445</td><td>-75.746</td><td>313.896</td><td>-17.106</td><td>0.153</td><td>CIZA</td><td>CIZAI</td><td>2.658</td><td>8.707393</td><td>6.876</td><td>1.2768</td><td></td><td></td><td></td><td></td><td></td><td>0.0</td><td>0.0</td><td>0.0</td><td>0.0</td><td>PSZ2 G313.88-17.11</td></tr>\n",
       "<tr><td>J1407.8-5100</td><td>RXC J1407.8-5100</td><td></td><td>14</td><td>7</td><td>52.5</td><td>-</td><td>51</td><td>0</td><td>33</td><td>211.969</td><td>-51.009</td><td>315.007</td><td>10.062</td><td>0.0966</td><td>CIZA</td><td>CIZAI</td><td>1.789</td><td>3.918665</td><td>4.4006</td><td>1.1214</td><td></td><td></td><td></td><td></td><td></td><td>0.0</td><td>0.0</td><td>0.0</td><td>0.0</td><td>PSZ2 G314.96+10.06</td></tr>\n",
       "<tr><td>J1631.6-7507</td><td>RXC J1631.6-7507</td><td>A3628</td><td>16</td><td>31</td><td>39.1</td><td>-</td><td>75</td><td>7</td><td>20</td><td>247.913</td><td>-75.122</td><td>315.72</td><td>-18.047</td><td>0.105</td><td>CIZA</td><td>CIZAI</td><td>1.925</td><td>3.829575</td><td>4.3137</td><td>1.1109</td><td></td><td></td><td></td><td></td><td></td><td>0.0</td><td>0.0</td><td>0.0</td><td>0.0</td><td>PSZ2 G315.68-18.04</td></tr>\n",
       "<tr><td>J1347.5-1144</td><td>RXCJ1347.5-1144</td><td>RXJ1347.5-1145</td><td>13</td><td>47</td><td>30.0</td><td>-</td><td>11</td><td>44</td><td>56</td><td>206.875</td><td>-11.749</td><td>324.036</td><td>48.812</td><td>0.4516</td><td>NORAS/REFLEX</td><td>REFLEX</td><td>5.771</td><td>37.304424</td><td>13.1779</td><td>1.4195</td><td>losStr</td><td>MACS_BRIGHT</td><td></td><td></td><td></td><td>1.135</td><td>0.0</td><td>0.0</td><td>0.0</td><td>RXC J1347.5-1144</td></tr>\n",
       "<tr><td>J1401.0+0252</td><td>RXC J1401.0+0252</td><td>A1835</td><td>14</td><td>1</td><td>2.3</td><td></td><td>2</td><td>52</td><td>48</td><td>210.26</td><td>2.88</td><td>340.388</td><td>60.587</td><td>0.2528</td><td>NORAS/REFLEX</td><td>NORAS</td><td>3.942</td><td>19.721872</td><td>10.4956</td><td>1.4189</td><td></td><td>BCS</td><td></td><td></td><td></td><td>1.122</td><td>0.0</td><td>0.0</td><td>0.0</td><td>PSZ2 G340.36+60.58</td></tr>\n",
       "<tr><td>J1459.4-1811</td><td>RXCJ1459.4-1811</td><td>S0780</td><td>14</td><td>59</td><td>29.3</td><td>-</td><td>18</td><td>11</td><td>13</td><td>224.872</td><td>-18.187</td><td>340.91</td><td>35.074</td><td>0.2357</td><td>NORAS/REFLEX</td><td>REFLEX</td><td>3.743</td><td>13.967532</td><td>8.618</td><td>1.337</td><td></td><td></td><td></td><td></td><td></td><td>0.0</td><td>0.0</td><td>0.0</td><td>0.0</td><td>AbellS0780</td></tr>\n",
       "<tr><td>J2023.4-5535</td><td>RXCJ2023.4-5535</td><td></td><td>20</td><td>23</td><td>24.5</td><td>-</td><td>55</td><td>35</td><td>32</td><td>305.852</td><td>-55.592</td><td>342.317</td><td>-34.935</td><td>0.232</td><td>NORAS/REFLEX</td><td>REFLEX</td><td>3.698</td><td>4.609207</td><td>4.396</td><td>1.0697</td><td></td><td></td><td></td><td></td><td></td><td>0.0</td><td>0.0</td><td>0.0</td><td>0.0</td><td>PSZ2 G342.33-34.93</td></tr>\n",
       "<tr><td>J1514.9-1523</td><td>RXCJ1514.9-1523</td><td></td><td>15</td><td>14</td><td>58.0</td><td>-</td><td>15</td><td>23</td><td>10</td><td>228.742</td><td>-15.386</td><td>346.585</td><td>35.048</td><td>0.2226</td><td>NORAS/REFLEX</td><td>REFLEX</td><td>3.584</td><td>6.427656</td><td>5.4232</td><td>1.1511</td><td></td><td></td><td></td><td></td><td></td><td>0.0</td><td>0.0</td><td>0.0</td><td>0.0</td><td>RXC J1514.9-1523</td></tr>\n",
       "<tr><td>J1934.7-5053</td><td>RXCJ1934.7-5053</td><td>S0821</td><td>19</td><td>34</td><td>47.3</td><td>-</td><td>50</td><td>53</td><td>49</td><td>293.697</td><td>-50.897</td><td>347.152</td><td>-27.348</td><td>0.2371</td><td>NORAS/REFLEX</td><td>REFLEX</td><td>3.759</td><td>5.672293</td><td>4.9694</td><td>1.1123</td><td></td><td></td><td></td><td></td><td></td><td>0.0</td><td>0.0</td><td>0.0</td><td>0.0</td><td>PSZ2 G347.17-27.36</td></tr>\n",
       "<tr><td>J2248.7-4431</td><td>RXCJ2248.7-4431</td><td>S1063</td><td>22</td><td>48</td><td>43.5</td><td>-</td><td>44</td><td>31</td><td>44</td><td>342.181</td><td>-44.529</td><td>349.483</td><td>-59.933</td><td>0.3475</td><td>NORAS/REFLEX</td><td>REFLEX</td><td>4.917</td><td>27.166569</td><td>11.8328</td><td>1.4256</td><td></td><td>SGP</td><td></td><td></td><td></td><td>1.077</td><td>0.0</td><td>0.0</td><td>0.0</td><td>RXC J2248.7-4431</td></tr>\n",
       "<tr><td>J1504.1-0248</td><td>RXCJ1504.1-0248</td><td></td><td>15</td><td>4</td><td>7.7</td><td>-</td><td>2</td><td>48</td><td>18</td><td>226.032</td><td>-2.805</td><td>355.076</td><td>46.198</td><td>0.2153</td><td>NORAS/REFLEX</td><td>REFLEX</td><td>3.494</td><td>24.968847</td><td>12.475</td><td>1.5235</td><td>X</td><td></td><td></td><td></td><td></td><td>0.0</td><td>0.0</td><td>0.0</td><td>0.0</td><td>RXC J1504.1-0248</td></tr>\n",
       "</table></div>"
      ],
      "text/plain": [
       "<Table length=46>\n",
       "    MCXC           X-rays                               AName                          ...  L500r3  L500r4     CHANCES name   \n",
       "   str12           str18                                str54                          ... float64 float64        str19       \n",
       "------------ ------------------ ------------------------------------------------------ ... ------- ------- -------------------\n",
       "J0958.3-1103 RXCJ0958.3-1103    A0907                                                  ...     0.0     0.0           Abell0907\n",
       "J0956.4-1004 RXCJ0956.4-1004    A0901                                                  ...     0.0     0.0           Abell0901\n",
       "J1212.3-1816 RXCJ1212.3-1816                                                           ...     0.0     0.0    RXC J1212.3-1816\n",
       "J0454.1-0300 MACSJ0454.1-0300   MS 0451.6+0305                                         ...     0.0     0.0  PSZ2 G201.50-27.31\n",
       "J0417.5-1154 MACSJ0417.5-1154                                                          ...     0.0     0.0  PSZ2 G205.93-39.46\n",
       "J0329.6-0211 MACSJ0329.6-0211   MCS  J0329.6-0211                                      ...     0.0     0.0   MACS J0329.7-0211\n",
       "J1311.0-0310 MACSJ1311.0-0310   MCS  J1311.0-0310                                      ...     0.0     0.0 ACT-CL J1311.0-0310\n",
       "J0329.6-0211 MACSJ0329.6-0211   MCS  J0329.6-0211                                      ...     0.0     0.0        MACSJ0329-02\n",
       "J1311.0-0310 MACSJ1311.0-0310   MCS  J1311.0-0310                                      ...     0.0     0.0   MACS J1311.0-0311\n",
       "J0437.1+0043 RXCJ0437.1+0043    RXJ0437.1+0043                                         ...     0.0     0.0  PSZ2 G195.39-29.08\n",
       "J0454.1+0255 RXC J0454.1+0255   A0520                                                  ...     0.0     0.0  PSZ2 G195.75-24.32\n",
       "J0510.7-0801 RXCJ0510.7-0801                                                           ...     0.0     0.0  PSZ2 G208.60-26.00\n",
       "J0454.1-1014 RXCJ0454.1-1014    A0521                                                  ...     0.0     0.0           Abell0521\n",
       "J0307.0-2840 RXCJ0307.0-2840    A3088                                                  ...     0.0     0.0  PSZ2 G223.93-60.10\n",
       "J1023.6+0411 RXC J1023.6+0411   Zw 1021.0+0426                                         ...     0.0     0.0    ZwCl 1021.0+0426\n",
       "J0532.9-3701 RXCJ0532.9-3701                                                           ...     0.0     0.0  PSZ2 G241.76-30.88\n",
       "J0841.9-1729 RXC J0841.9-1729   A3411                                                  ...     0.0     0.0  PSZ2 G241.98+14.87\n",
       "         ...                ...                                                    ... ...     ...     ...                 ...\n",
       "J0352.4-7401 MS0353.3-7411      A3186                                                  ...     0.0     0.0  PSZ2 G288.63-37.66\n",
       "J0303.7-7752 RXCJ0303.7-7752                                                           ...     0.0     0.0  PSZ2 G294.68-37.01\n",
       "J1258.6-0145 RXCJ1258.6-0145    A1650                                                  ...     0.0     0.0  PSZ2 G306.66+61.06\n",
       "J1317.1-3821 RXCJ1317.1-3821                                                           ...     0.0     0.0  PSZ2 G308.44+24.24\n",
       "J1314.4-2515 RXCJ1314.4-2515                                                           ...     0.0     0.0    RXC J1314.4-2515\n",
       "J1311.5-0120 RXCJ1311.4-0120    A1689                                                  ...     0.0     0.0  PSZ2 G313.33+61.13\n",
       "J1601.7-7544 RXC J1601.7-7544                                                          ...     0.0     0.0  PSZ2 G313.88-17.11\n",
       "J1407.8-5100 RXC J1407.8-5100                                                          ...     0.0     0.0  PSZ2 G314.96+10.06\n",
       "J1631.6-7507 RXC J1631.6-7507   A3628                                                  ...     0.0     0.0  PSZ2 G315.68-18.04\n",
       "J1347.5-1144 RXCJ1347.5-1144    RXJ1347.5-1145                                         ...     0.0     0.0    RXC J1347.5-1144\n",
       "J1401.0+0252 RXC J1401.0+0252   A1835                                                  ...     0.0     0.0  PSZ2 G340.36+60.58\n",
       "J1459.4-1811 RXCJ1459.4-1811    S0780                                                  ...     0.0     0.0          AbellS0780\n",
       "J2023.4-5535 RXCJ2023.4-5535                                                           ...     0.0     0.0  PSZ2 G342.33-34.93\n",
       "J1514.9-1523 RXCJ1514.9-1523                                                           ...     0.0     0.0    RXC J1514.9-1523\n",
       "J1934.7-5053 RXCJ1934.7-5053    S0821                                                  ...     0.0     0.0  PSZ2 G347.17-27.36\n",
       "J2248.7-4431 RXCJ2248.7-4431    S1063                                                  ...     0.0     0.0    RXC J2248.7-4431\n",
       "J1504.1-0248 RXCJ1504.1-0248                                                           ...     0.0     0.0    RXC J1504.1-0248"
      ]
     },
     "execution_count": 77,
     "metadata": {},
     "output_type": "execute_result"
    }
   ],
   "source": [
    "mcxc = catalogs.load('mcxc', indices=mcxc_matches[0]['index'])\n",
    "mcxc['CHANCES name'] = chances['CHANCES name'][mcxc_matches[1]]\n",
    "mcxc.rename_columns(['OName', 'Cat', 'L500', 'M500', 'R500'], ['X-rays', 'X-ray catalog', 'L500_X', 'm500_X', 'r500_X'])\n",
    "mcxc"
   ]
  },
  {
   "cell_type": "markdown",
   "metadata": {},
   "source": [
    "# Joint SZ+X-rays catalogue"
   ]
  },
  {
   "cell_type": "code",
   "execution_count": 78,
   "metadata": {},
   "outputs": [
    {
     "data": {
      "text/html": [
       "<div><i>Table length=79</i>\n",
       "<table id=\"table140096927657280\" class=\"table-striped table-bordered table-condensed\">\n",
       "<thead><tr><th>CHANCES name</th><th>VISTA</th><th>Comments</th><th>name</th><th>index</th><th>index_PSZ</th><th>hms</th><th>dms</th><th>z</th><th>m500</th><th>m500lo</th><th>m500hi</th><th>hms_PSZ</th><th>dms_PSZ</th><th>z_PSZ</th><th>m500_PSZ</th><th>m500lo_PSZ</th><th>m500hi_PSZ</th><th>index_ACT</th><th>ACT_name</th><th>hms_ACT</th><th>dms_ACT</th><th>z_ACT</th><th>m500_ACT</th><th>m500lo_ACT</th><th>m500hi_ACT</th><th>MCXC</th><th>X-rays</th><th>X-ray catalog</th><th>L500_X</th><th>m500_X</th><th>r500_X</th></tr></thead>\n",
       "<thead><tr><th>str19</th><th>str4</th><th>str17</th><th>str19</th><th>int64</th><th>int64</th><th>str10</th><th>str9</th><th>float64</th><th>float64</th><th>float64</th><th>float64</th><th>str10</th><th>str9</th><th>float64</th><th>float64</th><th>float64</th><th>float64</th><th>int64</th><th>str19</th><th>str10</th><th>str9</th><th>float64</th><th>float64</th><th>float64</th><th>float64</th><th>str12</th><th>str18</th><th>str12</th><th>float64</th><th>float64</th><th>float64</th></tr></thead>\n",
       "<tr><td>ACT-CL J0138.0-2155</td><td>--</td><td>--</td><td>ACT-CL J0138.0-2155</td><td>1</td><td>--</td><td>01:38:05.1</td><td>-21:55:36</td><td>0.338</td><td>6.34</td><td>1.22</td><td>1.41</td><td>--</td><td>--</td><td>--</td><td>--</td><td>--</td><td>--</td><td>81</td><td>ACT-CL J0138.0-2155</td><td>01:38:05.1</td><td>-21:55:36</td><td>0.34</td><td>6.34</td><td>1.22</td><td>1.41</td><td>--</td><td>--</td><td>--</td><td>--</td><td>--</td><td>--</td></tr>\n",
       "<tr><td>ACT-CL J1311.0-0310</td><td>--</td><td>--</td><td>ACT-CL J1311.0-0310</td><td>40</td><td>--</td><td>13:11:01.0</td><td>-03:10:41</td><td>0.491</td><td>4.95</td><td>0.95</td><td>1.09</td><td>--</td><td>--</td><td>--</td><td>--</td><td>--</td><td>--</td><td>184</td><td>ACT-CL J1311.0-0310</td><td>13:11:01.0</td><td>-03:10:41</td><td>0.49</td><td>4.95</td><td>0.95</td><td>1.09</td><td>J1311.0-0310</td><td>MACSJ1311.0-0310</td><td>MACS</td><td>7.240105</td><td>4.1524</td><td>0.95</td></tr>\n",
       "<tr><td>Abell0521</td><td>HiLx</td><td>MeerKAT</td><td>PSZ2 G208.80-30.67</td><td>14</td><td>37</td><td>04:54:08.9</td><td>-10:13:22</td><td>0.253</td><td>6.61</td><td>1.34</td><td>1.57</td><td>04:54:05.0</td><td>-10:13:34</td><td>0.25</td><td>7.26</td><td>0.49</td><td>0.47</td><td>68</td><td>ACT-CL J0454.1-1013</td><td>04:54:08.9</td><td>-10:13:22</td><td>0.25</td><td>6.61</td><td>1.34</td><td>1.57</td><td>J0454.1-1014</td><td>RXCJ0454.1-1014</td><td>NORAS/REFLEX</td><td>7.44515</td><td>5.8187</td><td>1.1679</td></tr>\n",
       "<tr><td>Abell0901</td><td>HiLx</td><td>--</td><td>--</td><td>--</td><td>--</td><td>09:56:26.4</td><td>-10:04:12</td><td>0.163</td><td>--</td><td>--</td><td>--</td><td>--</td><td>--</td><td>--</td><td>--</td><td>--</td><td>--</td><td>--</td><td>--</td><td>--</td><td>--</td><td>--</td><td>--</td><td>--</td><td>--</td><td>J0956.4-1004</td><td>RXCJ0956.4-1004</td><td>NORAS/REFLEX</td><td>5.629624</td><td>5.2302</td><td>1.1613</td></tr>\n",
       "<tr><td>Abell0907</td><td>HiLx</td><td>--</td><td>PSZ2 G249.38+33.26</td><td>--</td><td>--</td><td>09:58:24.4</td><td>-11:04:08</td><td>0.167</td><td>5.41</td><td>0.37</td><td>0.33</td><td>09:58:24.4</td><td>-11:04:08</td><td>0.17</td><td>5.41</td><td>0.37</td><td>0.33</td><td>--</td><td>--</td><td>--</td><td>--</td><td>--</td><td>--</td><td>--</td><td>--</td><td>J0958.3-1103</td><td>RXCJ0958.3-1103</td><td>NORAS/REFLEX</td><td>5.299925</td><td>5.0282</td><td>1.1448</td></tr>\n",
       "<tr><td>Abell1300</td><td>GCAV</td><td>--</td><td>PSZ2 G278.58+39.16</td><td>34</td><td>9</td><td>11:31:56.5</td><td>-19:54:51</td><td>0.308</td><td>8.97</td><td>0.45</td><td>0.46</td><td>11:31:56.5</td><td>-19:54:51</td><td>0.31</td><td>8.97</td><td>0.45</td><td>0.46</td><td>--</td><td>--</td><td>--</td><td>--</td><td>--</td><td>--</td><td>--</td><td>--</td><td>J1131.9-1955</td><td>RXCJ1131.9-1955</td><td>NORAS/REFLEX</td><td>12.461967</td><td>7.598</td><td>1.2485</td></tr>\n",
       "<tr><td>Abell1451</td><td>HiLx</td><td>--</td><td>PSZ2 G288.27+39.97</td><td>37</td><td>41</td><td>12:03:18.1</td><td>-21:31:29</td><td>0.199</td><td>7.16</td><td>0.33</td><td>0.28</td><td>12:03:18.1</td><td>-21:31:29</td><td>0.2</td><td>7.16</td><td>0.33</td><td>0.28</td><td>--</td><td>--</td><td>--</td><td>--</td><td>--</td><td>--</td><td>--</td><td>--</td><td>J1203.2-2131</td><td>RXCJ1203.2-2131</td><td>NORAS/REFLEX</td><td>6.614737</td><td>5.6182</td><td>1.1745</td></tr>\n",
       "<tr><td>Abell3444</td><td>P109</td><td>--</td><td>PSZ2 G266.83+25.08</td><td>32</td><td>34</td><td>10:23:53.1</td><td>-27:15:07</td><td>0.254</td><td>7.37</td><td>0.37</td><td>0.36</td><td>10:23:53.1</td><td>-27:15:07</td><td>0.25</td><td>7.37</td><td>0.37</td><td>0.36</td><td>--</td><td>--</td><td>--</td><td>--</td><td>--</td><td>--</td><td>--</td><td>--</td><td>J1023.8-2715</td><td>RXCJ1023.8-2715</td><td>NORAS/REFLEX</td><td>11.91962</td><td>7.7124</td><td>1.2798</td></tr>\n",
       "<tr><td>AbellS0780</td><td>P109</td><td>--</td><td>PSZ2 G340.94+35.07</td><td>51</td><td>23</td><td>14:59:34.5</td><td>-18:10:22</td><td>0.236</td><td>7.8</td><td>0.48</td><td>0.45</td><td>14:59:34.5</td><td>-18:10:22</td><td>0.24</td><td>7.8</td><td>0.48</td><td>0.45</td><td>--</td><td>--</td><td>--</td><td>--</td><td>--</td><td>--</td><td>--</td><td>--</td><td>J1459.4-1811</td><td>RXCJ1459.4-1811</td><td>NORAS/REFLEX</td><td>13.967532</td><td>8.618</td><td>1.337</td></tr>\n",
       "<tr><td>ClG 0657-56</td><td>P108</td><td>MeerKAT</td><td>PSZ2 G266.04-21.25</td><td>23</td><td>1</td><td>06:58:32.3</td><td>-55:57:10</td><td>0.296</td><td>16.06</td><td>3.05</td><td>3.49</td><td>06:58:31.6</td><td>-55:57:42</td><td>0.3</td><td>13.1</td><td>0.29</td><td>0.29</td><td>1</td><td>ACT-CL J0658.5-5557</td><td>06:58:32.3</td><td>-55:57:10</td><td>0.3</td><td>16.06</td><td>3.05</td><td>3.49</td><td>J0658.5-5556</td><td>RXCJ0658.5-5556</td><td>NORAS/REFLEX</td><td>20.425901</td><td>10.3599</td><td>1.3902</td></tr>\n",
       "<tr><td>MACS J0329.7-0211</td><td>P108</td><td>CLASH-VLT</td><td>ACT-CL J0329.6-0211</td><td>8</td><td>--</td><td>03:29:41.0</td><td>-02:11:44</td><td>0.459</td><td>7.84</td><td>1.44</td><td>1.63</td><td>--</td><td>--</td><td>--</td><td>--</td><td>--</td><td>--</td><td>44</td><td>ACT-CL J0329.6-0211</td><td>03:29:41.0</td><td>-02:11:44</td><td>0.46</td><td>7.84</td><td>1.44</td><td>1.63</td><td>J0329.6-0211</td><td>MACSJ0329.6-0211</td><td>MACS</td><td>13.573036</td><td>4.4622</td><td>0.99</td></tr>\n",
       "<tr><td>MACS J0416.1-2403</td><td>GCAV</td><td>CLASH-VLT</td><td>PSZ2 G221.06-44.05</td><td>11</td><td>562</td><td>04:16:09.1</td><td>-24:04:16</td><td>0.396</td><td>10.52</td><td>1.92</td><td>2.18</td><td>04:16:08.4</td><td>-24:03:15</td><td>-1.0</td><td>0.0</td><td>0.0</td><td>0.0</td><td>17</td><td>ACT-CL J0416.1-2404</td><td>04:16:09.1</td><td>-24:04:16</td><td>0.4</td><td>10.52</td><td>1.92</td><td>2.18</td><td>--</td><td>--</td><td>--</td><td>--</td><td>--</td><td>--</td></tr>\n",
       "<tr><td>MACS J0553.4-3342</td><td>GCAV</td><td>--</td><td>PSZ2 G239.27-26.01</td><td>--</td><td>--</td><td>05:53:23.6</td><td>-33:42:07</td><td>0.43</td><td>8.77</td><td>0.46</td><td>0.44</td><td>05:53:23.6</td><td>-33:42:07</td><td>0.43</td><td>8.77</td><td>0.46</td><td>0.44</td><td>--</td><td>--</td><td>--</td><td>--</td><td>--</td><td>--</td><td>--</td><td>--</td><td>--</td><td>--</td><td>--</td><td>--</td><td>--</td><td>--</td></tr>\n",
       "<tr><td>MACS J1115.9+0129</td><td>P109</td><td>WAVES CLASH-VLT</td><td>PSZ2 G257.09+55.61</td><td>33</td><td>49</td><td>11:15:51.5</td><td>+01:29:56</td><td>0.356</td><td>9.8</td><td>1.82</td><td>2.06</td><td>11:15:47.8</td><td>+01:29:46</td><td>0.35</td><td>6.86</td><td>0.54</td><td>0.53</td><td>20</td><td>ACT-CL J1115.8+0129</td><td>11:15:51.5</td><td>+01:29:56</td><td>0.36</td><td>9.8</td><td>1.82</td><td>2.06</td><td>J1115.8+0129</td><td>RXCJ1115.8+0129</td><td>NORAS/REFLEX</td><td>12.258363</td><td>7.2696</td><td>1.2108</td></tr>\n",
       "<tr><td>MACS J1206.2-0847</td><td>P109</td><td>CLASH-VLT</td><td>PSZ2 G284.41+52.45</td><td>38</td><td>4</td><td>12:06:14.9</td><td>-08:47:19</td><td>0.441</td><td>11.18</td><td>0.48</td><td>0.48</td><td>12:06:14.9</td><td>-08:47:19</td><td>0.44</td><td>11.18</td><td>0.48</td><td>0.48</td><td>--</td><td>--</td><td>--</td><td>--</td><td>--</td><td>--</td><td>--</td><td>--</td><td>J1206.2-0848</td><td>RXCJ1206.2-0848</td><td>NORAS/REFLEX</td><td>17.58485</td><td>8.4019</td><td>1.2266</td></tr>\n",
       "<tr><td>MACS J1311.0-0311</td><td>P109</td><td>CLASH-VLT</td><td>MACSJ1311-03</td><td>64</td><td>--</td><td>13:11:01.6</td><td>-03:10:40</td><td>0.494</td><td>--</td><td>--</td><td>--</td><td>--</td><td>--</td><td>--</td><td>--</td><td>--</td><td>--</td><td>--</td><td>--</td><td>--</td><td>--</td><td>--</td><td>--</td><td>--</td><td>--</td><td>J1311.0-0310</td><td>MACSJ1311.0-0310</td><td>MACS</td><td>7.240105</td><td>4.1524</td><td>0.95</td></tr>\n",
       "<tr><td>MACSJ0329-02</td><td>--</td><td>--</td><td>MACSJ0329-02</td><td>63</td><td>--</td><td>03:29:40.8</td><td>-02:11:54</td><td>0.45</td><td>--</td><td>--</td><td>--</td><td>--</td><td>--</td><td>--</td><td>--</td><td>--</td><td>--</td><td>--</td><td>--</td><td>--</td><td>--</td><td>--</td><td>--</td><td>--</td><td>--</td><td>J0329.6-0211</td><td>MACSJ0329.6-0211</td><td>MACS</td><td>13.573036</td><td>4.4622</td><td>0.99</td></tr>\n",
       "<tr><td>...</td><td>...</td><td>...</td><td>...</td><td>...</td><td>...</td><td>...</td><td>...</td><td>...</td><td>...</td><td>...</td><td>...</td><td>...</td><td>...</td><td>...</td><td>...</td><td>...</td><td>...</td><td>...</td><td>...</td><td>...</td><td>...</td><td>...</td><td>...</td><td>...</td><td>...</td><td>...</td><td>...</td><td>...</td><td>...</td><td>...</td><td>...</td></tr>\n",
       "<tr><td>PSZ2 G325.70+17.34</td><td>P109</td><td>--</td><td>PSZ2 G325.70+17.34</td><td>50</td><td>28</td><td>14:47:26.6</td><td>-40:20:44</td><td>0.315</td><td>7.57</td><td>0.57</td><td>0.51</td><td>14:47:26.6</td><td>-40:20:44</td><td>0.32</td><td>7.57</td><td>0.57</td><td>0.51</td><td>--</td><td>--</td><td>--</td><td>--</td><td>--</td><td>--</td><td>--</td><td>--</td><td>--</td><td>--</td><td>--</td><td>--</td><td>--</td><td>--</td></tr>\n",
       "<tr><td>PSZ2 G333.89-43.60</td><td>--</td><td>--</td><td>PSZ2 G333.89-43.60</td><td>60</td><td>62</td><td>21:37:49.7</td><td>-60:07:12</td><td>0.318</td><td>6.66</td><td>0.51</td><td>0.47</td><td>21:37:49.7</td><td>-60:07:12</td><td>0.32</td><td>6.66</td><td>0.51</td><td>0.47</td><td>--</td><td>--</td><td>--</td><td>--</td><td>--</td><td>--</td><td>--</td><td>--</td><td>--</td><td>--</td><td>--</td><td>--</td><td>--</td><td>--</td></tr>\n",
       "<tr><td>PSZ2 G337.12-66.02</td><td>P107</td><td>--</td><td>PSZ2 G337.12-66.02</td><td>--</td><td>--</td><td>23:35:05.4</td><td>-45:42:28</td><td>0.547</td><td>7.12</td><td>0.59</td><td>0.56</td><td>23:35:05.4</td><td>-45:42:28</td><td>0.55</td><td>7.12</td><td>0.59</td><td>0.56</td><td>--</td><td>--</td><td>--</td><td>--</td><td>--</td><td>--</td><td>--</td><td>--</td><td>--</td><td>--</td><td>--</td><td>--</td><td>--</td><td>--</td></tr>\n",
       "<tr><td>PSZ2 G337.14-25.98</td><td>--</td><td>--</td><td>PSZ2 G337.14-25.98</td><td>57</td><td>67</td><td>19:14:38.2</td><td>-59:28:02</td><td>0.264</td><td>7.83</td><td>1.53</td><td>1.77</td><td>19:14:28.6</td><td>-59:28:19</td><td>0.26</td><td>6.58</td><td>0.51</td><td>0.47</td><td>45</td><td>ACT-CL J1914.6-5928</td><td>19:14:38.2</td><td>-59:28:02</td><td>0.26</td><td>7.83</td><td>1.53</td><td>1.77</td><td>--</td><td>--</td><td>--</td><td>--</td><td>--</td><td>--</td></tr>\n",
       "<tr><td>PSZ2 G340.36+60.58</td><td>--</td><td>--</td><td>PSZ2 G340.36+60.58</td><td>48</td><td>7</td><td>14:01:01.8</td><td>+02:52:32</td><td>0.252</td><td>15.23</td><td>2.98</td><td>3.44</td><td>14:01:00.7</td><td>+02:52:14</td><td>0.25</td><td>9.75</td><td>0.4</td><td>0.36</td><td>4</td><td>ACT-CL J1401.0+0252</td><td>14:01:01.8</td><td>+02:52:32</td><td>0.25</td><td>15.23</td><td>2.98</td><td>3.44</td><td>J1401.0+0252</td><td>RXC J1401.0+0252</td><td>NORAS/REFLEX</td><td>19.721872</td><td>10.4956</td><td>1.4189</td></tr>\n",
       "<tr><td>PSZ2 G341.16+34.81</td><td>--</td><td>--</td><td>PSZ2 G341.16+34.81</td><td>52</td><td>31</td><td>15:00:50.7</td><td>-18:16:31</td><td>0.39</td><td>7.42</td><td>0.65</td><td>0.64</td><td>15:00:50.7</td><td>-18:16:31</td><td>0.39</td><td>7.42</td><td>0.65</td><td>0.64</td><td>--</td><td>--</td><td>--</td><td>--</td><td>--</td><td>--</td><td>--</td><td>--</td><td>--</td><td>--</td><td>--</td><td>--</td><td>--</td><td>--</td></tr>\n",
       "<tr><td>PSZ2 G342.33-34.93</td><td>VHS</td><td>MeerKAT</td><td>PSZ2 G342.33-34.93</td><td>59</td><td>60</td><td>20:23:20.2</td><td>-55:35:26</td><td>0.232</td><td>9.5</td><td>1.85</td><td>2.14</td><td>20:23:24.7</td><td>-55:34:30</td><td>0.23</td><td>6.68</td><td>0.43</td><td>0.45</td><td>21</td><td>ACT-CL J2023.3-5535</td><td>20:23:20.2</td><td>-55:35:26</td><td>0.23</td><td>9.5</td><td>1.85</td><td>2.14</td><td>J2023.4-5535</td><td>RXCJ2023.4-5535</td><td>NORAS/REFLEX</td><td>4.609207</td><td>4.396</td><td>1.0697</td></tr>\n",
       "<tr><td>PSZ2 G347.17-27.36</td><td>VHS</td><td>--</td><td>PSZ2 G347.17-27.36</td><td>58</td><td>40</td><td>19:34:53.5</td><td>-50:52:40</td><td>0.237</td><td>7.19</td><td>0.46</td><td>0.44</td><td>19:34:53.5</td><td>-50:52:40</td><td>0.24</td><td>7.19</td><td>0.46</td><td>0.44</td><td>--</td><td>--</td><td>--</td><td>--</td><td>--</td><td>--</td><td>--</td><td>--</td><td>J1934.7-5053</td><td>RXCJ1934.7-5053</td><td>NORAS/REFLEX</td><td>5.672293</td><td>4.9694</td><td>1.1123</td></tr>\n",
       "<tr><td>PSZ2 G348.90-67.37</td><td>P109</td><td>MeerKAT</td><td>PSZ2 G348.90-67.37</td><td>62</td><td>39</td><td>23:25:12.2</td><td>-41:11:45</td><td>0.358</td><td>7.62</td><td>1.41</td><td>1.61</td><td>23:25:08.2</td><td>-41:12:42</td><td>0.36</td><td>7.19</td><td>0.45</td><td>0.49</td><td>49</td><td>ACT-CL J2325.2-4111</td><td>23:25:12.2</td><td>-41:11:45</td><td>0.36</td><td>7.62</td><td>1.41</td><td>1.61</td><td>--</td><td>--</td><td>--</td><td>--</td><td>--</td><td>--</td></tr>\n",
       "<tr><td>RXC J0600.1-2007</td><td>GCAV</td><td>--</td><td>PSZ2 G225.93-19.99</td><td>--</td><td>--</td><td>06:00:15.6</td><td>-20:07:27</td><td>0.46</td><td>10.73</td><td>0.54</td><td>0.51</td><td>06:00:15.6</td><td>-20:07:27</td><td>0.46</td><td>10.73</td><td>0.54</td><td>0.51</td><td>--</td><td>--</td><td>--</td><td>--</td><td>--</td><td>--</td><td>--</td><td>--</td><td>--</td><td>--</td><td>--</td><td>--</td><td>--</td><td>--</td></tr>\n",
       "<tr><td>RXC J1212.3-1816</td><td>HiLx</td><td>--</td><td>--</td><td>--</td><td>--</td><td>12:12:18.9</td><td>-18:16:44</td><td>0.269</td><td>--</td><td>--</td><td>--</td><td>--</td><td>--</td><td>--</td><td>--</td><td>--</td><td>--</td><td>--</td><td>--</td><td>--</td><td>--</td><td>--</td><td>--</td><td>--</td><td>--</td><td>J1212.3-1816</td><td>RXCJ1212.3-1816</td><td>NORAS/REFLEX</td><td>5.644133</td><td>4.8327</td><td>1.0892</td></tr>\n",
       "<tr><td>RXC J1314.4-2515</td><td>P109</td><td>MeerKAT</td><td>PSZ2 G309.49+37.31</td><td>42</td><td>58</td><td>13:14:31.5</td><td>-25:15:56</td><td>0.244</td><td>6.72</td><td>0.53</td><td>0.53</td><td>13:14:31.5</td><td>-25:15:56</td><td>0.24</td><td>6.72</td><td>0.53</td><td>0.53</td><td>--</td><td>--</td><td>--</td><td>--</td><td>--</td><td>--</td><td>--</td><td>--</td><td>J1314.4-2515</td><td>RXCJ1314.4-2515</td><td>NORAS/REFLEX</td><td>9.892675</td><td>6.9392</td><td>1.2401</td></tr>\n",
       "<tr><td>RXC J1347.5-1144</td><td>GCAV</td><td>CLASH-VLT</td><td>PSZ2 G324.04+48.79</td><td>46</td><td>5</td><td>13:47:32.7</td><td>-11:45:45</td><td>0.452</td><td>11.03</td><td>0.61</td><td>0.57</td><td>13:47:32.7</td><td>-11:45:45</td><td>0.45</td><td>11.03</td><td>0.61</td><td>0.57</td><td>--</td><td>--</td><td>--</td><td>--</td><td>--</td><td>--</td><td>--</td><td>--</td><td>J1347.5-1144</td><td>RXCJ1347.5-1144</td><td>NORAS/REFLEX</td><td>37.304424</td><td>13.1779</td><td>1.4195</td></tr>\n",
       "<tr><td>RXC J1504.1-0248</td><td>HiLx</td><td>--</td><td>PSZ2 G355.07+46.20</td><td>53</td><td>61</td><td>15:04:06.8</td><td>-02:48:22</td><td>0.217</td><td>11.27</td><td>2.24</td><td>2.6</td><td>15:04:05.4</td><td>-02:47:54</td><td>0.22</td><td>6.67</td><td>0.48</td><td>0.48</td><td>12</td><td>ACT-CL J1504.1-0248</td><td>15:04:06.8</td><td>-02:48:22</td><td>0.22</td><td>11.27</td><td>2.24</td><td>2.6</td><td>J1504.1-0248</td><td>RXCJ1504.1-0248</td><td>NORAS/REFLEX</td><td>24.968847</td><td>12.475</td><td>1.5235</td></tr>\n",
       "<tr><td>RXC J1514.9-1523</td><td>GCAV</td><td>--</td><td>PSZ2 G346.61+35.06</td><td>54</td><td>11</td><td>15:15:00.5</td><td>-15:21:23</td><td>0.223</td><td>8.86</td><td>0.46</td><td>0.41</td><td>15:15:00.5</td><td>-15:21:23</td><td>0.22</td><td>8.86</td><td>0.46</td><td>0.41</td><td>--</td><td>--</td><td>--</td><td>--</td><td>--</td><td>--</td><td>--</td><td>--</td><td>J1514.9-1523</td><td>RXCJ1514.9-1523</td><td>NORAS/REFLEX</td><td>6.427656</td><td>5.4232</td><td>1.1511</td></tr>\n",
       "<tr><td>RXC J2248.7-4431</td><td>GCAV</td><td>CLASH-VLT MeerKAT</td><td>PSZ2 G349.46-59.95</td><td>61</td><td>3</td><td>22:48:49.2</td><td>-44:31:40</td><td>0.351</td><td>18.97</td><td>3.55</td><td>4.05</td><td>22:48:51.6</td><td>-44:31:33</td><td>0.35</td><td>11.36</td><td>0.34</td><td>0.34</td><td>0</td><td>ACT-CL J2248.8-4431</td><td>22:48:49.2</td><td>-44:31:40</td><td>0.35</td><td>18.97</td><td>3.55</td><td>4.05</td><td>J2248.7-4431</td><td>RXCJ2248.7-4431</td><td>NORAS/REFLEX</td><td>27.166569</td><td>11.8328</td><td>1.4256</td></tr>\n",
       "<tr><td>ZwCl 1021.0+0426</td><td>HiLx</td><td>--</td><td>PSZ2 G239.43+47.95</td><td>31</td><td>68</td><td>10:23:39.0</td><td>+04:11:16</td><td>0.285</td><td>12.01</td><td>2.31</td><td>2.65</td><td>10:23:41.7</td><td>+04:09:58</td><td>0.28</td><td>6.53</td><td>0.44</td><td>0.44</td><td>11</td><td>ACT-CL J1023.6+0411</td><td>10:23:39.0</td><td>+04:11:16</td><td>0.28</td><td>12.01</td><td>2.31</td><td>2.65</td><td>J1023.6+0411</td><td>RXC J1023.6+0411</td><td>NORAS/REFLEX</td><td>18.098963</td><td>9.7115</td><td>1.3664</td></tr>\n",
       "</table></div>"
      ],
      "text/plain": [
       "<Table length=79>\n",
       "    CHANCES name    VISTA      Comments             name        index ... X-ray catalog   L500_X   m500_X  r500_X\n",
       "       str19         str4       str17              str19        int64 ...     str12      float64  float64 float64\n",
       "------------------- ----- ----------------- ------------------- ----- ... ------------- --------- ------- -------\n",
       "ACT-CL J0138.0-2155    --                -- ACT-CL J0138.0-2155     1 ...            --        --      --      --\n",
       "ACT-CL J1311.0-0310    --                -- ACT-CL J1311.0-0310    40 ...  MACS          7.240105  4.1524    0.95\n",
       "          Abell0521  HiLx           MeerKAT  PSZ2 G208.80-30.67    14 ...  NORAS/REFLEX   7.44515  5.8187  1.1679\n",
       "          Abell0901  HiLx                --                  --    -- ...  NORAS/REFLEX  5.629624  5.2302  1.1613\n",
       "          Abell0907  HiLx                --  PSZ2 G249.38+33.26    -- ...  NORAS/REFLEX  5.299925  5.0282  1.1448\n",
       "          Abell1300  GCAV                --  PSZ2 G278.58+39.16    34 ...  NORAS/REFLEX 12.461967   7.598  1.2485\n",
       "          Abell1451  HiLx                --  PSZ2 G288.27+39.97    37 ...  NORAS/REFLEX  6.614737  5.6182  1.1745\n",
       "          Abell3444  P109                --  PSZ2 G266.83+25.08    32 ...  NORAS/REFLEX  11.91962  7.7124  1.2798\n",
       "         AbellS0780  P109                --  PSZ2 G340.94+35.07    51 ...  NORAS/REFLEX 13.967532   8.618   1.337\n",
       "        ClG 0657-56  P108           MeerKAT  PSZ2 G266.04-21.25    23 ...  NORAS/REFLEX 20.425901 10.3599  1.3902\n",
       "  MACS J0329.7-0211  P108         CLASH-VLT ACT-CL J0329.6-0211     8 ...  MACS         13.573036  4.4622    0.99\n",
       "  MACS J0416.1-2403  GCAV         CLASH-VLT  PSZ2 G221.06-44.05    11 ...            --        --      --      --\n",
       "  MACS J0553.4-3342  GCAV                --  PSZ2 G239.27-26.01    -- ...            --        --      --      --\n",
       "  MACS J1115.9+0129  P109   WAVES CLASH-VLT  PSZ2 G257.09+55.61    33 ...  NORAS/REFLEX 12.258363  7.2696  1.2108\n",
       "  MACS J1206.2-0847  P109         CLASH-VLT  PSZ2 G284.41+52.45    38 ...  NORAS/REFLEX  17.58485  8.4019  1.2266\n",
       "  MACS J1311.0-0311  P109         CLASH-VLT        MACSJ1311-03    64 ...  MACS          7.240105  4.1524    0.95\n",
       "       MACSJ0329-02    --                --        MACSJ0329-02    63 ...  MACS         13.573036  4.4622    0.99\n",
       "                ...   ...               ...                 ...   ... ...           ...       ...     ...     ...\n",
       " PSZ2 G325.70+17.34  P109                --  PSZ2 G325.70+17.34    50 ...            --        --      --      --\n",
       " PSZ2 G333.89-43.60    --                --  PSZ2 G333.89-43.60    60 ...            --        --      --      --\n",
       " PSZ2 G337.12-66.02  P107                --  PSZ2 G337.12-66.02    -- ...            --        --      --      --\n",
       " PSZ2 G337.14-25.98    --                --  PSZ2 G337.14-25.98    57 ...            --        --      --      --\n",
       " PSZ2 G340.36+60.58    --                --  PSZ2 G340.36+60.58    48 ...  NORAS/REFLEX 19.721872 10.4956  1.4189\n",
       " PSZ2 G341.16+34.81    --                --  PSZ2 G341.16+34.81    52 ...            --        --      --      --\n",
       " PSZ2 G342.33-34.93   VHS           MeerKAT  PSZ2 G342.33-34.93    59 ...  NORAS/REFLEX  4.609207   4.396  1.0697\n",
       " PSZ2 G347.17-27.36   VHS                --  PSZ2 G347.17-27.36    58 ...  NORAS/REFLEX  5.672293  4.9694  1.1123\n",
       " PSZ2 G348.90-67.37  P109           MeerKAT  PSZ2 G348.90-67.37    62 ...            --        --      --      --\n",
       "   RXC J0600.1-2007  GCAV                --  PSZ2 G225.93-19.99    -- ...            --        --      --      --\n",
       "   RXC J1212.3-1816  HiLx                --                  --    -- ...  NORAS/REFLEX  5.644133  4.8327  1.0892\n",
       "   RXC J1314.4-2515  P109           MeerKAT  PSZ2 G309.49+37.31    42 ...  NORAS/REFLEX  9.892675  6.9392  1.2401\n",
       "   RXC J1347.5-1144  GCAV         CLASH-VLT  PSZ2 G324.04+48.79    46 ...  NORAS/REFLEX 37.304424 13.1779  1.4195\n",
       "   RXC J1504.1-0248  HiLx                --  PSZ2 G355.07+46.20    53 ...  NORAS/REFLEX 24.968847  12.475  1.5235\n",
       "   RXC J1514.9-1523  GCAV                --  PSZ2 G346.61+35.06    54 ...  NORAS/REFLEX  6.427656  5.4232  1.1511\n",
       "   RXC J2248.7-4431  GCAV CLASH-VLT MeerKAT  PSZ2 G349.46-59.95    61 ...  NORAS/REFLEX 27.166569 11.8328  1.4256\n",
       "   ZwCl 1021.0+0426  HiLx                --  PSZ2 G239.43+47.95    31 ...  NORAS/REFLEX 18.098963  9.7115  1.3664"
      ]
     },
     "execution_count": 78,
     "metadata": {},
     "output_type": "execute_result"
    }
   ],
   "source": [
    "chances_mcxc = join(chances, mcxc['MCXC','X-rays','X-ray catalog','L500_X','m500_X', 'r500_X','CHANCES name'], keys=('CHANCES name',), join_type='left')\n",
    "chances_mcxc"
   ]
  },
  {
   "cell_type": "code",
   "execution_count": 96,
   "metadata": {},
   "outputs": [
    {
     "data": {
      "text/plain": [
       "(32, 72, 46)"
      ]
     },
     "execution_count": 96,
     "metadata": {},
     "output_type": "execute_result"
    }
   ],
   "source": [
    "if sample == 'evolution':\n",
    "    inact = ~chances_mcxc['m500_ACT'].mask\n",
    "    inpsz = ~chances_mcxc['m500_PSZ'].mask\n",
    "else:\n",
    "    inact = np.array(['ACT-CL' in name for name in chances_mcxc['CHANCES name']])\n",
    "    inpsz = (chances_mcxc['PSZ_name'] != '--')\n",
    "inx = ~chances_mcxc['m500_X'].mask\n",
    "inact.sum(), inpsz.sum(), inx.sum()"
   ]
  },
  {
   "cell_type": "code",
   "execution_count": 80,
   "metadata": {},
   "outputs": [
    {
     "data": {
      "text/plain": [
       "29"
      ]
     },
     "execution_count": 80,
     "metadata": {},
     "output_type": "execute_result"
    }
   ],
   "source": [
    "sz = inact & inpsz\n",
    "sz.sum()"
   ]
  },
  {
   "cell_type": "markdown",
   "metadata": {},
   "source": [
    "Clusters in MCXC and at least one of the SZ catalogues:"
   ]
  },
  {
   "cell_type": "code",
   "execution_count": 81,
   "metadata": {},
   "outputs": [
    {
     "data": {
      "text/plain": [
       "(21, 40)"
      ]
     },
     "execution_count": 81,
     "metadata": {},
     "output_type": "execute_result"
    }
   ],
   "source": [
    "actx = inact & inx\n",
    "pszx = inpsz & inx\n",
    "actx.sum(), pszx.sum()"
   ]
  },
  {
   "cell_type": "markdown",
   "metadata": {},
   "source": [
    "Clusters in MCXC and both SZ catalogues:"
   ]
  },
  {
   "cell_type": "code",
   "execution_count": 82,
   "metadata": {},
   "outputs": [
    {
     "data": {
      "text/plain": [
       "19"
      ]
     },
     "execution_count": 82,
     "metadata": {},
     "output_type": "execute_result"
    }
   ],
   "source": [
    "xsz = actx & pszx\n",
    "xsz.sum()"
   ]
  },
  {
   "cell_type": "markdown",
   "metadata": {},
   "source": [
    "Finally, clusters in none of the three:"
   ]
  },
  {
   "cell_type": "code",
   "execution_count": 83,
   "metadata": {},
   "outputs": [
    {
     "data": {
      "text/plain": [
       "0"
      ]
     },
     "execution_count": 83,
     "metadata": {},
     "output_type": "execute_result"
    }
   ],
   "source": [
    "nowhere = ~inact & ~inpsz & ~inx\n",
    "nowhere.sum()"
   ]
  },
  {
   "cell_type": "markdown",
   "metadata": {},
   "source": [
    "All Evolution clusters are in at least one of (ACT, PSZ, MCXC), but there are 6 Low-z clusters that are not in any of the three:"
   ]
  },
  {
   "cell_type": "code",
   "execution_count": 84,
   "metadata": {},
   "outputs": [
    {
     "data": {
      "text/html": [
       "<div><i>Table length=0</i>\n",
       "<table id=\"table140096984989312\" class=\"table-striped table-bordered table-condensed\">\n",
       "<thead><tr><th>CHANCES name</th><th>VISTA</th><th>Comments</th><th>name</th><th>index</th><th>index_PSZ</th><th>hms</th><th>dms</th><th>z</th><th>m500</th><th>m500lo</th><th>m500hi</th><th>hms_PSZ</th><th>dms_PSZ</th><th>z_PSZ</th><th>m500_PSZ</th><th>m500lo_PSZ</th><th>m500hi_PSZ</th><th>index_ACT</th><th>ACT_name</th><th>hms_ACT</th><th>dms_ACT</th><th>z_ACT</th><th>m500_ACT</th><th>m500lo_ACT</th><th>m500hi_ACT</th><th>MCXC</th><th>X-rays</th><th>X-ray catalog</th><th>L500_X</th><th>m500_X</th><th>r500_X</th></tr></thead>\n",
       "<thead><tr><th>str19</th><th>str4</th><th>str17</th><th>str19</th><th>int64</th><th>int64</th><th>str10</th><th>str9</th><th>float64</th><th>float64</th><th>float64</th><th>float64</th><th>str10</th><th>str9</th><th>float64</th><th>float64</th><th>float64</th><th>float64</th><th>int64</th><th>str19</th><th>str10</th><th>str9</th><th>float64</th><th>float64</th><th>float64</th><th>float64</th><th>str12</th><th>str18</th><th>str12</th><th>float64</th><th>float64</th><th>float64</th></tr></thead>\n",
       "</table></div>"
      ],
      "text/plain": [
       "<Table length=0>\n",
       "CHANCES name VISTA Comments  name index index_PSZ  hms  dms  ... m500hi_ACT  MCXC X-rays X-ray catalog  L500_X  m500_X  r500_X\n",
       "   str19      str4  str17   str19 int64   int64   str10 str9 ...  float64   str12 str18      str12     float64 float64 float64\n",
       "------------ ----- -------- ----- ----- --------- ----- ---- ... ---------- ----- ------ ------------- ------- ------- -------"
      ]
     },
     "execution_count": 84,
     "metadata": {},
     "output_type": "execute_result"
    }
   ],
   "source": [
    "chances_mcxc[nowhere]"
   ]
  },
  {
   "cell_type": "markdown",
   "metadata": {},
   "source": [
    "What about SPT?"
   ]
  },
  {
   "cell_type": "code",
   "execution_count": 87,
   "metadata": {},
   "outputs": [],
   "source": [
    "if sample == 'lowz':\n",
    "    catalogs.query(chances_mcxc['ra'][nowhere], chances_mcxc['dec'][nowhere], catalogs='spt-sz')"
   ]
  },
  {
   "cell_type": "markdown",
   "metadata": {},
   "source": [
    "# Compare masses"
   ]
  },
  {
   "cell_type": "code",
   "execution_count": 88,
   "metadata": {},
   "outputs": [],
   "source": [
    "def line(x, a, b=1): return a + b*x"
   ]
  },
  {
   "cell_type": "code",
   "execution_count": 89,
   "metadata": {},
   "outputs": [
    {
     "data": {
      "text/plain": [
       "<matplotlib.colorbar.Colorbar at 0x7f6adb8a2d10>"
      ]
     },
     "execution_count": 89,
     "metadata": {},
     "output_type": "execute_result"
    },
    {
     "data": {
      "image/png": "[encoded data removed]",
      "text/plain": [
       "<Figure size 1440x432 with 4 Axes>"
      ]
     },
     "metadata": {
      "needs_background": "light"
     },
     "output_type": "display_data"
    }
   ],
   "source": [
    "t = np.linspace(0, 25, 10)\n",
    "fig, axes = plt.subplots(1, 3, figsize=(20,6), constrained_layout=True)\n",
    "for ax, xname, yname, mask in zip(axes, ('ACT','ACT','PSZ'), ('PSZ','X','X'), (sz, actx, pszx)):\n",
    "    if np.in1d([xname, yname], ['ACT']).sum() > 0 and sample == 'lowz':\n",
    "        continue\n",
    "    if sample == 'evolution':\n",
    "        x = chances_mcxc[f'm500_{xname}'][mask]\n",
    "        y = chances_mcxc[f'm500_{yname}'][mask]\n",
    "    else:\n",
    "        x = chances_mcxc['m500'][mask]\n",
    "        y = chances_mcxc['m500_X'][mask]\n",
    "    z = chances_mcxc['z'][mask]\n",
    "    pts = ax.scatter(x, y, c=z, vmin=0, vmax=0.5, cmap='viridis', marker='o', s=60)\n",
    "    ax.plot(t, t, '--')\n",
    "    # best-fit straight line with slope=1\n",
    "    fit, cov = curve_fit(line, x, y, p0=(0.3,))\n",
    "    std = np.std(y - line(x, *fit))\n",
    "    ax.plot(t, line(t, *fit), '-', label=f'$a={fit[0]:.1f}$')\n",
    "    xlim = (0, 23) if sample == 'evolution' else (0, 10)\n",
    "    ax.set(xlabel=fr'$m_{{500}}^\\mathrm{{{xname}}}$ ($10^{{14}}$ M$_\\odot)$',\n",
    "           ylabel=fr'$m_{{500}}^\\mathrm{{{yname}}}$ ($10^{{14}}$ M$_\\odot)$',\n",
    "           xlim=xlim, ylim=xlim)\n",
    "    ax.legend()\n",
    "plt.colorbar(pts, ax=axes, label='Redshift')"
   ]
  },
  {
   "cell_type": "markdown",
   "metadata": {},
   "source": [
    "A 2d fit:"
   ]
  },
  {
   "cell_type": "code",
   "execution_count": 90,
   "metadata": {},
   "outputs": [],
   "source": [
    "def plane(xy, a, b, c, d):\n",
    "    x, y = xy\n",
    "    return a + b*x + c*y + d*x*y"
   ]
  },
  {
   "cell_type": "code",
   "execution_count": 92,
   "metadata": {},
   "outputs": [
    {
     "data": {
      "image/png": "[encoded data removed]",
      "text/plain": [
       "<Figure size 576x504 with 1 Axes>"
      ]
     },
     "metadata": {
      "needs_background": "light"
     },
     "output_type": "display_data"
    }
   ],
   "source": [
    "if sample == 'evolution':\n",
    "    mpsz = chances_mcxc['m500_PSZ']\n",
    "    mact = chances_mcxc['m500_ACT']\n",
    "    mx = chances_mcxc['m500_X']\n",
    "    xfit = [mpsz[xsz], mact[xsz]]\n",
    "    yfit = mx[xsz]\n",
    "    fit, cov = curve_fit(plane, xfit, yfit, p0=(2,3,4,2))\n",
    "    fig, ax = plt.subplots(figsize=(8,7))\n",
    "    ax.plot(yfit, plane(xfit, *fit), 'o')\n",
    "    ax.plot(t, t, 'C1--')\n",
    "    fit"
   ]
  },
  {
   "cell_type": "markdown",
   "metadata": {},
   "source": [
    "But how many are there with PSZ+X but no ACT?"
   ]
  },
  {
   "cell_type": "code",
   "execution_count": 93,
   "metadata": {},
   "outputs": [
    {
     "data": {
      "text/plain": [
       "21"
      ]
     },
     "execution_count": 93,
     "metadata": {},
     "output_type": "execute_result"
    }
   ],
   "source": [
    "(inpsz & inx & ~inact).sum()"
   ]
  },
  {
   "cell_type": "markdown",
   "metadata": {},
   "source": [
    "This means we could use the 2d fit to improve the estimate in some Evolution clusters (but not now). The low-z sample has 32 but there are only 2 ACT clusters anyway. So:"
   ]
  },
  {
   "cell_type": "markdown",
   "metadata": {},
   "source": [
    "## Best masses\n",
    "\n",
    "**Evolution**\n",
    "\n",
    "The ACT masses have been (i) Eddington-bias corrected and (ii) indirectly calibrated for SZ bias with weak lensing, so we can take those as reference. adding the appropriate values to either PSZ or X to make them consistent with ACT. If both PSZ and X, but not ACT, are present, we take the PSZ mass.\n",
    "\n",
    "**Low-z**\n",
    "\n",
    "The mean difference for low-z, $m_\\mathrm{X} = m_\\mathrm{PSZ} - 0.6$ is consistent with the zero point found in the evolution sample ($-0.4$), so let's just apply the same correction. We're keeping the ACT masses for the two ACT clusters."
   ]
  },
  {
   "cell_type": "markdown",
   "metadata": {},
   "source": [
    "Let's begin by renaming the low-z mass columns for consistency:"
   ]
  },
  {
   "cell_type": "code",
   "execution_count": 98,
   "metadata": {},
   "outputs": [],
   "source": [
    "if sample == 'lowz':\n",
    "    #chances_mcxc.rename_column('m500', 'm500_PSZ')\n",
    "    chances_mcxc['m500_ACT'] = -np.ones(inact.size)\n",
    "    chances_mcxc.mask['m500_ACT'] = ~inact\n",
    "    chances_mcxc['m500_ACT'][inact] = chances_mcxc['m500_PSZ'][inact]\n",
    "    chances_mcxc['m500_PSZ'][inact] = -1"
   ]
  },
  {
   "cell_type": "markdown",
   "metadata": {},
   "source": [
    "Now we apply the offsets"
   ]
  },
  {
   "cell_type": "code",
   "execution_count": 99,
   "metadata": {},
   "outputs": [],
   "source": [
    "chances_mcxc['m500_X_corr'] = 3.4 + chances_mcxc['m500_X']\n",
    "chances_mcxc['m500_PSZ_corr'] = 3.0 + chances_mcxc['m500_PSZ']\n",
    "chances_mcxc['m500_ACT_corr'] = chances_mcxc['m500_ACT'] # for completeness\n",
    "chances_mcxc['m500'] = np.zeros(inact.size)\n",
    "chances_mcxc['m500'][inx] = 3.4 + chances_mcxc['m500_X'][inx]\n",
    "chances_mcxc['m500'][inpsz] = 3.0 + chances_mcxc['m500_PSZ'][inpsz]\n",
    "chances_mcxc['m500'][inact] = chances_mcxc['m500_ACT'][inact]"
   ]
  },
  {
   "cell_type": "markdown",
   "metadata": {},
   "source": [
    "# Radii\n",
    "\n",
    "We can now calculate the radii:"
   ]
  },
  {
   "cell_type": "code",
   "execution_count": 100,
   "metadata": {},
   "outputs": [
    {
     "data": {
      "text/plain": [
       "array([1.16216538, 1.0086094 , 1.2163087 , 1.37267357, 1.35901215,\n",
       "       1.45269547, 1.43124433, 1.41279015, 1.44145655, 1.6094251 ,\n",
       "       1.19055204, 1.34570048, 1.37874124, 1.33458004, 1.46079389,\n",
       "       1.15976497, 1.19587578, 1.26114121, 1.37659235, 1.30362469,\n",
       "       1.3957207 , 1.49548273, 1.36933952, 1.18801316, 1.13190894,\n",
       "       1.32434965, 1.32783102, 1.22011814, 1.32407953, 1.32647085,\n",
       "       1.40732686, 1.41882592, 1.36219109, 1.33183422, 1.30551549,\n",
       "       1.47908487, 1.45117481, 1.3302088 , 1.17158016, 1.52052492,\n",
       "       1.4943028 , 1.41279015, 1.35271817, 1.40243212, 1.40937073,\n",
       "       1.38501678, 1.33031134, 1.60394598, 1.43184513, 1.41356186,\n",
       "       1.38511291, 1.3439323 , 1.37685884, 1.43192884, 1.36143834,\n",
       "       1.35956322, 1.59380926, 1.36706015, 1.49480333, 1.46588766,\n",
       "       1.4414014 , 1.20457261, 1.39004472, 1.347432  , 1.25209565,\n",
       "       1.28178484, 1.60707127, 1.34452753, 1.3831294 , 1.41327874,\n",
       "       1.22628078, 1.4344868 , 1.30100007, 1.38767928, 1.44938759,\n",
       "       1.47210558, 1.49413948, 1.66642172, 1.46682443])"
      ]
     },
     "execution_count": 100,
     "metadata": {},
     "output_type": "execute_result"
    }
   ],
   "source": [
    "chances_mcxc['r500'] = conversions.rsph(1e14*chances_mcxc['m500'], chances_mcxc['z'], ref='500c')\n",
    "chances_mcxc['r500'].value"
   ]
  },
  {
   "cell_type": "code",
   "execution_count": 101,
   "metadata": {},
   "outputs": [
    {
     "data": {
      "text/html": [
       "<div><i>Table length=79</i>\n",
       "<table id=\"table140096927657280\" class=\"table-striped table-bordered table-condensed\">\n",
       "<thead><tr><th>CHANCES name</th><th>VISTA</th><th>Comments</th><th>name</th><th>index</th><th>index_PSZ</th><th>hms</th><th>dms</th><th>z</th><th>m500</th><th>m500lo</th><th>m500hi</th><th>hms_PSZ</th><th>dms_PSZ</th><th>z_PSZ</th><th>m500_PSZ</th><th>m500lo_PSZ</th><th>m500hi_PSZ</th><th>index_ACT</th><th>ACT_name</th><th>hms_ACT</th><th>dms_ACT</th><th>z_ACT</th><th>m500_ACT</th><th>m500lo_ACT</th><th>m500hi_ACT</th><th>MCXC</th><th>X-rays</th><th>X-ray catalog</th><th>L500_X</th><th>m500_X</th><th>r500_X</th><th>m500_X_corr</th><th>m500_PSZ_corr</th><th>m500_ACT_corr</th><th>r500</th></tr></thead>\n",
       "<thead><tr><th>str19</th><th>str4</th><th>str17</th><th>str19</th><th>int64</th><th>int64</th><th>str10</th><th>str9</th><th>float64</th><th>float64</th><th>float64</th><th>float64</th><th>str10</th><th>str9</th><th>float64</th><th>float64</th><th>float64</th><th>float64</th><th>int64</th><th>str19</th><th>str10</th><th>str9</th><th>float64</th><th>float64</th><th>float64</th><th>float64</th><th>str12</th><th>str18</th><th>str12</th><th>float64</th><th>float64</th><th>float64</th><th>float64</th><th>float64</th><th>float64</th><th>float64</th></tr></thead>\n",
       "<tr><td>ACT-CL J0138.0-2155</td><td>--</td><td>--</td><td>ACT-CL J0138.0-2155</td><td>1</td><td>--</td><td>01:38:05.1</td><td>-21:55:36</td><td>0.338</td><td>6.34</td><td>1.22</td><td>1.41</td><td>--</td><td>--</td><td>--</td><td>--</td><td>--</td><td>--</td><td>81</td><td>ACT-CL J0138.0-2155</td><td>01:38:05.1</td><td>-21:55:36</td><td>0.34</td><td>6.34</td><td>1.22</td><td>1.41</td><td>--</td><td>--</td><td>--</td><td>--</td><td>--</td><td>--</td><td>--</td><td>--</td><td>6.34</td><td>1.16</td></tr>\n",
       "<tr><td>ACT-CL J1311.0-0310</td><td>--</td><td>--</td><td>ACT-CL J1311.0-0310</td><td>40</td><td>--</td><td>13:11:01.0</td><td>-03:10:41</td><td>0.491</td><td>4.95</td><td>0.95</td><td>1.09</td><td>--</td><td>--</td><td>--</td><td>--</td><td>--</td><td>--</td><td>184</td><td>ACT-CL J1311.0-0310</td><td>13:11:01.0</td><td>-03:10:41</td><td>0.49</td><td>4.95</td><td>0.95</td><td>1.09</td><td>J1311.0-0310</td><td>MACSJ1311.0-0310</td><td>MACS</td><td>7.240105</td><td>4.15</td><td>0.95</td><td>7.55</td><td>--</td><td>4.95</td><td>1.01</td></tr>\n",
       "<tr><td>Abell0521</td><td>HiLx</td><td>MeerKAT</td><td>PSZ2 G208.80-30.67</td><td>14</td><td>37</td><td>04:54:08.9</td><td>-10:13:22</td><td>0.253</td><td>6.61</td><td>1.34</td><td>1.57</td><td>04:54:05.0</td><td>-10:13:34</td><td>0.25</td><td>7.26</td><td>0.49</td><td>0.47</td><td>68</td><td>ACT-CL J0454.1-1013</td><td>04:54:08.9</td><td>-10:13:22</td><td>0.25</td><td>6.61</td><td>1.34</td><td>1.57</td><td>J0454.1-1014</td><td>RXCJ0454.1-1014</td><td>NORAS/REFLEX</td><td>7.44515</td><td>5.82</td><td>1.17</td><td>9.22</td><td>10.26</td><td>6.61</td><td>1.22</td></tr>\n",
       "<tr><td>Abell0901</td><td>HiLx</td><td>--</td><td>--</td><td>--</td><td>--</td><td>09:56:26.4</td><td>-10:04:12</td><td>0.163</td><td>8.63</td><td>--</td><td>--</td><td>--</td><td>--</td><td>--</td><td>--</td><td>--</td><td>--</td><td>--</td><td>--</td><td>--</td><td>--</td><td>--</td><td>--</td><td>--</td><td>--</td><td>J0956.4-1004</td><td>RXCJ0956.4-1004</td><td>NORAS/REFLEX</td><td>5.629624</td><td>5.23</td><td>1.16</td><td>8.63</td><td>--</td><td>--</td><td>1.37</td></tr>\n",
       "<tr><td>Abell0907</td><td>HiLx</td><td>--</td><td>PSZ2 G249.38+33.26</td><td>--</td><td>--</td><td>09:58:24.4</td><td>-11:04:08</td><td>0.167</td><td>8.41</td><td>0.37</td><td>0.33</td><td>09:58:24.4</td><td>-11:04:08</td><td>0.17</td><td>5.41</td><td>0.37</td><td>0.33</td><td>--</td><td>--</td><td>--</td><td>--</td><td>--</td><td>--</td><td>--</td><td>--</td><td>J0958.3-1103</td><td>RXCJ0958.3-1103</td><td>NORAS/REFLEX</td><td>5.299925</td><td>5.03</td><td>1.14</td><td>8.43</td><td>8.41</td><td>--</td><td>1.36</td></tr>\n",
       "<tr><td>Abell1300</td><td>GCAV</td><td>--</td><td>PSZ2 G278.58+39.16</td><td>34</td><td>9</td><td>11:31:56.5</td><td>-19:54:51</td><td>0.308</td><td>11.97</td><td>0.45</td><td>0.46</td><td>11:31:56.5</td><td>-19:54:51</td><td>0.31</td><td>8.97</td><td>0.45</td><td>0.46</td><td>--</td><td>--</td><td>--</td><td>--</td><td>--</td><td>--</td><td>--</td><td>--</td><td>J1131.9-1955</td><td>RXCJ1131.9-1955</td><td>NORAS/REFLEX</td><td>12.461967</td><td>7.60</td><td>1.25</td><td>11.00</td><td>11.97</td><td>--</td><td>1.45</td></tr>\n",
       "<tr><td>Abell1451</td><td>HiLx</td><td>--</td><td>PSZ2 G288.27+39.97</td><td>37</td><td>41</td><td>12:03:18.1</td><td>-21:31:29</td><td>0.199</td><td>10.16</td><td>0.33</td><td>0.28</td><td>12:03:18.1</td><td>-21:31:29</td><td>0.2</td><td>7.16</td><td>0.33</td><td>0.28</td><td>--</td><td>--</td><td>--</td><td>--</td><td>--</td><td>--</td><td>--</td><td>--</td><td>J1203.2-2131</td><td>RXCJ1203.2-2131</td><td>NORAS/REFLEX</td><td>6.614737</td><td>5.62</td><td>1.17</td><td>9.02</td><td>10.16</td><td>--</td><td>1.43</td></tr>\n",
       "<tr><td>Abell3444</td><td>P109</td><td>--</td><td>PSZ2 G266.83+25.08</td><td>32</td><td>34</td><td>10:23:53.1</td><td>-27:15:07</td><td>0.254</td><td>10.37</td><td>0.37</td><td>0.36</td><td>10:23:53.1</td><td>-27:15:07</td><td>0.25</td><td>7.37</td><td>0.37</td><td>0.36</td><td>--</td><td>--</td><td>--</td><td>--</td><td>--</td><td>--</td><td>--</td><td>--</td><td>J1023.8-2715</td><td>RXCJ1023.8-2715</td><td>NORAS/REFLEX</td><td>11.91962</td><td>7.71</td><td>1.28</td><td>11.11</td><td>10.37</td><td>--</td><td>1.41</td></tr>\n",
       "<tr><td>AbellS0780</td><td>P109</td><td>--</td><td>PSZ2 G340.94+35.07</td><td>51</td><td>23</td><td>14:59:34.5</td><td>-18:10:22</td><td>0.236</td><td>10.80</td><td>0.48</td><td>0.45</td><td>14:59:34.5</td><td>-18:10:22</td><td>0.24</td><td>7.80</td><td>0.48</td><td>0.45</td><td>--</td><td>--</td><td>--</td><td>--</td><td>--</td><td>--</td><td>--</td><td>--</td><td>J1459.4-1811</td><td>RXCJ1459.4-1811</td><td>NORAS/REFLEX</td><td>13.967532</td><td>8.62</td><td>1.34</td><td>12.02</td><td>10.80</td><td>--</td><td>1.44</td></tr>\n",
       "<tr><td>ClG 0657-56</td><td>P108</td><td>MeerKAT</td><td>PSZ2 G266.04-21.25</td><td>23</td><td>1</td><td>06:58:32.3</td><td>-55:57:10</td><td>0.296</td><td>16.06</td><td>3.05</td><td>3.49</td><td>06:58:31.6</td><td>-55:57:42</td><td>0.3</td><td>13.10</td><td>0.29</td><td>0.29</td><td>1</td><td>ACT-CL J0658.5-5557</td><td>06:58:32.3</td><td>-55:57:10</td><td>0.3</td><td>16.06</td><td>3.05</td><td>3.49</td><td>J0658.5-5556</td><td>RXCJ0658.5-5556</td><td>NORAS/REFLEX</td><td>20.425901</td><td>10.36</td><td>1.39</td><td>13.76</td><td>16.10</td><td>16.06</td><td>1.61</td></tr>\n",
       "<tr><td>MACS J0329.7-0211</td><td>P108</td><td>CLASH-VLT</td><td>ACT-CL J0329.6-0211</td><td>8</td><td>--</td><td>03:29:41.0</td><td>-02:11:44</td><td>0.459</td><td>7.84</td><td>1.44</td><td>1.63</td><td>--</td><td>--</td><td>--</td><td>--</td><td>--</td><td>--</td><td>44</td><td>ACT-CL J0329.6-0211</td><td>03:29:41.0</td><td>-02:11:44</td><td>0.46</td><td>7.84</td><td>1.44</td><td>1.63</td><td>J0329.6-0211</td><td>MACSJ0329.6-0211</td><td>MACS</td><td>13.573036</td><td>4.46</td><td>0.99</td><td>7.86</td><td>--</td><td>7.84</td><td>1.19</td></tr>\n",
       "<tr><td>MACS J0416.1-2403</td><td>GCAV</td><td>CLASH-VLT</td><td>PSZ2 G221.06-44.05</td><td>11</td><td>562</td><td>04:16:09.1</td><td>-24:04:16</td><td>0.396</td><td>10.52</td><td>1.92</td><td>2.18</td><td>04:16:08.4</td><td>-24:03:15</td><td>-1.0</td><td>0.00</td><td>0.00</td><td>0.00</td><td>17</td><td>ACT-CL J0416.1-2404</td><td>04:16:09.1</td><td>-24:04:16</td><td>0.4</td><td>10.52</td><td>1.92</td><td>2.18</td><td>--</td><td>--</td><td>--</td><td>--</td><td>--</td><td>--</td><td>--</td><td>3.00</td><td>10.52</td><td>1.35</td></tr>\n",
       "<tr><td>MACS J0553.4-3342</td><td>GCAV</td><td>--</td><td>PSZ2 G239.27-26.01</td><td>--</td><td>--</td><td>05:53:23.6</td><td>-33:42:07</td><td>0.43</td><td>11.77</td><td>0.46</td><td>0.44</td><td>05:53:23.6</td><td>-33:42:07</td><td>0.43</td><td>8.77</td><td>0.46</td><td>0.44</td><td>--</td><td>--</td><td>--</td><td>--</td><td>--</td><td>--</td><td>--</td><td>--</td><td>--</td><td>--</td><td>--</td><td>--</td><td>--</td><td>--</td><td>--</td><td>11.77</td><td>--</td><td>1.38</td></tr>\n",
       "<tr><td>MACS J1115.9+0129</td><td>P109</td><td>WAVES CLASH-VLT</td><td>PSZ2 G257.09+55.61</td><td>33</td><td>49</td><td>11:15:51.5</td><td>+01:29:56</td><td>0.356</td><td>9.80</td><td>1.82</td><td>2.06</td><td>11:15:47.8</td><td>+01:29:46</td><td>0.35</td><td>6.86</td><td>0.54</td><td>0.53</td><td>20</td><td>ACT-CL J1115.8+0129</td><td>11:15:51.5</td><td>+01:29:56</td><td>0.36</td><td>9.80</td><td>1.82</td><td>2.06</td><td>J1115.8+0129</td><td>RXCJ1115.8+0129</td><td>NORAS/REFLEX</td><td>12.258363</td><td>7.27</td><td>1.21</td><td>10.67</td><td>9.86</td><td>9.80</td><td>1.33</td></tr>\n",
       "<tr><td>MACS J1206.2-0847</td><td>P109</td><td>CLASH-VLT</td><td>PSZ2 G284.41+52.45</td><td>38</td><td>4</td><td>12:06:14.9</td><td>-08:47:19</td><td>0.441</td><td>14.18</td><td>0.48</td><td>0.48</td><td>12:06:14.9</td><td>-08:47:19</td><td>0.44</td><td>11.18</td><td>0.48</td><td>0.48</td><td>--</td><td>--</td><td>--</td><td>--</td><td>--</td><td>--</td><td>--</td><td>--</td><td>J1206.2-0848</td><td>RXCJ1206.2-0848</td><td>NORAS/REFLEX</td><td>17.58485</td><td>8.40</td><td>1.23</td><td>11.80</td><td>14.18</td><td>--</td><td>1.46</td></tr>\n",
       "<tr><td>MACS J1311.0-0311</td><td>P109</td><td>CLASH-VLT</td><td>MACSJ1311-03</td><td>64</td><td>--</td><td>13:11:01.6</td><td>-03:10:40</td><td>0.494</td><td>7.55</td><td>--</td><td>--</td><td>--</td><td>--</td><td>--</td><td>--</td><td>--</td><td>--</td><td>--</td><td>--</td><td>--</td><td>--</td><td>--</td><td>--</td><td>--</td><td>--</td><td>J1311.0-0310</td><td>MACSJ1311.0-0310</td><td>MACS</td><td>7.240105</td><td>4.15</td><td>0.95</td><td>7.55</td><td>--</td><td>--</td><td>1.16</td></tr>\n",
       "<tr><td>MACSJ0329-02</td><td>--</td><td>--</td><td>MACSJ0329-02</td><td>63</td><td>--</td><td>03:29:40.8</td><td>-02:11:54</td><td>0.45</td><td>7.86</td><td>--</td><td>--</td><td>--</td><td>--</td><td>--</td><td>--</td><td>--</td><td>--</td><td>--</td><td>--</td><td>--</td><td>--</td><td>--</td><td>--</td><td>--</td><td>--</td><td>J0329.6-0211</td><td>MACSJ0329.6-0211</td><td>MACS</td><td>13.573036</td><td>4.46</td><td>0.99</td><td>7.86</td><td>--</td><td>--</td><td>1.20</td></tr>\n",
       "<tr><td>...</td><td>...</td><td>...</td><td>...</td><td>...</td><td>...</td><td>...</td><td>...</td><td>...</td><td>...</td><td>...</td><td>...</td><td>...</td><td>...</td><td>...</td><td>...</td><td>...</td><td>...</td><td>...</td><td>...</td><td>...</td><td>...</td><td>...</td><td>...</td><td>...</td><td>...</td><td>...</td><td>...</td><td>...</td><td>...</td><td>...</td><td>...</td><td>...</td><td>...</td><td>...</td><td>...</td></tr>\n",
       "<tr><td>PSZ2 G325.70+17.34</td><td>P109</td><td>--</td><td>PSZ2 G325.70+17.34</td><td>50</td><td>28</td><td>14:47:26.6</td><td>-40:20:44</td><td>0.315</td><td>10.57</td><td>0.57</td><td>0.51</td><td>14:47:26.6</td><td>-40:20:44</td><td>0.32</td><td>7.57</td><td>0.57</td><td>0.51</td><td>--</td><td>--</td><td>--</td><td>--</td><td>--</td><td>--</td><td>--</td><td>--</td><td>--</td><td>--</td><td>--</td><td>--</td><td>--</td><td>--</td><td>--</td><td>10.57</td><td>--</td><td>1.39</td></tr>\n",
       "<tr><td>PSZ2 G333.89-43.60</td><td>--</td><td>--</td><td>PSZ2 G333.89-43.60</td><td>60</td><td>62</td><td>21:37:49.7</td><td>-60:07:12</td><td>0.318</td><td>9.66</td><td>0.51</td><td>0.47</td><td>21:37:49.7</td><td>-60:07:12</td><td>0.32</td><td>6.66</td><td>0.51</td><td>0.47</td><td>--</td><td>--</td><td>--</td><td>--</td><td>--</td><td>--</td><td>--</td><td>--</td><td>--</td><td>--</td><td>--</td><td>--</td><td>--</td><td>--</td><td>--</td><td>9.66</td><td>--</td><td>1.35</td></tr>\n",
       "<tr><td>PSZ2 G337.12-66.02</td><td>P107</td><td>--</td><td>PSZ2 G337.12-66.02</td><td>--</td><td>--</td><td>23:35:05.4</td><td>-45:42:28</td><td>0.547</td><td>10.12</td><td>0.59</td><td>0.56</td><td>23:35:05.4</td><td>-45:42:28</td><td>0.55</td><td>7.12</td><td>0.59</td><td>0.56</td><td>--</td><td>--</td><td>--</td><td>--</td><td>--</td><td>--</td><td>--</td><td>--</td><td>--</td><td>--</td><td>--</td><td>--</td><td>--</td><td>--</td><td>--</td><td>10.12</td><td>--</td><td>1.25</td></tr>\n",
       "<tr><td>PSZ2 G337.14-25.98</td><td>--</td><td>--</td><td>PSZ2 G337.14-25.98</td><td>57</td><td>67</td><td>19:14:38.2</td><td>-59:28:02</td><td>0.264</td><td>7.83</td><td>1.53</td><td>1.77</td><td>19:14:28.6</td><td>-59:28:19</td><td>0.26</td><td>6.58</td><td>0.51</td><td>0.47</td><td>45</td><td>ACT-CL J1914.6-5928</td><td>19:14:38.2</td><td>-59:28:02</td><td>0.26</td><td>7.83</td><td>1.53</td><td>1.77</td><td>--</td><td>--</td><td>--</td><td>--</td><td>--</td><td>--</td><td>--</td><td>9.58</td><td>7.83</td><td>1.28</td></tr>\n",
       "<tr><td>PSZ2 G340.36+60.58</td><td>--</td><td>--</td><td>PSZ2 G340.36+60.58</td><td>48</td><td>7</td><td>14:01:01.8</td><td>+02:52:32</td><td>0.252</td><td>15.23</td><td>2.98</td><td>3.44</td><td>14:01:00.7</td><td>+02:52:14</td><td>0.25</td><td>9.75</td><td>0.40</td><td>0.36</td><td>4</td><td>ACT-CL J1401.0+0252</td><td>14:01:01.8</td><td>+02:52:32</td><td>0.25</td><td>15.23</td><td>2.98</td><td>3.44</td><td>J1401.0+0252</td><td>RXC J1401.0+0252</td><td>NORAS/REFLEX</td><td>19.721872</td><td>10.50</td><td>1.42</td><td>13.90</td><td>12.75</td><td>15.23</td><td>1.61</td></tr>\n",
       "<tr><td>PSZ2 G341.16+34.81</td><td>--</td><td>--</td><td>PSZ2 G341.16+34.81</td><td>52</td><td>31</td><td>15:00:50.7</td><td>-18:16:31</td><td>0.39</td><td>10.42</td><td>0.65</td><td>0.64</td><td>15:00:50.7</td><td>-18:16:31</td><td>0.39</td><td>7.42</td><td>0.65</td><td>0.64</td><td>--</td><td>--</td><td>--</td><td>--</td><td>--</td><td>--</td><td>--</td><td>--</td><td>--</td><td>--</td><td>--</td><td>--</td><td>--</td><td>--</td><td>--</td><td>10.42</td><td>--</td><td>1.34</td></tr>\n",
       "<tr><td>PSZ2 G342.33-34.93</td><td>VHS</td><td>MeerKAT</td><td>PSZ2 G342.33-34.93</td><td>59</td><td>60</td><td>20:23:20.2</td><td>-55:35:26</td><td>0.232</td><td>9.50</td><td>1.85</td><td>2.14</td><td>20:23:24.7</td><td>-55:34:30</td><td>0.23</td><td>6.68</td><td>0.43</td><td>0.45</td><td>21</td><td>ACT-CL J2023.3-5535</td><td>20:23:20.2</td><td>-55:35:26</td><td>0.23</td><td>9.50</td><td>1.85</td><td>2.14</td><td>J2023.4-5535</td><td>RXCJ2023.4-5535</td><td>NORAS/REFLEX</td><td>4.609207</td><td>4.40</td><td>1.07</td><td>7.80</td><td>9.68</td><td>9.50</td><td>1.38</td></tr>\n",
       "<tr><td>PSZ2 G347.17-27.36</td><td>VHS</td><td>--</td><td>PSZ2 G347.17-27.36</td><td>58</td><td>40</td><td>19:34:53.5</td><td>-50:52:40</td><td>0.237</td><td>10.19</td><td>0.46</td><td>0.44</td><td>19:34:53.5</td><td>-50:52:40</td><td>0.24</td><td>7.19</td><td>0.46</td><td>0.44</td><td>--</td><td>--</td><td>--</td><td>--</td><td>--</td><td>--</td><td>--</td><td>--</td><td>J1934.7-5053</td><td>RXCJ1934.7-5053</td><td>NORAS/REFLEX</td><td>5.672293</td><td>4.97</td><td>1.11</td><td>8.37</td><td>10.19</td><td>--</td><td>1.41</td></tr>\n",
       "<tr><td>PSZ2 G348.90-67.37</td><td>P109</td><td>MeerKAT</td><td>PSZ2 G348.90-67.37</td><td>62</td><td>39</td><td>23:25:12.2</td><td>-41:11:45</td><td>0.358</td><td>7.62</td><td>1.41</td><td>1.61</td><td>23:25:08.2</td><td>-41:12:42</td><td>0.36</td><td>7.19</td><td>0.45</td><td>0.49</td><td>49</td><td>ACT-CL J2325.2-4111</td><td>23:25:12.2</td><td>-41:11:45</td><td>0.36</td><td>7.62</td><td>1.41</td><td>1.61</td><td>--</td><td>--</td><td>--</td><td>--</td><td>--</td><td>--</td><td>--</td><td>10.19</td><td>7.62</td><td>1.23</td></tr>\n",
       "<tr><td>RXC J0600.1-2007</td><td>GCAV</td><td>--</td><td>PSZ2 G225.93-19.99</td><td>--</td><td>--</td><td>06:00:15.6</td><td>-20:07:27</td><td>0.46</td><td>13.73</td><td>0.54</td><td>0.51</td><td>06:00:15.6</td><td>-20:07:27</td><td>0.46</td><td>10.73</td><td>0.54</td><td>0.51</td><td>--</td><td>--</td><td>--</td><td>--</td><td>--</td><td>--</td><td>--</td><td>--</td><td>--</td><td>--</td><td>--</td><td>--</td><td>--</td><td>--</td><td>--</td><td>13.73</td><td>--</td><td>1.43</td></tr>\n",
       "<tr><td>RXC J1212.3-1816</td><td>HiLx</td><td>--</td><td>--</td><td>--</td><td>--</td><td>12:12:18.9</td><td>-18:16:44</td><td>0.269</td><td>8.23</td><td>--</td><td>--</td><td>--</td><td>--</td><td>--</td><td>--</td><td>--</td><td>--</td><td>--</td><td>--</td><td>--</td><td>--</td><td>--</td><td>--</td><td>--</td><td>--</td><td>J1212.3-1816</td><td>RXCJ1212.3-1816</td><td>NORAS/REFLEX</td><td>5.644133</td><td>4.83</td><td>1.09</td><td>8.23</td><td>--</td><td>--</td><td>1.30</td></tr>\n",
       "<tr><td>RXC J1314.4-2515</td><td>P109</td><td>MeerKAT</td><td>PSZ2 G309.49+37.31</td><td>42</td><td>58</td><td>13:14:31.5</td><td>-25:15:56</td><td>0.244</td><td>9.72</td><td>0.53</td><td>0.53</td><td>13:14:31.5</td><td>-25:15:56</td><td>0.24</td><td>6.72</td><td>0.53</td><td>0.53</td><td>--</td><td>--</td><td>--</td><td>--</td><td>--</td><td>--</td><td>--</td><td>--</td><td>J1314.4-2515</td><td>RXCJ1314.4-2515</td><td>NORAS/REFLEX</td><td>9.892675</td><td>6.94</td><td>1.24</td><td>10.34</td><td>9.72</td><td>--</td><td>1.39</td></tr>\n",
       "<tr><td>RXC J1347.5-1144</td><td>GCAV</td><td>CLASH-VLT</td><td>PSZ2 G324.04+48.79</td><td>46</td><td>5</td><td>13:47:32.7</td><td>-11:45:45</td><td>0.452</td><td>14.03</td><td>0.61</td><td>0.57</td><td>13:47:32.7</td><td>-11:45:45</td><td>0.45</td><td>11.03</td><td>0.61</td><td>0.57</td><td>--</td><td>--</td><td>--</td><td>--</td><td>--</td><td>--</td><td>--</td><td>--</td><td>J1347.5-1144</td><td>RXCJ1347.5-1144</td><td>NORAS/REFLEX</td><td>37.304424</td><td>13.18</td><td>1.42</td><td>16.58</td><td>14.03</td><td>--</td><td>1.45</td></tr>\n",
       "<tr><td>RXC J1504.1-0248</td><td>HiLx</td><td>--</td><td>PSZ2 G355.07+46.20</td><td>53</td><td>61</td><td>15:04:06.8</td><td>-02:48:22</td><td>0.217</td><td>11.27</td><td>2.24</td><td>2.60</td><td>15:04:05.4</td><td>-02:47:54</td><td>0.22</td><td>6.67</td><td>0.48</td><td>0.48</td><td>12</td><td>ACT-CL J1504.1-0248</td><td>15:04:06.8</td><td>-02:48:22</td><td>0.22</td><td>11.27</td><td>2.24</td><td>2.60</td><td>J1504.1-0248</td><td>RXCJ1504.1-0248</td><td>NORAS/REFLEX</td><td>24.968847</td><td>12.47</td><td>1.52</td><td>15.88</td><td>9.67</td><td>11.27</td><td>1.47</td></tr>\n",
       "<tr><td>RXC J1514.9-1523</td><td>GCAV</td><td>--</td><td>PSZ2 G346.61+35.06</td><td>54</td><td>11</td><td>15:15:00.5</td><td>-15:21:23</td><td>0.223</td><td>11.86</td><td>0.46</td><td>0.41</td><td>15:15:00.5</td><td>-15:21:23</td><td>0.22</td><td>8.86</td><td>0.46</td><td>0.41</td><td>--</td><td>--</td><td>--</td><td>--</td><td>--</td><td>--</td><td>--</td><td>--</td><td>J1514.9-1523</td><td>RXCJ1514.9-1523</td><td>NORAS/REFLEX</td><td>6.427656</td><td>5.42</td><td>1.15</td><td>8.82</td><td>11.86</td><td>--</td><td>1.49</td></tr>\n",
       "<tr><td>RXC J2248.7-4431</td><td>GCAV</td><td>CLASH-VLT MeerKAT</td><td>PSZ2 G349.46-59.95</td><td>61</td><td>3</td><td>22:48:49.2</td><td>-44:31:40</td><td>0.351</td><td>18.97</td><td>3.55</td><td>4.05</td><td>22:48:51.6</td><td>-44:31:33</td><td>0.35</td><td>11.36</td><td>0.34</td><td>0.34</td><td>0</td><td>ACT-CL J2248.8-4431</td><td>22:48:49.2</td><td>-44:31:40</td><td>0.35</td><td>18.97</td><td>3.55</td><td>4.05</td><td>J2248.7-4431</td><td>RXCJ2248.7-4431</td><td>NORAS/REFLEX</td><td>27.166569</td><td>11.83</td><td>1.43</td><td>15.23</td><td>14.36</td><td>18.97</td><td>1.67</td></tr>\n",
       "<tr><td>ZwCl 1021.0+0426</td><td>HiLx</td><td>--</td><td>PSZ2 G239.43+47.95</td><td>31</td><td>68</td><td>10:23:39.0</td><td>+04:11:16</td><td>0.285</td><td>12.01</td><td>2.31</td><td>2.65</td><td>10:23:41.7</td><td>+04:09:58</td><td>0.28</td><td>6.53</td><td>0.44</td><td>0.44</td><td>11</td><td>ACT-CL J1023.6+0411</td><td>10:23:39.0</td><td>+04:11:16</td><td>0.28</td><td>12.01</td><td>2.31</td><td>2.65</td><td>J1023.6+0411</td><td>RXC J1023.6+0411</td><td>NORAS/REFLEX</td><td>18.098963</td><td>9.71</td><td>1.37</td><td>13.11</td><td>9.53</td><td>12.01</td><td>1.47</td></tr>\n",
       "</table></div>"
      ],
      "text/plain": [
       "<Table length=79>\n",
       "    CHANCES name    VISTA      Comments             name        index ...  r500_X m500_X_corr m500_PSZ_corr m500_ACT_corr   r500 \n",
       "       str19         str4       str17              str19        int64 ... float64   float64      float64       float64    float64\n",
       "------------------- ----- ----------------- ------------------- ----- ... ------- ----------- ------------- ------------- -------\n",
       "ACT-CL J0138.0-2155    --                -- ACT-CL J0138.0-2155     1 ...      --          --            --          6.34    1.16\n",
       "ACT-CL J1311.0-0310    --                -- ACT-CL J1311.0-0310    40 ...    0.95        7.55            --          4.95    1.01\n",
       "          Abell0521  HiLx           MeerKAT  PSZ2 G208.80-30.67    14 ...    1.17        9.22         10.26          6.61    1.22\n",
       "          Abell0901  HiLx                --                  --    -- ...    1.16        8.63            --            --    1.37\n",
       "          Abell0907  HiLx                --  PSZ2 G249.38+33.26    -- ...    1.14        8.43          8.41            --    1.36\n",
       "          Abell1300  GCAV                --  PSZ2 G278.58+39.16    34 ...    1.25       11.00         11.97            --    1.45\n",
       "          Abell1451  HiLx                --  PSZ2 G288.27+39.97    37 ...    1.17        9.02         10.16            --    1.43\n",
       "          Abell3444  P109                --  PSZ2 G266.83+25.08    32 ...    1.28       11.11         10.37            --    1.41\n",
       "         AbellS0780  P109                --  PSZ2 G340.94+35.07    51 ...    1.34       12.02         10.80            --    1.44\n",
       "        ClG 0657-56  P108           MeerKAT  PSZ2 G266.04-21.25    23 ...    1.39       13.76         16.10         16.06    1.61\n",
       "  MACS J0329.7-0211  P108         CLASH-VLT ACT-CL J0329.6-0211     8 ...    0.99        7.86            --          7.84    1.19\n",
       "  MACS J0416.1-2403  GCAV         CLASH-VLT  PSZ2 G221.06-44.05    11 ...      --          --          3.00         10.52    1.35\n",
       "  MACS J0553.4-3342  GCAV                --  PSZ2 G239.27-26.01    -- ...      --          --         11.77            --    1.38\n",
       "  MACS J1115.9+0129  P109   WAVES CLASH-VLT  PSZ2 G257.09+55.61    33 ...    1.21       10.67          9.86          9.80    1.33\n",
       "  MACS J1206.2-0847  P109         CLASH-VLT  PSZ2 G284.41+52.45    38 ...    1.23       11.80         14.18            --    1.46\n",
       "  MACS J1311.0-0311  P109         CLASH-VLT        MACSJ1311-03    64 ...    0.95        7.55            --            --    1.16\n",
       "       MACSJ0329-02    --                --        MACSJ0329-02    63 ...    0.99        7.86            --            --    1.20\n",
       "                ...   ...               ...                 ...   ... ...     ...         ...           ...           ...     ...\n",
       " PSZ2 G325.70+17.34  P109                --  PSZ2 G325.70+17.34    50 ...      --          --         10.57            --    1.39\n",
       " PSZ2 G333.89-43.60    --                --  PSZ2 G333.89-43.60    60 ...      --          --          9.66            --    1.35\n",
       " PSZ2 G337.12-66.02  P107                --  PSZ2 G337.12-66.02    -- ...      --          --         10.12            --    1.25\n",
       " PSZ2 G337.14-25.98    --                --  PSZ2 G337.14-25.98    57 ...      --          --          9.58          7.83    1.28\n",
       " PSZ2 G340.36+60.58    --                --  PSZ2 G340.36+60.58    48 ...    1.42       13.90         12.75         15.23    1.61\n",
       " PSZ2 G341.16+34.81    --                --  PSZ2 G341.16+34.81    52 ...      --          --         10.42            --    1.34\n",
       " PSZ2 G342.33-34.93   VHS           MeerKAT  PSZ2 G342.33-34.93    59 ...    1.07        7.80          9.68          9.50    1.38\n",
       " PSZ2 G347.17-27.36   VHS                --  PSZ2 G347.17-27.36    58 ...    1.11        8.37         10.19            --    1.41\n",
       " PSZ2 G348.90-67.37  P109           MeerKAT  PSZ2 G348.90-67.37    62 ...      --          --         10.19          7.62    1.23\n",
       "   RXC J0600.1-2007  GCAV                --  PSZ2 G225.93-19.99    -- ...      --          --         13.73            --    1.43\n",
       "   RXC J1212.3-1816  HiLx                --                  --    -- ...    1.09        8.23            --            --    1.30\n",
       "   RXC J1314.4-2515  P109           MeerKAT  PSZ2 G309.49+37.31    42 ...    1.24       10.34          9.72            --    1.39\n",
       "   RXC J1347.5-1144  GCAV         CLASH-VLT  PSZ2 G324.04+48.79    46 ...    1.42       16.58         14.03            --    1.45\n",
       "   RXC J1504.1-0248  HiLx                --  PSZ2 G355.07+46.20    53 ...    1.52       15.88          9.67         11.27    1.47\n",
       "   RXC J1514.9-1523  GCAV                --  PSZ2 G346.61+35.06    54 ...    1.15        8.82         11.86            --    1.49\n",
       "   RXC J2248.7-4431  GCAV CLASH-VLT MeerKAT  PSZ2 G349.46-59.95    61 ...    1.43       15.23         14.36         18.97    1.67\n",
       "   ZwCl 1021.0+0426  HiLx                --  PSZ2 G239.43+47.95    31 ...    1.37       13.11          9.53         12.01    1.47"
      ]
     },
     "execution_count": 101,
     "metadata": {},
     "output_type": "execute_result"
    }
   ],
   "source": [
    "for col in chances_mcxc.colnames:\n",
    "    if 'm500' in col or 'r500' in col:\n",
    "        chances_mcxc[col].format = '%.2f'\n",
    "chances_mcxc"
   ]
  },
  {
   "cell_type": "markdown",
   "metadata": {},
   "source": [
    "Let's compare the radii from the corrected masses just as a consistency check"
   ]
  },
  {
   "cell_type": "code",
   "execution_count": 102,
   "metadata": {},
   "outputs": [],
   "source": [
    "def zline(xz, a, b, c=1):\n",
    "    x, z = xz\n",
    "    return a + b*z + c*x"
   ]
  },
  {
   "cell_type": "code",
   "execution_count": 103,
   "metadata": {},
   "outputs": [
    {
     "ename": "NameError",
     "evalue": "name 'evol_mcxc' is not defined",
     "output_type": "error",
     "traceback": [
      "\u001b[0;31m---------------------------------------------------------------------------\u001b[0m",
      "\u001b[0;31mNameError\u001b[0m                                 Traceback (most recent call last)",
      "\u001b[0;32m/tmp/ipykernel_1084425/1132712289.py\u001b[0m in \u001b[0;36m<module>\u001b[0;34m\u001b[0m\n\u001b[1;32m      1\u001b[0m \u001b[0;32mfor\u001b[0m \u001b[0mname\u001b[0m\u001b[0;34m,\u001b[0m \u001b[0mmask\u001b[0m \u001b[0;32min\u001b[0m \u001b[0mzip\u001b[0m\u001b[0;34m(\u001b[0m\u001b[0;34m(\u001b[0m\u001b[0;34m'ACT'\u001b[0m\u001b[0;34m,\u001b[0m \u001b[0;34m'PSZ'\u001b[0m\u001b[0;34m,\u001b[0m \u001b[0;34m'X'\u001b[0m\u001b[0;34m)\u001b[0m\u001b[0;34m,\u001b[0m \u001b[0;34m(\u001b[0m\u001b[0minact\u001b[0m\u001b[0;34m,\u001b[0m \u001b[0minpsz\u001b[0m\u001b[0;34m,\u001b[0m \u001b[0minx\u001b[0m\u001b[0;34m)\u001b[0m\u001b[0;34m)\u001b[0m\u001b[0;34m:\u001b[0m\u001b[0;34m\u001b[0m\u001b[0;34m\u001b[0m\u001b[0m\n\u001b[0;32m----> 2\u001b[0;31m     \u001b[0mr500\u001b[0m \u001b[0;34m=\u001b[0m \u001b[0mconversions\u001b[0m\u001b[0;34m.\u001b[0m\u001b[0mrsph\u001b[0m\u001b[0;34m(\u001b[0m\u001b[0;36m1e14\u001b[0m\u001b[0;34m*\u001b[0m\u001b[0mevol_mcxc\u001b[0m\u001b[0;34m[\u001b[0m\u001b[0;34mf'm500_{name}_corr'\u001b[0m\u001b[0;34m]\u001b[0m\u001b[0;34m,\u001b[0m \u001b[0mevol_mcxc\u001b[0m\u001b[0;34m[\u001b[0m\u001b[0;34m'z'\u001b[0m\u001b[0;34m]\u001b[0m\u001b[0;34m,\u001b[0m \u001b[0mref\u001b[0m\u001b[0;34m=\u001b[0m\u001b[0;34m'500c'\u001b[0m\u001b[0;34m)\u001b[0m\u001b[0;34m\u001b[0m\u001b[0;34m\u001b[0m\u001b[0m\n\u001b[0m\u001b[1;32m      3\u001b[0m     \u001b[0;31m#r500 = np.ma.array(r500, mask=~mask)\u001b[0m\u001b[0;34m\u001b[0m\u001b[0;34m\u001b[0m\u001b[0m\n\u001b[1;32m      4\u001b[0m     \u001b[0mrname\u001b[0m \u001b[0;34m=\u001b[0m \u001b[0;34mf'r500_{name}_corr'\u001b[0m\u001b[0;34m\u001b[0m\u001b[0;34m\u001b[0m\u001b[0m\n\u001b[1;32m      5\u001b[0m     \u001b[0;32mif\u001b[0m \u001b[0mrname\u001b[0m \u001b[0;32min\u001b[0m \u001b[0mevol_mcxc\u001b[0m\u001b[0;34m.\u001b[0m\u001b[0mcolnames\u001b[0m\u001b[0;34m:\u001b[0m\u001b[0;34m\u001b[0m\u001b[0;34m\u001b[0m\u001b[0m\n",
      "\u001b[0;31mNameError\u001b[0m: name 'evol_mcxc' is not defined"
     ]
    }
   ],
   "source": [
    "for name, mask in zip(('ACT', 'PSZ', 'X'), (inact, inpsz, inx)):\n",
    "    r500 = conversions.rsph(1e14*chances_mcxc[f'm500_{name}_corr'], chances_mcxc['z'], ref='500c')\n",
    "    #r500 = np.ma.array(r500, mask=~mask)\n",
    "    rname = f'r500_{name}_corr'\n",
    "    if rname in chances_mcxc.colnames:\n",
    "        chances_mcxc[rname] = r500\n",
    "    else:\n",
    "        chances_mcxc.add_column(r500, name=rname)\n",
    "    if name != 'X':\n",
    "        r500[mask] = conversions.rsph(1e14*chances_mcxc[f'm500_{name}'][mask], chances_mcxc['z'][mask], ref='500c')\n",
    "        r500 = np.ma.array(r500, mask=~mask)\n",
    "        rname = f'r500_{name}'\n",
    "        if rname in chances_mcxc.colnames:\n",
    "            chance_mcxc[rname] = r500\n",
    "        else:\n",
    "            evol_mcxc.add_column(r500, name=rname)"
   ]
  },
  {
   "cell_type": "code",
   "execution_count": null,
   "metadata": {},
   "outputs": [],
   "source": [
    "t = np.linspace(0, 2, 10)\n",
    "fig, axes = plt.subplots(1, 3, figsize=(20,6), constrained_layout=True)\n",
    "for ax, xname, yname, mask in zip(axes, ('ACT','ACT','PSZ'), ('PSZ','X','X'), (sz, actx, pszx)):\n",
    "    x = evol_mcxc[f'r500_{xname}_corr'][mask]\n",
    "    y = evol_mcxc[f'r500_{yname}_corr'][mask]\n",
    "    z = evol_mcxc['z'][mask]\n",
    "    pts = ax.scatter(x, y, c=z, vmin=0, vmax=0.5, cmap='viridis', marker='o', s=60)\n",
    "    ax.plot(t, t, '--')\n",
    "    # best-fit straight line with slope=1\n",
    "    fit, cov = curve_fit(line, x, y, p0=(0.3,))\n",
    "    std = np.std(y - line(x, *fit))\n",
    "    ax.plot(t, line(t, *fit), '-', label=f'$a={fit[0]:.2f}$ ($\\sigma={std:.2f}$)')\n",
    "    # best-fit including redshift (not plotting)\n",
    "    zfit, zcov = curve_fit(zline, [x,z], y, p0=(0.3,0.1))\n",
    "    zstd = np.std(y - zline([x, z], *zfit))\n",
    "    print(f'std_z = {zstd:.2f}')\n",
    "    ax.set(xlabel=fr'$r_{{500}}^\\mathrm{{{xname}}}$ (Mpc)',\n",
    "           ylabel=fr'$r_{{500}}^\\mathrm{{{yname}}}$ (Mpc)',\n",
    "           xlim=(0.8, 2), ylim=(0.8, 2))\n",
    "    ax.legend()\n",
    "plt.colorbar(pts, ax=axes, label='Redshift')"
   ]
  },
  {
   "cell_type": "markdown",
   "metadata": {},
   "source": [
    "Including the redshift does not reduce the scatter."
   ]
  },
  {
   "cell_type": "code",
   "execution_count": null,
   "metadata": {},
   "outputs": [],
   "source": [
    "evol_mcxc['r500_r'] = 0.15 + evol_mcxc['r500_X']\n",
    "evol_mcxc['r500_r'][inpsz] = 0.15 + evol_mcxc['r500_PSZ'][inpsz]\n",
    "evol_mcxc['r500_r'][inact] = evol_mcxc['r500_ACT'][inact]"
   ]
  },
  {
   "cell_type": "code",
   "execution_count": null,
   "metadata": {},
   "outputs": [],
   "source": [
    "rbins = np.arange(1, 1.8, 0.05)\n",
    "plt.hist(evol_mcxc['r500_r'], rbins, alpha=0.5, label='From radii')\n",
    "plt.hist(evol_mcxc['r500'], rbins, alpha=0.5, label='From mass')\n",
    "plt.xlabel('$r_{500}$ (Mpc)')\n",
    "plt.legend(fontsize=14)"
   ]
  },
  {
   "cell_type": "code",
   "execution_count": null,
   "metadata": {},
   "outputs": [],
   "source": [
    "kpc2arcmin = Planck18.kpc_proper_per_arcmin(evol_mcxc['z'])\n",
    "d200 = (evol_mcxc['r500'] * u.Mpc / kpc2arcmin).to('arcmin')\n",
    "plt.hist(d200.value, 20)\n",
    "plt.xlabel(r'$\\theta_{500}$ (arcmin)')"
   ]
  },
  {
   "cell_type": "markdown",
   "metadata": {},
   "source": [
    "# $r_{200}$"
   ]
  },
  {
   "cell_type": "markdown",
   "metadata": {},
   "source": [
    "Now let's calculate $r_{200}$:"
   ]
  },
  {
   "cell_type": "code",
   "execution_count": 64,
   "metadata": {},
   "outputs": [],
   "source": [
    "import astro.constants\n",
    "import astropy.constants"
   ]
  },
  {
   "cell_type": "code",
   "execution_count": 65,
   "metadata": {},
   "outputs": [
    {
     "data": {
      "text/plain": [
       "6.6743e-08"
      ]
     },
     "execution_count": 65,
     "metadata": {},
     "output_type": "execute_result"
    }
   ],
   "source": [
    "astro.constants.G"
   ]
  },
  {
   "cell_type": "code",
   "execution_count": 66,
   "metadata": {},
   "outputs": [
    {
     "data": {
      "text/latex": [
       "$6.6743 \\times 10^{-11} \\; \\mathrm{\\frac{m^{3}}{kg\\,s^{2}}}$"
      ],
      "text/plain": [
       "<<class 'astropy.constants.codata2018.CODATA2018'> name='Gravitational constant' value=6.6743e-11 uncertainty=1.5e-15 unit='m3 / (kg s2)' reference='CODATA 2018'>"
      ]
     },
     "execution_count": 66,
     "metadata": {},
     "output_type": "execute_result"
    }
   ],
   "source": [
    "astropy.constants.G"
   ]
  },
  {
   "cell_type": "code",
   "execution_count": 72,
   "metadata": {},
   "outputs": [
    {
     "name": "stdout",
     "output_type": "stream",
     "text": [
      "Deleted outdated persistence file, no further action needed.\n"
     ]
    },
    {
     "data": {
      "text/plain": [
       "Text(0.5, 0, '$\\\\theta_{200}$ (arcmin)')"
      ]
     },
     "execution_count": 72,
     "metadata": {},
     "output_type": "execute_result"
    },
    {
     "data": {
      "image/png": "[encoded data removed]",
      "text/plain": [
       "<Figure size 864x360 with 2 Axes>"
      ]
     },
     "metadata": {
      "needs_background": "light"
     },
     "output_type": "display_data"
    }
   ],
   "source": [
    "cosmology.fromAstropy(Planck18, sigma8=0.81, ns=0.966)\n",
    "c = concentration.concentration(1e14*chances_mcxc['m500'], '500c', chances_mcxc['z'], model='ishiyama21')\n",
    "nfw = NFW(1e14*chances_mcxc['m500'], c, chances_mcxc['z'], overdensity=500, frame='physical', cosmo=Planck18)\n",
    "m200, c200 = nfw.mdelta(200)\n",
    "r200 = nfw.rdelta(200)\n",
    "d200 = (r200*u.Mpc * Planck18.arcsec_per_kpc_proper(chances['z'])).to('arcmin').value\n",
    "chances_mcxc['m200'] = m200 / 1e14\n",
    "chances_mcxc['c200'] = c200\n",
    "chances_mcxc['r200'] = r200\n",
    "chances_mcxc['d200'] = d200\n",
    "for col in ('m200','c200','r200','d200'):\n",
    "    chances_mcxc[col].format = '%.2f'\n",
    "fig, axes = plt.subplots(1, 2, figsize=(12,5))\n",
    "axes[0].hist(chances_mcxc['r200'], 20)\n",
    "axes[0].set_xlabel('$r_{200}$ (Mpc)')\n",
    "axes[1].hist(chances_mcxc['d200'], 20)\n",
    "axes[1].set_xlabel(r'$\\theta_{200}$ (arcmin)')"
   ]
  },
  {
   "cell_type": "code",
   "execution_count": null,
   "metadata": {},
   "outputs": [],
   "source": [
    "chances_mcxc['CHANCES name','ACT_name','X-rays','z','m500','r500','m200','r200','d200'][d200 > 12]"
   ]
  },
  {
   "cell_type": "code",
   "execution_count": 73,
   "metadata": {},
   "outputs": [],
   "source": [
    "chances_mcxc.write(f'catalogues/chances_clusters_{sample}_r200.txt', format='ascii.fixed_width')"
   ]
  }
 ],
 "metadata": {
  "kernelspec": {
   "display_name": "Python [conda env:bluemembers]",
   "language": "python",
   "name": "conda-env-bluemembers-py"
  },
  "language_info": {
   "codemirror_mode": {
    "name": "ipython",
    "version": 3
   },
   "file_extension": ".py",
   "mimetype": "text/x-python",
   "name": "python",
   "nbconvert_exporter": "python",
   "pygments_lexer": "ipython3",
   "version": "3.10.0"
  }
 },
 "nbformat": 4,
 "nbformat_minor": 4
}
