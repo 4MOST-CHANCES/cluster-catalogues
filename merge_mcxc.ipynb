{
 "cells": [
  {
   "cell_type": "code",
   "execution_count": 1,
   "metadata": {},
   "outputs": [],
   "source": [
    "%load_ext autoreload\n",
    "%autoreload 2"
   ]
  },
  {
   "cell_type": "code",
   "execution_count": 2,
   "metadata": {},
   "outputs": [
    {
     "data": {
      "text/plain": [
       "'5.1'"
      ]
     },
     "execution_count": 2,
     "metadata": {},
     "output_type": "execute_result"
    }
   ],
   "source": [
    "import astropy\n",
    "astropy.__version__"
   ]
  },
  {
   "cell_type": "code",
   "execution_count": 164,
   "metadata": {},
   "outputs": [],
   "source": [
    "%matplotlib inline\n",
    "from astropy import units as u\n",
    "from astropy.cosmology import Planck18\n",
    "from astropy.table import Column, MaskedColumn, Table, join\n",
    "import cmasher as cmr\n",
    "from glob import glob\n",
    "from matplotlib import pyplot as plt\n",
    "import numpy as np\n",
    "from scipy.optimize import curve_fit"
   ]
  },
  {
   "cell_type": "markdown",
   "metadata": {},
   "source": [
    "pip installable:"
   ]
  },
  {
   "cell_type": "code",
   "execution_count": 4,
   "metadata": {},
   "outputs": [
    {
     "data": {
      "text/plain": [
       "'1.3.4b'"
      ]
     },
     "execution_count": 4,
     "metadata": {},
     "output_type": "execute_result"
    }
   ],
   "source": [
    "import profiley\n",
    "profiley.__version__"
   ]
  },
  {
   "cell_type": "code",
   "execution_count": 5,
   "metadata": {},
   "outputs": [
    {
     "name": "stderr",
     "output_type": "stream",
     "text": [
      "/home/cristobal/anaconda3/envs/bluemembers/lib/python3.10/site-packages/plottery/plotutils.py:175: MatplotlibDeprecationWarning: Support for setting an rcParam that expects a str value to a non-str value is deprecated since 3.5 and support will be removed two minor releases later.\n",
      "  rcParams[key] = default[key]\n"
     ]
    }
   ],
   "source": [
    "from colossus.cosmology import cosmology\n",
    "from colossus.halo import concentration\n",
    "from plottery.plotutils import savefig, update_rcParams\n",
    "from profiley.nfw import NFW\n",
    "update_rcParams()"
   ]
  },
  {
   "cell_type": "markdown",
   "metadata": {},
   "source": [
    "My own code, at https://github.com/cristobal-sifon/astro"
   ]
  },
  {
   "cell_type": "code",
   "execution_count": 6,
   "metadata": {},
   "outputs": [],
   "source": [
    "from astro.clusters import catalogs, conversions"
   ]
  },
  {
   "cell_type": "code",
   "execution_count": 7,
   "metadata": {},
   "outputs": [
    {
     "name": "stdout",
     "output_type": "stream",
     "text": [
      "Available catalogs:\n",
      "('abell', 'actpol', 'advact', 'gmbcg', 'hecs2013', 'madcows', 'maxbcg', 'mcxc', 'orca', 'psz1', 'psz2', 'redmapper', 'spt-sz', 'whl')\n"
     ]
    }
   ],
   "source": [
    "catalogs.list_available()"
   ]
  },
  {
   "cell_type": "code",
   "execution_count": 169,
   "metadata": {},
   "outputs": [],
   "source": [
    "sample = 'lowz'\n",
    "#sample = 'evolution'"
   ]
  },
  {
   "cell_type": "code",
   "execution_count": 170,
   "metadata": {},
   "outputs": [
    {
     "data": {
      "text/html": [
       "<div><i>Table length=59</i>\n",
       "<table id=\"table140096874964032\" class=\"table-striped table-bordered table-condensed\">\n",
       "<thead><tr><th>index</th><th>CHANCES name</th><th>ra</th><th>dec</th><th>z</th><th>Gal_Long</th><th>Gal_Latitude</th><th>Lx</th><th>VST</th><th>AAO_redshifts</th><th>SPLUS</th><th>Comments</th><th>PSZ_name</th><th>index_PSZ</th><th>hms</th><th>dms</th><th>m500lo</th><th>m500</th></tr></thead>\n",
       "<thead><tr><th>int64</th><th>str19</th><th>float64</th><th>float64</th><th>float64</th><th>float64</th><th>float64</th><th>float64</th><th>str1</th><th>int64</th><th>str6</th><th>str18</th><th>str18</th><th>int64</th><th>str11</th><th>str11</th><th>float64</th><th>float64</th></tr></thead>\n",
       "<tr><td>0</td><td>A0500</td><td>69.716</td><td>-22.1</td><td>0.067</td><td>220.556</td><td>-38.49</td><td>0.72</td><td>Y</td><td>478</td><td>2020B</td><td>--</td><td>PSZ2 G220.53-38.55</td><td>--</td><td>4:38:51.84</td><td>-22:06:00</td><td>--</td><td>2.39</td></tr>\n",
       "<tr><td>1</td><td>A0548b</td><td>86.366</td><td>-25.916</td><td>0.044</td><td>230.469</td><td>-25.248</td><td>0.15</td><td>N</td><td>0</td><td>2021B</td><td>--</td><td>--</td><td>--</td><td>5:45:27.84</td><td>-25:54:57.6</td><td>--</td><td>--</td></tr>\n",
       "<tr><td>2</td><td>A0754</td><td>137.133</td><td>-9.616</td><td>0.054</td><td>239.185</td><td>24.707</td><td>4.08</td><td>Y</td><td>423</td><td>2021B</td><td>--</td><td>PSZ2 G239.29+24.75</td><td>--</td><td>9:08:31.92</td><td>-9:36:57.6</td><td>--</td><td>6.85</td></tr>\n",
       "<tr><td>3</td><td>A0780</td><td>139.525</td><td>-12.083</td><td>0.057</td><td>242.915</td><td>25.101</td><td>3.38</td><td>N</td><td>0</td><td>2021B</td><td>--</td><td>--</td><td>--</td><td>9:18:06</td><td>-12:04:58.8</td><td>--</td><td>--</td></tr>\n",
       "<tr><td>4</td><td>A0957</td><td>153.408</td><td>0.916</td><td>0.045</td><td>240.931</td><td>43.981</td><td>0.4</td><td>Y</td><td>154</td><td>SPLUS</td><td>--</td><td>--</td><td>--</td><td>10:13:37.92</td><td>0:54:57.6</td><td>--</td><td>--</td></tr>\n",
       "<tr><td>5</td><td>A0970</td><td>154.391</td><td>-10.666</td><td>0.059</td><td>253.075</td><td>36.897</td><td>0.77</td><td>Y</td><td>136</td><td>SPLUS</td><td>--</td><td>PSZ2 G253.04+36.83</td><td>--</td><td>10:17:33.84</td><td>-10:39:57.6</td><td>--</td><td>2.3</td></tr>\n",
       "<tr><td>6</td><td>A1069</td><td>159.929</td><td>-8.683</td><td>0.062</td><td>256.585</td><td>42.035</td><td>0.48</td><td>Y</td><td>496</td><td>SPLUS</td><td>--</td><td>PSZ2 G256.67+42.05</td><td>--</td><td>10:39:42.96</td><td>-8:40:58.8</td><td>--</td><td>1.8</td></tr>\n",
       "<tr><td>7</td><td>A1631a</td><td>193.216</td><td>-15.4</td><td>0.047</td><td>303.441</td><td>47.47</td><td>0.37</td><td>Y</td><td>673</td><td>SPLUS</td><td>--</td><td>PSZ2 G303.56+47.54</td><td>--</td><td>12:52:51.84</td><td>-15:24:00</td><td>--</td><td>1.7</td></tr>\n",
       "<tr><td>8</td><td>A1644</td><td>194.295</td><td>-17.4</td><td>0.048</td><td>304.885</td><td>45.449</td><td>1.8</td><td>N</td><td>0</td><td>SPLUS</td><td>--</td><td>PSZ2 G304.91+45.43</td><td>--</td><td>12:57:10.8</td><td>-17:24:00</td><td>--</td><td>3.69</td></tr>\n",
       "<tr><td>9</td><td>A1736</td><td>201.795</td><td>-27.2</td><td>0.046</td><td>312.641</td><td>34.996</td><td>1.21</td><td>N</td><td>0</td><td>Shapl</td><td>--</td><td>PSZ2 G312.62+35.05</td><td>--</td><td>13:27:10.8</td><td>-27:12:00</td><td>--</td><td>2.89</td></tr>\n",
       "<tr><td>10</td><td>A2717</td><td>0.804</td><td>-35.933</td><td>0.05</td><td>349.301</td><td>-76.488</td><td>0.52</td><td>Y</td><td>610</td><td>SPLUS</td><td>--</td><td>--</td><td>--</td><td>0:03:12.96</td><td>-35:55:58.8</td><td>--</td><td>--</td></tr>\n",
       "<tr><td>11</td><td>A3128</td><td>52.562</td><td>-52.533</td><td>0.059</td><td>264.685</td><td>-51.117</td><td>1.08</td><td>Y</td><td>584</td><td>SPLUS</td><td>--</td><td>--</td><td>--</td><td>3:30:14.88</td><td>-52:31:58.8</td><td>--</td><td>--</td></tr>\n",
       "<tr><td>12</td><td>A3158</td><td>55.787</td><td>-53.65</td><td>0.059</td><td>265.05</td><td>-48.894</td><td>2.71</td><td>Y</td><td>621</td><td>SPLUS</td><td>--</td><td>PSZ2 G265.02-48.96</td><td>--</td><td>3:43:08.88</td><td>-53:39:00</td><td>--</td><td>4.53</td></tr>\n",
       "<tr><td>13</td><td>A3164</td><td>56.454</td><td>-57.033</td><td>0.061</td><td>269.436</td><td>-47.164</td><td>0.75</td><td>N</td><td>0</td><td>SPLUS</td><td>--</td><td>PSZ2 G269.36-47.20</td><td>--</td><td>3:45:48.96</td><td>-57:01:58.8</td><td>--</td><td>1.53</td></tr>\n",
       "<tr><td>14</td><td>A3266</td><td>67.804</td><td>-61.45</td><td>0.054</td><td>272.143</td><td>-40.153</td><td>3.14</td><td>Y</td><td>877</td><td>2021B</td><td>--</td><td>PSZ2 G272.08-40.16</td><td>--</td><td>4:31:12.96</td><td>-61:27:00</td><td>--</td><td>6.64</td></tr>\n",
       "<tr><td>15</td><td>A3376</td><td>90.17</td><td>-40.033</td><td>0.046</td><td>246.505</td><td>-26.294</td><td>1.27</td><td>Y</td><td>519</td><td>2020B</td><td>--</td><td>PSZ2 G246.50-26.09</td><td>--</td><td>6:00:40.8</td><td>-40:01:58.8</td><td>--</td><td>2.38</td></tr>\n",
       "<tr><td>16</td><td>A3395</td><td>96.9</td><td>-54.433</td><td>0.05</td><td>263.215</td><td>-25.129</td><td>1.43</td><td>Y</td><td>652</td><td>2021B</td><td>--</td><td>PSZ2 G263.19-25.19</td><td>--</td><td>6:27:36</td><td>-54:25:58.8</td><td>--</td><td>3.21</td></tr>\n",
       "<tr><td>...</td><td>...</td><td>...</td><td>...</td><td>...</td><td>...</td><td>...</td><td>...</td><td>...</td><td>...</td><td>...</td><td>...</td><td>...</td><td>...</td><td>...</td><td>...</td><td>...</td><td>...</td></tr>\n",
       "<tr><td>42</td><td>PSZ2 G242.41-37.40</td><td>75.203333</td><td>-38.67472</td><td>0.054</td><td>--</td><td>--</td><td>--</td><td>--</td><td>--</td><td>--</td><td>--</td><td>PSZ2 G242.41-37.40</td><td>362</td><td>5:00:48.8</td><td>-38:40:29</td><td>0.17</td><td>1.75</td></tr>\n",
       "<tr><td>43</td><td>ACT-CL J0507.6-0915</td><td>76.910417</td><td>-9.2575</td><td>0.04</td><td>--</td><td>--</td><td>--</td><td>--</td><td>--</td><td>--</td><td>--</td><td>--</td><td>--</td><td>5:07:38.5</td><td>-9:15:27</td><td>2.26</td><td>7.3</td></tr>\n",
       "<tr><td>44</td><td>PSZ2 G246.36-30.27</td><td>85.037083</td><td>-40.79333</td><td>0.036</td><td>--</td><td>--</td><td>--</td><td>--</td><td>--</td><td>--</td><td>--</td><td>PSZ2 G246.36-30.27</td><td>379</td><td>5:40:08.9</td><td>-40:47:36</td><td>0.17</td><td>1.13</td></tr>\n",
       "<tr><td>45</td><td>PSZ2 G230.28-24.42</td><td>87.160833</td><td>-25.48306</td><td>0.042</td><td>--</td><td>--</td><td>--</td><td>--</td><td>--</td><td>--</td><td>--</td><td>PSZ2 G230.28-24.42</td><td>370</td><td>5:48:38.6</td><td>-25:28:59</td><td>0.17</td><td>1.53</td></tr>\n",
       "<tr><td>46</td><td>ACT-CL J0600.7-5836</td><td>90.18875</td><td>-58.60889</td><td>0.037</td><td>--</td><td>--</td><td>--</td><td>--</td><td>--</td><td>--</td><td>--</td><td>--</td><td>--</td><td>6:00:45.3</td><td>-58:36:32</td><td>1.72</td><td>5.67</td></tr>\n",
       "<tr><td>47</td><td>PSZ2 G265.21-24.83</td><td>98.070833</td><td>-56.14722</td><td>0.054</td><td>--</td><td>--</td><td>--</td><td>--</td><td>--</td><td>--</td><td>--</td><td>PSZ2 G265.21-24.83</td><td>357</td><td>6:32:17</td><td>-56:08:50</td><td>0.17</td><td>1.84</td></tr>\n",
       "<tr><td>48</td><td>PSZ2 G271.60-12.50</td><td>123.142917</td><td>-57.24167</td><td>0.062</td><td>--</td><td>--</td><td>--</td><td>--</td><td>--</td><td>--</td><td>--</td><td>PSZ2 G271.60-12.50</td><td>270</td><td>8:12:34.3</td><td>-57:14:30</td><td>0.18</td><td>3.51</td></tr>\n",
       "<tr><td>49</td><td>PSZ2 G272.11-11.50</td><td>125.187917</td><td>-57.13417</td><td>0.061</td><td>--</td><td>--</td><td>--</td><td>--</td><td>--</td><td>--</td><td>--</td><td>PSZ2 G272.11-11.50</td><td>319</td><td>8:20:45.1</td><td>-57:08:03</td><td>0.16</td><td>2.48</td></tr>\n",
       "<tr><td>50</td><td>PSZ2 G243.02+42.87</td><td>153.505417</td><td>-0.95889</td><td>0.045</td><td>--</td><td>--</td><td>--</td><td>--</td><td>--</td><td>--</td><td>--</td><td>PSZ2 G243.02+42.87</td><td>364</td><td>10:14:01.3</td><td>-0:57:32</td><td>0.18</td><td>1.71</td></tr>\n",
       "<tr><td>51</td><td>PSZ2 G280.21+14.57</td><td>162.2175</td><td>-42.83028</td><td>0.058</td><td>--</td><td>--</td><td>--</td><td>--</td><td>--</td><td>--</td><td>--</td><td>PSZ2 G280.21+14.57</td><td>361</td><td>10:48:52.2</td><td>-42:49:49</td><td>0.24</td><td>1.78</td></tr>\n",
       "<tr><td>52</td><td>PSZ2 G257.51+57.54</td><td>170.3625</td><td>2.84194</td><td>0.047</td><td>--</td><td>--</td><td>--</td><td>--</td><td>--</td><td>--</td><td>--</td><td>PSZ2 G257.51+57.54</td><td>372</td><td>11:21:27</td><td>2:50:31</td><td>0.19</td><td>1.52</td></tr>\n",
       "<tr><td>53</td><td>PSZ2 G326.01+17.21</td><td>222.28</td><td>-40.3275</td><td>0.062</td><td>--</td><td>--</td><td>--</td><td>--</td><td>--</td><td>--</td><td>--</td><td>PSZ2 G326.01+17.21</td><td>345</td><td>14:49:07.2</td><td>-40:19:39</td><td>0.26</td><td>2.12</td></tr>\n",
       "<tr><td>54</td><td>PSZ2 G324.59-11.52</td><td>249.57875</td><td>-64.35917</td><td>0.051</td><td>--</td><td>--</td><td>--</td><td>--</td><td>--</td><td>--</td><td>--</td><td>PSZ2 G324.59-11.52</td><td>20</td><td>16:38:18.9</td><td>-64:21:33</td><td>0.16</td><td>7.94</td></tr>\n",
       "<tr><td>55</td><td>PSZ2 G317.58-17.82</td><td>251.372917</td><td>-73.59222</td><td>0.069</td><td>--</td><td>--</td><td>--</td><td>--</td><td>--</td><td>--</td><td>--</td><td>PSZ2 G317.58-17.82</td><td>348</td><td>16:45:29.5</td><td>-73:35:32</td><td>0.25</td><td>2.06</td></tr>\n",
       "<tr><td>56</td><td>PSZ2 G342.82-30.48</td><td>298.049583</td><td>-55.06333</td><td>0.06</td><td>--</td><td>--</td><td>--</td><td>--</td><td>--</td><td>--</td><td>--</td><td>PSZ2 G342.82-30.48</td><td>283</td><td>19:52:11.9</td><td>-55:03:48</td><td>0.2</td><td>3.24</td></tr>\n",
       "<tr><td>57</td><td>PSZ2 G345.82-34.29</td><td>304.704167</td><td>-52.715</td><td>0.051</td><td>--</td><td>--</td><td>--</td><td>--</td><td>--</td><td>--</td><td>--</td><td>PSZ2 G345.82-34.29</td><td>356</td><td>20:18:49</td><td>-52:42:54</td><td>0.16</td><td>1.84</td></tr>\n",
       "<tr><td>58</td><td>PSZ2 G357.75-41.77</td><td>315.929167</td><td>-43.32583</td><td>0.049</td><td>--</td><td>--</td><td>--</td><td>--</td><td>--</td><td>--</td><td>--</td><td>PSZ2 G357.75-41.77</td><td>368</td><td>21:03:43</td><td>-43:19:33</td><td>0.23</td><td>1.55</td></tr>\n",
       "</table></div>"
      ],
      "text/plain": [
       "<Table length=59>\n",
       "index     CHANCES name        ra        dec       z    Gal_Long ... index_PSZ     hms         dms      m500lo   m500 \n",
       "int64        str19         float64    float64  float64 float64  ...   int64      str11       str11    float64 float64\n",
       "----- ------------------- ---------- --------- ------- -------- ... --------- ----------- ----------- ------- -------\n",
       "    0               A0500     69.716     -22.1   0.067  220.556 ...        --  4:38:51.84   -22:06:00      --    2.39\n",
       "    1              A0548b     86.366   -25.916   0.044  230.469 ...        --  5:45:27.84 -25:54:57.6      --      --\n",
       "    2               A0754    137.133    -9.616   0.054  239.185 ...        --  9:08:31.92  -9:36:57.6      --    6.85\n",
       "    3               A0780    139.525   -12.083   0.057  242.915 ...        --     9:18:06 -12:04:58.8      --      --\n",
       "    4               A0957    153.408     0.916   0.045  240.931 ...        -- 10:13:37.92   0:54:57.6      --      --\n",
       "    5               A0970    154.391   -10.666   0.059  253.075 ...        -- 10:17:33.84 -10:39:57.6      --     2.3\n",
       "    6               A1069    159.929    -8.683   0.062  256.585 ...        -- 10:39:42.96  -8:40:58.8      --     1.8\n",
       "    7              A1631a    193.216     -15.4   0.047  303.441 ...        -- 12:52:51.84   -15:24:00      --     1.7\n",
       "    8               A1644    194.295     -17.4   0.048  304.885 ...        --  12:57:10.8   -17:24:00      --    3.69\n",
       "    9               A1736    201.795     -27.2   0.046  312.641 ...        --  13:27:10.8   -27:12:00      --    2.89\n",
       "   10               A2717      0.804   -35.933    0.05  349.301 ...        --  0:03:12.96 -35:55:58.8      --      --\n",
       "   11               A3128     52.562   -52.533   0.059  264.685 ...        --  3:30:14.88 -52:31:58.8      --      --\n",
       "   12               A3158     55.787    -53.65   0.059   265.05 ...        --  3:43:08.88   -53:39:00      --    4.53\n",
       "   13               A3164     56.454   -57.033   0.061  269.436 ...        --  3:45:48.96 -57:01:58.8      --    1.53\n",
       "   14               A3266     67.804    -61.45   0.054  272.143 ...        --  4:31:12.96   -61:27:00      --    6.64\n",
       "   15               A3376      90.17   -40.033   0.046  246.505 ...        --   6:00:40.8 -40:01:58.8      --    2.38\n",
       "   16               A3395       96.9   -54.433    0.05  263.215 ...        --     6:27:36 -54:25:58.8      --    3.21\n",
       "  ...                 ...        ...       ...     ...      ... ...       ...         ...         ...     ...     ...\n",
       "   42  PSZ2 G242.41-37.40  75.203333 -38.67472   0.054       -- ...       362   5:00:48.8   -38:40:29    0.17    1.75\n",
       "   43 ACT-CL J0507.6-0915  76.910417   -9.2575    0.04       -- ...        --   5:07:38.5    -9:15:27    2.26     7.3\n",
       "   44  PSZ2 G246.36-30.27  85.037083 -40.79333   0.036       -- ...       379   5:40:08.9   -40:47:36    0.17    1.13\n",
       "   45  PSZ2 G230.28-24.42  87.160833 -25.48306   0.042       -- ...       370   5:48:38.6   -25:28:59    0.17    1.53\n",
       "   46 ACT-CL J0600.7-5836   90.18875 -58.60889   0.037       -- ...        --   6:00:45.3   -58:36:32    1.72    5.67\n",
       "   47  PSZ2 G265.21-24.83  98.070833 -56.14722   0.054       -- ...       357     6:32:17   -56:08:50    0.17    1.84\n",
       "   48  PSZ2 G271.60-12.50 123.142917 -57.24167   0.062       -- ...       270   8:12:34.3   -57:14:30    0.18    3.51\n",
       "   49  PSZ2 G272.11-11.50 125.187917 -57.13417   0.061       -- ...       319   8:20:45.1   -57:08:03    0.16    2.48\n",
       "   50  PSZ2 G243.02+42.87 153.505417  -0.95889   0.045       -- ...       364  10:14:01.3    -0:57:32    0.18    1.71\n",
       "   51  PSZ2 G280.21+14.57   162.2175 -42.83028   0.058       -- ...       361  10:48:52.2   -42:49:49    0.24    1.78\n",
       "   52  PSZ2 G257.51+57.54   170.3625   2.84194   0.047       -- ...       372    11:21:27     2:50:31    0.19    1.52\n",
       "   53  PSZ2 G326.01+17.21     222.28  -40.3275   0.062       -- ...       345  14:49:07.2   -40:19:39    0.26    2.12\n",
       "   54  PSZ2 G324.59-11.52  249.57875 -64.35917   0.051       -- ...        20  16:38:18.9   -64:21:33    0.16    7.94\n",
       "   55  PSZ2 G317.58-17.82 251.372917 -73.59222   0.069       -- ...       348  16:45:29.5   -73:35:32    0.25    2.06\n",
       "   56  PSZ2 G342.82-30.48 298.049583 -55.06333    0.06       -- ...       283  19:52:11.9   -55:03:48     0.2    3.24\n",
       "   57  PSZ2 G345.82-34.29 304.704167   -52.715   0.051       -- ...       356    20:18:49   -52:42:54    0.16    1.84\n",
       "   58  PSZ2 G357.75-41.77 315.929167 -43.32583   0.049       -- ...       368    21:03:43   -43:19:33    0.23    1.55"
      ]
     },
     "execution_count": 170,
     "metadata": {},
     "output_type": "execute_result"
    }
   ],
   "source": [
    "chances = Table.read(f'catalogues/chances_clusters_{sample}_all.txt', format='ascii.fixed_width')\n",
    "if sample == 'lowz':\n",
    "    chances.rename_column('name', 'CHANCES name')\n",
    "m500 = MaskedColumn(chances['m500'], mask=(chances['m500'] <= 0), name='m500')\n",
    "chances.remove_column('m500')\n",
    "chances['m500'] = m500\n",
    "chances"
   ]
  },
  {
   "cell_type": "code",
   "execution_count": 171,
   "metadata": {},
   "outputs": [
    {
     "name": "stdout",
     "output_type": "stream",
     "text": [
      "MCXC: 39 matches\n"
     ]
    },
    {
     "data": {
      "text/plain": [
       "({'name': array(['J0438.9-2206', 'J0545.4-2556', 'J0918.1-1205', 'J1017.3-1040',\n",
       "         'J1039.7-0841', 'J1257.1-1724', 'J0003.2-3555', 'J0342.8-5338',\n",
       "         'J0346.1-5702', 'J0431.4-6126', 'J1145.3-3425', 'J1200.0-3124',\n",
       "         'J1255.5-3019', 'J1257.2-3022', 'J1327.9-3130', 'J1333.6-3139',\n",
       "         'J2012.5-5649', 'J2146.9-4354', 'J2357.0-3445', 'J2313.9-4244',\n",
       "         'J0626.3-5341', 'J1219.3-1315', 'J0413.9-3805', 'J0408.2-3053',\n",
       "         'J0322.3-4121', 'J1347.4-3250', 'J0433.6-1315', 'J0025.5-3302',\n",
       "         'J0311.4-2653', 'J0500.7-3840', 'J0507.7-0915', 'J0540.1-4050',\n",
       "         'J0548.6-2527', 'J0600.8-5835', 'J0812.5-5714', 'J1638.2-6420',\n",
       "         'J1645.4-7334', 'J1952.2-5503', 'J2018.7-5242'], dtype='<U12'),\n",
       "  'ra': array([ 69.728,  86.363, 139.527, 154.348, 159.935, 194.291,   0.801,\n",
       "          55.724,  56.54 ,  67.85 , 176.329, 180.021, 193.894, 194.32 ,\n",
       "         201.99 , 203.401, 303.127, 326.741, 359.26 , 348.494,  96.595,\n",
       "         184.832,  63.488,  62.068,  50.578, 206.868,  68.41 ,   6.385,\n",
       "          47.854,  75.194,  76.94 ,  85.026,  87.165,  90.201, 123.126,\n",
       "         249.567, 251.359, 298.069, 304.69 ]),\n",
       "  'dec': array([-22.114, -25.939, -12.093, -10.677,  -8.684, -17.4  , -35.927,\n",
       "         -53.635, -57.05 , -61.444, -34.429, -31.406, -30.33 , -30.377,\n",
       "         -31.503, -31.661, -56.832, -43.91 , -34.761, -42.734, -53.695,\n",
       "         -13.26 , -38.1  , -30.894, -41.36 , -32.85 , -13.259, -33.047,\n",
       "         -26.9  , -38.678,  -9.254, -40.842, -25.458, -58.587, -57.235,\n",
       "         -64.347, -73.582, -55.062, -52.706]),\n",
       "  'z': array([0.067 , 0.0424, 0.0539, 0.0586, 0.065 , 0.0473, 0.049 , 0.059 ,\n",
       "         0.057 , 0.0589, 0.0697, 0.0685, 0.0541, 0.0554, 0.048 , 0.049 ,\n",
       "         0.0556, 0.062 , 0.0475, 0.0564, 0.0514, 0.0688, 0.0501, 0.06  ,\n",
       "         0.0643, 0.0391, 0.0326, 0.0491, 0.0685, 0.0536, 0.0398, 0.0358,\n",
       "         0.042 , 0.0369, 0.062 , 0.0508, 0.069 , 0.06  , 0.0505]),\n",
       "  'index': array([ 339,  407,  576,  660,  693,  935,    5,  295,  298,  333,  793,\n",
       "          815,  929,  937,  998, 1015, 1485, 1564, 1738, 1674,  435,  860,\n",
       "          319,  317,  262, 1047,  334,   38,  249,  359,  368,  401,  412,\n",
       "          417,  509, 1259, 1267, 1469, 1491]),\n",
       "  'dist': array([1.07265049, 1.38946249, 0.61136609, 2.61987529, 0.36089601,\n",
       "         0.22901768, 0.38838603, 2.41484569, 2.98676793, 1.36743993,\n",
       "         0.31110404, 1.40355872, 0.35909397, 1.84362765, 1.20977609,\n",
       "         0.42882233, 1.0789568 , 1.62920504, 0.82377482, 0.        ,\n",
       "         0.11999998, 0.        , 0.04721606, 0.05148716, 0.07502077,\n",
       "         0.05999998, 0.        , 2.47719331, 2.26106832, 0.47938386,\n",
       "         1.76443142, 2.9630522 , 1.52018168, 1.36803008, 0.67947754,\n",
       "         0.79120858, 0.6571478 , 0.67195162, 0.74618376]),\n",
       "  'dz': array([0.067])},\n",
       " array([ 0,  1,  3,  5,  6,  8, 10, 12, 13, 14, 17, 18, 21, 22, 24, 26, 27,\n",
       "        29, 30, 31, 32, 34, 35, 36, 37, 38, 39, 40, 41, 42, 43, 44, 45, 46,\n",
       "        48, 54, 55, 56, 57]))"
      ]
     },
     "execution_count": 171,
     "metadata": {},
     "output_type": "execute_result"
    }
   ],
   "source": [
    "mcxc_matches = catalogs.query(chances['hms'], chances['dms'], radius=3, catalogs='mcxc', squeeze=True)\n",
    "mcxc_matches"
   ]
  },
  {
   "cell_type": "code",
   "execution_count": 172,
   "metadata": {},
   "outputs": [
    {
     "data": {
      "text/html": [
       "<div><i>Table length=39</i>\n",
       "<table id=\"table140096874966192\" class=\"table-striped table-bordered table-condensed\">\n",
       "<thead><tr><th>MCXC</th><th>X-rays</th><th>AName</th><th>RAh</th><th>RAm</th><th>RAs</th><th>DE-</th><th>DEd</th><th>DEm</th><th>DEs</th><th>RAdeg</th><th>DEdeg</th><th>GLON</th><th>GLAT</th><th>z</th><th>X-ray catalog</th><th>Sub-Cat</th><th>Scale</th><th>L500_X</th><th>m500_X</th><th>r500_X</th><th>Notes</th><th>Cat1</th><th>Cat2</th><th>Cat3</th><th>Cat4</th><th>L500r1</th><th>L500r2</th><th>L500r3</th><th>L500r4</th><th>CHANCES name</th></tr></thead>\n",
       "<thead><tr><th>str12</th><th>str18</th><th>str54</th><th>int16</th><th>int16</th><th>float64</th><th>str1</th><th>int16</th><th>int16</th><th>int16</th><th>float64</th><th>float64</th><th>float64</th><th>float64</th><th>float64</th><th>str12</th><th>str12</th><th>float64</th><th>float64</th><th>float64</th><th>float64</th><th>str42</th><th>str12</th><th>str12</th><th>str12</th><th>str12</th><th>float64</th><th>float64</th><th>float64</th><th>float64</th><th>str19</th></tr></thead>\n",
       "<tr><td>J0438.9-2206</td><td>RXCJ0438.9-2206</td><td>A0500</td><td>4</td><td>38</td><td>54.7</td><td>-</td><td>22</td><td>6</td><td>49</td><td>69.728</td><td>-22.114</td><td>220.577</td><td>-38.485</td><td>0.067</td><td>NORAS/REFLEX</td><td>REFLEX</td><td>1.284</td><td>0.65502</td><td>1.5091</td><td>0.7925</td><td></td><td></td><td></td><td></td><td></td><td>0.0</td><td>0.0</td><td>0.0</td><td>0.0</td><td>A0500</td></tr>\n",
       "<tr><td>J0545.4-2556</td><td>RXCJ0545.4-2556</td><td>A0548W</td><td>5</td><td>45</td><td>27.2</td><td>-</td><td>25</td><td>56</td><td>20</td><td>86.363</td><td>-25.939</td><td>230.492</td><td>-25.259</td><td>0.0424</td><td>NORAS/REFLEX</td><td>REFLEX</td><td>0.836</td><td>0.104752</td><td>0.5018</td><td>0.5533</td><td>P,GR2</td><td></td><td></td><td></td><td></td><td>0.0</td><td>0.0</td><td>0.0</td><td>0.0</td><td>A0548b</td></tr>\n",
       "<tr><td>J0918.1-1205</td><td>RXCJ0918.1-1205</td><td>A0780</td><td>9</td><td>18</td><td>6.5</td><td>-</td><td>12</td><td>5</td><td>36</td><td>139.527</td><td>-12.093</td><td>242.926</td><td>25.097</td><td>0.0539</td><td>NORAS/REFLEX</td><td>REFLEX</td><td>1.049</td><td>2.716018</td><td>3.6243</td><td>1.0658</td><td>BX</td><td></td><td></td><td></td><td></td><td>0.0</td><td>0.0</td><td>0.0</td><td>0.0</td><td>A0780</td></tr>\n",
       "<tr><td>J1017.3-1040</td><td>RXCJ1017.3-1040</td><td>A0970</td><td>10</td><td>17</td><td>23.4</td><td>-</td><td>10</td><td>40</td><td>39</td><td>154.348</td><td>-10.677</td><td>253.046</td><td>36.86</td><td>0.0586</td><td>NORAS/REFLEX</td><td>REFLEX</td><td>1.134</td><td>0.904947</td><td>1.8484</td><td>0.8502</td><td></td><td></td><td></td><td></td><td></td><td>0.0</td><td>0.0</td><td>0.0</td><td>0.0</td><td>A0970</td></tr>\n",
       "<tr><td>J1039.7-0841</td><td>RXCJ1039.7-0841</td><td>A1069</td><td>10</td><td>39</td><td>44.4</td><td>-</td><td>8</td><td>41</td><td>1</td><td>159.935</td><td>-8.684</td><td>256.591</td><td>42.039</td><td>0.065</td><td>NORAS/REFLEX</td><td>REFLEX</td><td>1.248</td><td>0.620608</td><td>1.4622</td><td>0.7847</td><td>losStr</td><td></td><td></td><td></td><td></td><td>0.0</td><td>0.0</td><td>0.0</td><td>0.0</td><td>A1069</td></tr>\n",
       "<tr><td>J1257.1-1724</td><td>RXCJ1257.1-1724</td><td>A1644</td><td>12</td><td>57</td><td>9.7</td><td>-</td><td>17</td><td>24</td><td>1</td><td>194.291</td><td>-17.4</td><td>304.879</td><td>45.45</td><td>0.0473</td><td>NORAS/REFLEX</td><td>REFLEX</td><td>0.928</td><td>1.897483</td><td>2.9254</td><td>0.9944</td><td>L</td><td></td><td></td><td></td><td></td><td>0.0</td><td>0.0</td><td>0.0</td><td>0.0</td><td>A1644</td></tr>\n",
       "<tr><td>J0003.2-3555</td><td>RXCJ0003.2-3555</td><td>A2717</td><td>0</td><td>3</td><td>12.1</td><td>-</td><td>35</td><td>55</td><td>38</td><td>0.801</td><td>-35.927</td><td>349.33</td><td>-76.49</td><td>0.049</td><td>NORAS/REFLEX</td><td>REFLEX</td><td>0.959</td><td>0.441862</td><td>1.2016</td><td>0.7388</td><td>losStr</td><td>SGP</td><td></td><td></td><td></td><td>0.886</td><td>0.0</td><td>0.0</td><td>0.0</td><td>A2717</td></tr>\n",
       "<tr><td>J0342.8-5338</td><td>RXCJ0342.8-5338</td><td>A3158</td><td>3</td><td>42</td><td>53.9</td><td>-</td><td>53</td><td>38</td><td>7</td><td>55.724</td><td>-53.635</td><td>265.052</td><td>-48.935</td><td>0.059</td><td>NORAS/REFLEX</td><td>REFLEX</td><td>1.141</td><td>2.76492</td><td>3.6513</td><td>1.0667</td><td>L,losStr</td><td></td><td></td><td></td><td></td><td>0.0</td><td>0.0</td><td>0.0</td><td>0.0</td><td>A3158</td></tr>\n",
       "<tr><td>J0346.1-5702</td><td>RXCJ0346.1-5702</td><td>A3164</td><td>3</td><td>46</td><td>9.6</td><td>-</td><td>57</td><td>2</td><td>60</td><td>56.54</td><td>-57.05</td><td>269.429</td><td>-47.115</td><td>0.057</td><td>NORAS/REFLEX</td><td>REFLEX</td><td>1.105</td><td>0.537529</td><td>1.3469</td><td>0.7655</td><td>L</td><td></td><td></td><td></td><td></td><td>0.0</td><td>0.0</td><td>0.0</td><td>0.0</td><td>A3164</td></tr>\n",
       "<tr><td>J0431.4-6126</td><td>RXCJ0431.4-6126</td><td>A3266</td><td>4</td><td>31</td><td>24.1</td><td>-</td><td>61</td><td>26</td><td>38</td><td>67.85</td><td>-61.444</td><td>272.127</td><td>-40.135</td><td>0.0589</td><td>NORAS/REFLEX</td><td>REFLEX</td><td>1.139</td><td>3.977333</td><td>4.5579</td><td>1.1485</td><td></td><td></td><td></td><td></td><td></td><td>0.0</td><td>0.0</td><td>0.0</td><td>0.0</td><td>A3266</td></tr>\n",
       "<tr><td>J1145.3-3425</td><td>RXCJ1145.3-3425</td><td>A3490</td><td>11</td><td>45</td><td>19.1</td><td>-</td><td>34</td><td>25</td><td>43</td><td>176.329</td><td>-34.429</td><td>287.732</td><td>26.484</td><td>0.0697</td><td>NORAS/REFLEX</td><td>REFLEX</td><td>1.331</td><td>0.75324</td><td>1.6403</td><td>0.8141</td><td></td><td></td><td></td><td></td><td></td><td>0.0</td><td>0.0</td><td>0.0</td><td>0.0</td><td>A3490</td></tr>\n",
       "<tr><td>J1200.0-3124</td><td>RXCJ1200.0-3124</td><td>A3497</td><td>12</td><td>0</td><td>5.0</td><td>-</td><td>31</td><td>24</td><td>21</td><td>180.021</td><td>-31.406</td><td>290.256</td><td>30.199</td><td>0.0685</td><td>NORAS/REFLEX</td><td>REFLEX</td><td>1.31</td><td>0.696381</td><td>1.5649</td><td>0.8018</td><td></td><td></td><td></td><td></td><td></td><td>0.0</td><td>0.0</td><td>0.0</td><td>0.0</td><td>A3497</td></tr>\n",
       "<tr><td>J1255.5-3019</td><td>RXCJ1255.5-3019</td><td>A3530</td><td>12</td><td>55</td><td>34.5</td><td>-</td><td>30</td><td>19</td><td>50</td><td>193.894</td><td>-30.33</td><td>303.991</td><td>32.533</td><td>0.0541</td><td>NORAS/REFLEX</td><td>REFLEX</td><td>1.053</td><td>0.680511</td><td>1.5583</td><td>0.8043</td><td>B,GR5</td><td></td><td></td><td></td><td></td><td>0.0</td><td>0.0</td><td>0.0</td><td>0.0</td><td>A3530</td></tr>\n",
       "<tr><td>J1257.2-3022</td><td>RXCJ1257.2-3022</td><td>A3532</td><td>12</td><td>57</td><td>16.9</td><td>-</td><td>30</td><td>22</td><td>37</td><td>194.32</td><td>-30.377</td><td>304.426</td><td>32.478</td><td>0.0554</td><td>NORAS/REFLEX</td><td>REFLEX</td><td>1.076</td><td>1.323277</td><td>2.3354</td><td>0.9201</td><td>B,GR5</td><td></td><td></td><td></td><td></td><td>0.0</td><td>0.0</td><td>0.0</td><td>0.0</td><td>A3532</td></tr>\n",
       "<tr><td>J1327.9-3130</td><td>RXCJ1327.9-3130</td><td>A3558</td><td>13</td><td>27</td><td>57.5</td><td>-</td><td>31</td><td>30</td><td>9</td><td>201.99</td><td>-31.503</td><td>311.987</td><td>30.726</td><td>0.048</td><td>NORAS/REFLEX</td><td>REFLEX</td><td>0.941</td><td>3.138519</td><td>3.9741</td><td>1.101</td><td>P,GR6,losStr</td><td></td><td></td><td></td><td></td><td>0.0</td><td>0.0</td><td>0.0</td><td>0.0</td><td>A3558</td></tr>\n",
       "<tr><td>J1333.6-3139</td><td>RXCJ1333.6-3139</td><td>A3562</td><td>13</td><td>33</td><td>36.3</td><td>-</td><td>31</td><td>39</td><td>40</td><td>203.401</td><td>-31.661</td><td>313.329</td><td>30.358</td><td>0.049</td><td>NORAS/REFLEX</td><td>REFLEX</td><td>0.959</td><td>1.345772</td><td>2.3698</td><td>0.9265</td><td>P,GR6,losStr</td><td></td><td></td><td></td><td></td><td>0.0</td><td>0.0</td><td>0.0</td><td>0.0</td><td>A3562</td></tr>\n",
       "<tr><td>J2012.5-5649</td><td>RXCJ2012.5-5649</td><td>A3667</td><td>20</td><td>12</td><td>30.5</td><td>-</td><td>56</td><td>49</td><td>55</td><td>303.127</td><td>-56.832</td><td>340.861</td><td>-33.391</td><td>0.0556</td><td>NORAS/REFLEX</td><td>REFLEX</td><td>1.08</td><td>4.871933</td><td>5.1696</td><td>1.199</td><td>L,losStr</td><td></td><td></td><td></td><td></td><td>0.0</td><td>0.0</td><td>0.0</td><td>0.0</td><td>A3667</td></tr>\n",
       "<tr><td>...</td><td>...</td><td>...</td><td>...</td><td>...</td><td>...</td><td>...</td><td>...</td><td>...</td><td>...</td><td>...</td><td>...</td><td>...</td><td>...</td><td>...</td><td>...</td><td>...</td><td>...</td><td>...</td><td>...</td><td>...</td><td>...</td><td>...</td><td>...</td><td>...</td><td>...</td><td>...</td><td>...</td><td>...</td><td>...</td><td>...</td></tr>\n",
       "<tr><td>J0413.9-3805</td><td>RXCJ0413.9-3805</td><td></td><td>4</td><td>13</td><td>57.1</td><td>-</td><td>38</td><td>5</td><td>60</td><td>63.488</td><td>-38.1</td><td>240.79</td><td>-46.521</td><td>0.0501</td><td>NORAS/REFLEX</td><td>REFLEX</td><td>0.979</td><td>0.725639</td><td>1.6249</td><td>0.8167</td><td>B</td><td></td><td></td><td></td><td></td><td>0.0</td><td>0.0</td><td>0.0</td><td>0.0</td><td>J0413.9</td></tr>\n",
       "<tr><td>J0408.2-3053</td><td>RXCJ0408.2-3053</td><td>A3223</td><td>4</td><td>8</td><td>16.2</td><td>-</td><td>30</td><td>53</td><td>40</td><td>62.068</td><td>-30.894</td><td>230.15</td><td>-47.144</td><td>0.06</td><td>NORAS/REFLEX</td><td>REFLEX</td><td>1.159</td><td>0.664945</td><td>1.5303</td><td>0.798</td><td>losStr</td><td></td><td></td><td></td><td></td><td>0.0</td><td>0.0</td><td>0.0</td><td>0.0</td><td>A3223</td></tr>\n",
       "<tr><td>J0322.3-4121</td><td>RXCJ0322.3-4121</td><td>A3122</td><td>3</td><td>22</td><td>18.6</td><td>-</td><td>41</td><td>21</td><td>34</td><td>50.578</td><td>-41.36</td><td>247.581</td><td>-56.07</td><td>0.0643</td><td>NORAS/REFLEX</td><td>REFLEX</td><td>1.236</td><td>0.593611</td><td>1.4238</td><td>0.778</td><td></td><td></td><td></td><td></td><td></td><td>0.0</td><td>0.0</td><td>0.0</td><td>0.0</td><td>A3122</td></tr>\n",
       "<tr><td>J1347.4-3250</td><td>RXCJ1347.4-3250</td><td>A3571</td><td>13</td><td>47</td><td>28.4</td><td>-</td><td>32</td><td>50</td><td>59</td><td>206.868</td><td>-32.85</td><td>316.32</td><td>28.561</td><td>0.0391</td><td>NORAS/REFLEX</td><td>REFLEX</td><td>0.774</td><td>3.81992</td><td>4.5067</td><td>1.1514</td><td>L</td><td></td><td></td><td></td><td></td><td>0.0</td><td>0.0</td><td>0.0</td><td>0.0</td><td>A3571</td></tr>\n",
       "<tr><td>J0433.6-1315</td><td>RXCJ0433.6-1315</td><td>A0496</td><td>4</td><td>33</td><td>38.4</td><td>-</td><td>13</td><td>15</td><td>33</td><td>68.41</td><td>-13.259</td><td>209.585</td><td>-36.485</td><td>0.0326</td><td>NORAS/REFLEX</td><td>REFLEX</td><td>0.651</td><td>1.85299</td><td>2.9118</td><td>0.9974</td><td></td><td></td><td></td><td></td><td></td><td>0.0</td><td>0.0</td><td>0.0</td><td>0.0</td><td>A0496</td></tr>\n",
       "<tr><td>J0025.5-3302</td><td>RXCJ0025.5-3302</td><td>S0041</td><td>0</td><td>25</td><td>32.4</td><td>-</td><td>33</td><td>2</td><td>50</td><td>6.385</td><td>-33.047</td><td>344.774</td><td>-81.854</td><td>0.0491</td><td>NORAS/REFLEX</td><td>REFLEX</td><td>0.961</td><td>0.49467</td><td>1.2872</td><td>0.7559</td><td></td><td>SGP</td><td></td><td></td><td></td><td>0.929</td><td>0.0</td><td>0.0</td><td>0.0</td><td>PSZ2 G344.99-81.88</td></tr>\n",
       "<tr><td>J0311.4-2653</td><td>RXCJ0311.4-2653</td><td>A3094</td><td>3</td><td>11</td><td>25.0</td><td>-</td><td>26</td><td>53</td><td>59</td><td>47.854</td><td>-26.9</td><td>220.674</td><td>-58.926</td><td>0.0685</td><td>NORAS/REFLEX</td><td>REFLEX</td><td>1.31</td><td>0.334315</td><td>1.0004</td><td>0.6907</td><td></td><td>SGP</td><td></td><td></td><td></td><td>0.907</td><td>0.0</td><td>0.0</td><td>0.0</td><td>PSZ2 G220.74-58.91</td></tr>\n",
       "<tr><td>J0500.7-3840</td><td>RXCJ0500.7-3840</td><td>A3301</td><td>5</td><td>0</td><td>46.5</td><td>-</td><td>38</td><td>40</td><td>41</td><td>75.194</td><td>-38.678</td><td>242.415</td><td>-37.413</td><td>0.0536</td><td>NORAS/REFLEX</td><td>REFLEX</td><td>1.043</td><td>0.48661</td><td>1.2705</td><td>0.7515</td><td></td><td></td><td></td><td></td><td></td><td>0.0</td><td>0.0</td><td>0.0</td><td>0.0</td><td>PSZ2 G242.41-37.40</td></tr>\n",
       "<tr><td>J0507.7-0915</td><td>RXCJ0507.7-0915</td><td>A0536</td><td>5</td><td>7</td><td>45.7</td><td>-</td><td>9</td><td>15</td><td>16</td><td>76.94</td><td>-9.254</td><td>209.477</td><td>-27.212</td><td>0.0398</td><td>NORAS/REFLEX</td><td>REFLEX</td><td>0.788</td><td>0.182205</td><td>0.7045</td><td>0.6201</td><td></td><td></td><td></td><td></td><td></td><td>0.0</td><td>0.0</td><td>0.0</td><td>0.0</td><td>ACT-CL J0507.6-0915</td></tr>\n",
       "<tr><td>J0540.1-4050</td><td>RXCJ0540.1-4050</td><td>S0540</td><td>5</td><td>40</td><td>6.3</td><td>-</td><td>40</td><td>50</td><td>32</td><td>85.026</td><td>-40.842</td><td>246.417</td><td>-30.291</td><td>0.0358</td><td>NORAS/REFLEX</td><td>REFLEX</td><td>0.712</td><td>0.447219</td><td>1.2212</td><td>0.7459</td><td></td><td></td><td></td><td></td><td></td><td>0.0</td><td>0.0</td><td>0.0</td><td>0.0</td><td>PSZ2 G246.36-30.27</td></tr>\n",
       "<tr><td>J0548.6-2527</td><td>RXCJ0548.6-2527</td><td>A0548E</td><td>5</td><td>48</td><td>39.6</td><td>-</td><td>25</td><td>27</td><td>30</td><td>87.165</td><td>-25.458</td><td>230.259</td><td>-24.417</td><td>0.042</td><td>NORAS/REFLEX</td><td>REFLEX</td><td>0.829</td><td>0.551689</td><td>1.3823</td><td>0.7758</td><td>PL,GR2,losStr</td><td></td><td></td><td></td><td></td><td>0.0</td><td>0.0</td><td>0.0</td><td>0.0</td><td>PSZ2 G230.28-24.42</td></tr>\n",
       "<tr><td>J0600.8-5835</td><td>RXCJ0600.8-5835</td><td>S0560</td><td>6</td><td>0</td><td>48.3</td><td>-</td><td>58</td><td>35</td><td>14</td><td>90.201</td><td>-58.587</td><td>267.223</td><td>-29.393</td><td>0.0369</td><td>NORAS/REFLEX</td><td>REFLEX</td><td>0.733</td><td>0.08148</td><td>0.4321</td><td>0.5274</td><td></td><td></td><td></td><td></td><td></td><td>0.0</td><td>0.0</td><td>0.0</td><td>0.0</td><td>ACT-CL J0600.7-5836</td></tr>\n",
       "<tr><td>J0812.5-5714</td><td>RXC J0812.5-5714</td><td></td><td>8</td><td>12</td><td>30.3</td><td>-</td><td>57</td><td>14</td><td>6</td><td>123.126</td><td>-57.235</td><td>271.597</td><td>-12.509</td><td>0.062</td><td>CIZA</td><td>CIZAI</td><td>1.195</td><td>1.969423</td><td>2.9629</td><td>0.994</td><td></td><td></td><td></td><td></td><td></td><td>0.0</td><td>0.0</td><td>0.0</td><td>0.0</td><td>PSZ2 G271.60-12.50</td></tr>\n",
       "<tr><td>J1638.2-6420</td><td>RXC J1638.2-6420</td><td>Triangulum Australis</td><td>16</td><td>38</td><td>16.1</td><td>-</td><td>64</td><td>20</td><td>50</td><td>249.567</td><td>-64.347</td><td>324.604</td><td>-11.511</td><td>0.0508</td><td>CIZA</td><td>CIZAI</td><td>0.992</td><td>4.946943</td><td>5.235</td><td>1.2059</td><td></td><td></td><td></td><td></td><td></td><td>0.0</td><td>0.0</td><td>0.0</td><td>0.0</td><td>PSZ2 G324.59-11.52</td></tr>\n",
       "<tr><td>J1645.4-7334</td><td>RXC J1645.4-7334</td><td></td><td>16</td><td>45</td><td>26.2</td><td>-</td><td>73</td><td>34</td><td>54</td><td>251.359</td><td>-73.582</td><td>317.595</td><td>-17.816</td><td>0.069</td><td>CIZA</td><td>CIZAI</td><td>1.319</td><td>0.928838</td><td>1.8647</td><td>0.8499</td><td></td><td></td><td></td><td></td><td></td><td>0.0</td><td>0.0</td><td>0.0</td><td>0.0</td><td>PSZ2 G317.58-17.82</td></tr>\n",
       "<tr><td>J1952.2-5503</td><td>RXCJ1952.2-5503</td><td>A3651</td><td>19</td><td>52</td><td>16.5</td><td>-</td><td>55</td><td>3</td><td>42</td><td>298.069</td><td>-55.062</td><td>342.826</td><td>-30.499</td><td>0.06</td><td>NORAS/REFLEX</td><td>REFLEX</td><td>1.159</td><td>0.62587</td><td>1.4748</td><td>0.7882</td><td>losStr</td><td></td><td></td><td></td><td></td><td>0.0</td><td>0.0</td><td>0.0</td><td>0.0</td><td>PSZ2 G342.82-30.48</td></tr>\n",
       "<tr><td>J2018.7-5242</td><td>RXCJ2018.7-5242</td><td>S0861</td><td>20</td><td>18</td><td>45.6</td><td>-</td><td>52</td><td>42</td><td>22</td><td>304.69</td><td>-52.706</td><td>345.832</td><td>-34.283</td><td>0.0505</td><td>NORAS/REFLEX</td><td>REFLEX</td><td>0.987</td><td>0.691313</td><td>1.5771</td><td>0.8085</td><td></td><td></td><td></td><td></td><td></td><td>0.0</td><td>0.0</td><td>0.0</td><td>0.0</td><td>PSZ2 G345.82-34.29</td></tr>\n",
       "</table></div>"
      ],
      "text/plain": [
       "<Table length=39>\n",
       "    MCXC           X-rays                               AName                          ...  L500r3  L500r4     CHANCES name   \n",
       "   str12           str18                                str54                          ... float64 float64        str19       \n",
       "------------ ------------------ ------------------------------------------------------ ... ------- ------- -------------------\n",
       "J0438.9-2206 RXCJ0438.9-2206    A0500                                                  ...     0.0     0.0               A0500\n",
       "J0545.4-2556 RXCJ0545.4-2556    A0548W                                                 ...     0.0     0.0              A0548b\n",
       "J0918.1-1205 RXCJ0918.1-1205    A0780                                                  ...     0.0     0.0               A0780\n",
       "J1017.3-1040 RXCJ1017.3-1040    A0970                                                  ...     0.0     0.0               A0970\n",
       "J1039.7-0841 RXCJ1039.7-0841    A1069                                                  ...     0.0     0.0               A1069\n",
       "J1257.1-1724 RXCJ1257.1-1724    A1644                                                  ...     0.0     0.0               A1644\n",
       "J0003.2-3555 RXCJ0003.2-3555    A2717                                                  ...     0.0     0.0               A2717\n",
       "J0342.8-5338 RXCJ0342.8-5338    A3158                                                  ...     0.0     0.0               A3158\n",
       "J0346.1-5702 RXCJ0346.1-5702    A3164                                                  ...     0.0     0.0               A3164\n",
       "J0431.4-6126 RXCJ0431.4-6126    A3266                                                  ...     0.0     0.0               A3266\n",
       "J1145.3-3425 RXCJ1145.3-3425    A3490                                                  ...     0.0     0.0               A3490\n",
       "J1200.0-3124 RXCJ1200.0-3124    A3497                                                  ...     0.0     0.0               A3497\n",
       "J1255.5-3019 RXCJ1255.5-3019    A3530                                                  ...     0.0     0.0               A3530\n",
       "J1257.2-3022 RXCJ1257.2-3022    A3532                                                  ...     0.0     0.0               A3532\n",
       "J1327.9-3130 RXCJ1327.9-3130    A3558                                                  ...     0.0     0.0               A3558\n",
       "J1333.6-3139 RXCJ1333.6-3139    A3562                                                  ...     0.0     0.0               A3562\n",
       "J2012.5-5649 RXCJ2012.5-5649    A3667                                                  ...     0.0     0.0               A3667\n",
       "         ...                ...                                                    ... ...     ...     ...                 ...\n",
       "J0413.9-3805 RXCJ0413.9-3805                                                           ...     0.0     0.0             J0413.9\n",
       "J0408.2-3053 RXCJ0408.2-3053    A3223                                                  ...     0.0     0.0               A3223\n",
       "J0322.3-4121 RXCJ0322.3-4121    A3122                                                  ...     0.0     0.0               A3122\n",
       "J1347.4-3250 RXCJ1347.4-3250    A3571                                                  ...     0.0     0.0               A3571\n",
       "J0433.6-1315 RXCJ0433.6-1315    A0496                                                  ...     0.0     0.0               A0496\n",
       "J0025.5-3302 RXCJ0025.5-3302    S0041                                                  ...     0.0     0.0  PSZ2 G344.99-81.88\n",
       "J0311.4-2653 RXCJ0311.4-2653    A3094                                                  ...     0.0     0.0  PSZ2 G220.74-58.91\n",
       "J0500.7-3840 RXCJ0500.7-3840    A3301                                                  ...     0.0     0.0  PSZ2 G242.41-37.40\n",
       "J0507.7-0915 RXCJ0507.7-0915    A0536                                                  ...     0.0     0.0 ACT-CL J0507.6-0915\n",
       "J0540.1-4050 RXCJ0540.1-4050    S0540                                                  ...     0.0     0.0  PSZ2 G246.36-30.27\n",
       "J0548.6-2527 RXCJ0548.6-2527    A0548E                                                 ...     0.0     0.0  PSZ2 G230.28-24.42\n",
       "J0600.8-5835 RXCJ0600.8-5835    S0560                                                  ...     0.0     0.0 ACT-CL J0600.7-5836\n",
       "J0812.5-5714 RXC J0812.5-5714                                                          ...     0.0     0.0  PSZ2 G271.60-12.50\n",
       "J1638.2-6420 RXC J1638.2-6420   Triangulum Australis                                   ...     0.0     0.0  PSZ2 G324.59-11.52\n",
       "J1645.4-7334 RXC J1645.4-7334                                                          ...     0.0     0.0  PSZ2 G317.58-17.82\n",
       "J1952.2-5503 RXCJ1952.2-5503    A3651                                                  ...     0.0     0.0  PSZ2 G342.82-30.48\n",
       "J2018.7-5242 RXCJ2018.7-5242    S0861                                                  ...     0.0     0.0  PSZ2 G345.82-34.29"
      ]
     },
     "execution_count": 172,
     "metadata": {},
     "output_type": "execute_result"
    }
   ],
   "source": [
    "mcxc = catalogs.load('mcxc', indices=mcxc_matches[0]['index'])\n",
    "mcxc['CHANCES name'] = chances['CHANCES name'][mcxc_matches[1]]\n",
    "mcxc.rename_columns(['OName', 'Cat', 'L500', 'M500', 'R500'], ['X-rays', 'X-ray catalog', 'L500_X', 'm500_X', 'r500_X'])\n",
    "mcxc"
   ]
  },
  {
   "cell_type": "markdown",
   "metadata": {},
   "source": [
    "# Joint SZ+X-rays catalogue"
   ]
  },
  {
   "cell_type": "code",
   "execution_count": 173,
   "metadata": {},
   "outputs": [
    {
     "data": {
      "text/html": [
       "<div><i>Table length=59</i>\n",
       "<table id=\"table140096875500192\" class=\"table-striped table-bordered table-condensed\">\n",
       "<thead><tr><th>index</th><th>CHANCES name</th><th>ra</th><th>dec</th><th>z</th><th>Gal_Long</th><th>Gal_Latitude</th><th>Lx</th><th>VST</th><th>AAO_redshifts</th><th>SPLUS</th><th>Comments</th><th>PSZ_name</th><th>index_PSZ</th><th>hms</th><th>dms</th><th>m500lo</th><th>m500</th><th>MCXC</th><th>X-rays</th><th>X-ray catalog</th><th>L500_X</th><th>m500_X</th><th>r500_X</th></tr></thead>\n",
       "<thead><tr><th>int64</th><th>str19</th><th>float64</th><th>float64</th><th>float64</th><th>float64</th><th>float64</th><th>float64</th><th>str1</th><th>int64</th><th>str6</th><th>str18</th><th>str18</th><th>int64</th><th>str11</th><th>str11</th><th>float64</th><th>float64</th><th>str12</th><th>str18</th><th>str12</th><th>float64</th><th>float64</th><th>float64</th></tr></thead>\n",
       "<tr><td>39</td><td>A0496</td><td>68.41</td><td>-13.259</td><td>0.032</td><td>209.585</td><td>-36.485</td><td>2.054</td><td>N</td><td>0</td><td>NO</td><td>--</td><td>PSZ2 G209.54-36.50</td><td>--</td><td>4:33:38.4</td><td>-13:15:32.4</td><td>--</td><td>2.71</td><td>J0433.6-1315</td><td>RXCJ0433.6-1315</td><td>NORAS/REFLEX</td><td>1.85299</td><td>2.9118</td><td>0.9974</td></tr>\n",
       "<tr><td>0</td><td>A0500</td><td>69.716</td><td>-22.1</td><td>0.067</td><td>220.556</td><td>-38.49</td><td>0.72</td><td>Y</td><td>478</td><td>2020B</td><td>--</td><td>PSZ2 G220.53-38.55</td><td>--</td><td>4:38:51.84</td><td>-22:06:00</td><td>--</td><td>2.39</td><td>J0438.9-2206</td><td>RXCJ0438.9-2206</td><td>NORAS/REFLEX</td><td>0.65502</td><td>1.5091</td><td>0.7925</td></tr>\n",
       "<tr><td>1</td><td>A0548b</td><td>86.366</td><td>-25.916</td><td>0.044</td><td>230.469</td><td>-25.248</td><td>0.15</td><td>N</td><td>0</td><td>2021B</td><td>--</td><td>--</td><td>--</td><td>5:45:27.84</td><td>-25:54:57.6</td><td>--</td><td>--</td><td>J0545.4-2556</td><td>RXCJ0545.4-2556</td><td>NORAS/REFLEX</td><td>0.104752</td><td>0.5018</td><td>0.5533</td></tr>\n",
       "<tr><td>2</td><td>A0754</td><td>137.133</td><td>-9.616</td><td>0.054</td><td>239.185</td><td>24.707</td><td>4.08</td><td>Y</td><td>423</td><td>2021B</td><td>--</td><td>PSZ2 G239.29+24.75</td><td>--</td><td>9:08:31.92</td><td>-9:36:57.6</td><td>--</td><td>6.85</td><td>--</td><td>--</td><td>--</td><td>--</td><td>--</td><td>--</td></tr>\n",
       "<tr><td>3</td><td>A0780</td><td>139.525</td><td>-12.083</td><td>0.057</td><td>242.915</td><td>25.101</td><td>3.38</td><td>N</td><td>0</td><td>2021B</td><td>--</td><td>--</td><td>--</td><td>9:18:06</td><td>-12:04:58.8</td><td>--</td><td>--</td><td>J0918.1-1205</td><td>RXCJ0918.1-1205</td><td>NORAS/REFLEX</td><td>2.716018</td><td>3.6243</td><td>1.0658</td></tr>\n",
       "<tr><td>4</td><td>A0957</td><td>153.408</td><td>0.916</td><td>0.045</td><td>240.931</td><td>43.981</td><td>0.4</td><td>Y</td><td>154</td><td>SPLUS</td><td>--</td><td>--</td><td>--</td><td>10:13:37.92</td><td>0:54:57.6</td><td>--</td><td>--</td><td>--</td><td>--</td><td>--</td><td>--</td><td>--</td><td>--</td></tr>\n",
       "<tr><td>5</td><td>A0970</td><td>154.391</td><td>-10.666</td><td>0.059</td><td>253.075</td><td>36.897</td><td>0.77</td><td>Y</td><td>136</td><td>SPLUS</td><td>--</td><td>PSZ2 G253.04+36.83</td><td>--</td><td>10:17:33.84</td><td>-10:39:57.6</td><td>--</td><td>2.3</td><td>J1017.3-1040</td><td>RXCJ1017.3-1040</td><td>NORAS/REFLEX</td><td>0.904947</td><td>1.8484</td><td>0.8502</td></tr>\n",
       "<tr><td>6</td><td>A1069</td><td>159.929</td><td>-8.683</td><td>0.062</td><td>256.585</td><td>42.035</td><td>0.48</td><td>Y</td><td>496</td><td>SPLUS</td><td>--</td><td>PSZ2 G256.67+42.05</td><td>--</td><td>10:39:42.96</td><td>-8:40:58.8</td><td>--</td><td>1.8</td><td>J1039.7-0841</td><td>RXCJ1039.7-0841</td><td>NORAS/REFLEX</td><td>0.620608</td><td>1.4622</td><td>0.7847</td></tr>\n",
       "<tr><td>34</td><td>A1520</td><td>184.832</td><td>-13.26</td><td>0.068</td><td>291.007</td><td>48.867</td><td>0.821</td><td>N</td><td>0</td><td>SPLUS</td><td>--</td><td>--</td><td>--</td><td>12:19:19.68</td><td>-13:15:36</td><td>--</td><td>--</td><td>J1219.3-1315</td><td>RXCJ1219.3-1315</td><td>NORAS/REFLEX</td><td>0.93527</td><td>1.8728</td><td>0.8512</td></tr>\n",
       "<tr><td>7</td><td>A1631a</td><td>193.216</td><td>-15.4</td><td>0.047</td><td>303.441</td><td>47.47</td><td>0.37</td><td>Y</td><td>673</td><td>SPLUS</td><td>--</td><td>PSZ2 G303.56+47.54</td><td>--</td><td>12:52:51.84</td><td>-15:24:00</td><td>--</td><td>1.7</td><td>--</td><td>--</td><td>--</td><td>--</td><td>--</td><td>--</td></tr>\n",
       "<tr><td>8</td><td>A1644</td><td>194.295</td><td>-17.4</td><td>0.048</td><td>304.885</td><td>45.449</td><td>1.8</td><td>N</td><td>0</td><td>SPLUS</td><td>--</td><td>PSZ2 G304.91+45.43</td><td>--</td><td>12:57:10.8</td><td>-17:24:00</td><td>--</td><td>3.69</td><td>J1257.1-1724</td><td>RXCJ1257.1-1724</td><td>NORAS/REFLEX</td><td>1.897483</td><td>2.9254</td><td>0.9944</td></tr>\n",
       "<tr><td>9</td><td>A1736</td><td>201.795</td><td>-27.2</td><td>0.046</td><td>312.641</td><td>34.996</td><td>1.21</td><td>N</td><td>0</td><td>Shapl</td><td>--</td><td>PSZ2 G312.62+35.05</td><td>--</td><td>13:27:10.8</td><td>-27:12:00</td><td>--</td><td>2.89</td><td>--</td><td>--</td><td>--</td><td>--</td><td>--</td><td>--</td></tr>\n",
       "<tr><td>10</td><td>A2717</td><td>0.804</td><td>-35.933</td><td>0.05</td><td>349.301</td><td>-76.488</td><td>0.52</td><td>Y</td><td>610</td><td>SPLUS</td><td>--</td><td>--</td><td>--</td><td>0:03:12.96</td><td>-35:55:58.8</td><td>--</td><td>--</td><td>J0003.2-3555</td><td>RXCJ0003.2-3555</td><td>NORAS/REFLEX</td><td>0.441862</td><td>1.2016</td><td>0.7388</td></tr>\n",
       "<tr><td>37</td><td>A3122</td><td>50.577</td><td>-41.359</td><td>0.064</td><td>247.581</td><td>-56.069</td><td>0.642</td><td>N</td><td>0</td><td>SPLUS</td><td>--</td><td>PSZ2 G247.56-56.06</td><td>--</td><td>3:22:18.48</td><td>-41:21:32.4</td><td>--</td><td>1.8</td><td>J0322.3-4121</td><td>RXCJ0322.3-4121</td><td>NORAS/REFLEX</td><td>0.593611</td><td>1.4238</td><td>0.778</td></tr>\n",
       "<tr><td>11</td><td>A3128</td><td>52.562</td><td>-52.533</td><td>0.059</td><td>264.685</td><td>-51.117</td><td>1.08</td><td>Y</td><td>584</td><td>SPLUS</td><td>--</td><td>--</td><td>--</td><td>3:30:14.88</td><td>-52:31:58.8</td><td>--</td><td>--</td><td>--</td><td>--</td><td>--</td><td>--</td><td>--</td><td>--</td></tr>\n",
       "<tr><td>12</td><td>A3158</td><td>55.787</td><td>-53.65</td><td>0.059</td><td>265.05</td><td>-48.894</td><td>2.71</td><td>Y</td><td>621</td><td>SPLUS</td><td>--</td><td>PSZ2 G265.02-48.96</td><td>--</td><td>3:43:08.88</td><td>-53:39:00</td><td>--</td><td>4.53</td><td>J0342.8-5338</td><td>RXCJ0342.8-5338</td><td>NORAS/REFLEX</td><td>2.76492</td><td>3.6513</td><td>1.0667</td></tr>\n",
       "<tr><td>13</td><td>A3164</td><td>56.454</td><td>-57.033</td><td>0.061</td><td>269.436</td><td>-47.164</td><td>0.75</td><td>N</td><td>0</td><td>SPLUS</td><td>--</td><td>PSZ2 G269.36-47.20</td><td>--</td><td>3:45:48.96</td><td>-57:01:58.8</td><td>--</td><td>1.53</td><td>J0346.1-5702</td><td>RXCJ0346.1-5702</td><td>NORAS/REFLEX</td><td>0.537529</td><td>1.3469</td><td>0.7655</td></tr>\n",
       "<tr><td>...</td><td>...</td><td>...</td><td>...</td><td>...</td><td>...</td><td>...</td><td>...</td><td>...</td><td>...</td><td>...</td><td>...</td><td>...</td><td>...</td><td>...</td><td>...</td><td>...</td><td>...</td><td>...</td><td>...</td><td>...</td><td>...</td><td>...</td><td>...</td></tr>\n",
       "<tr><td>45</td><td>PSZ2 G230.28-24.42</td><td>87.160833</td><td>-25.48306</td><td>0.042</td><td>--</td><td>--</td><td>--</td><td>--</td><td>--</td><td>--</td><td>--</td><td>PSZ2 G230.28-24.42</td><td>370</td><td>5:48:38.6</td><td>-25:28:59</td><td>0.17</td><td>1.53</td><td>J0548.6-2527</td><td>RXCJ0548.6-2527</td><td>NORAS/REFLEX</td><td>0.551689</td><td>1.3823</td><td>0.7758</td></tr>\n",
       "<tr><td>42</td><td>PSZ2 G242.41-37.40</td><td>75.203333</td><td>-38.67472</td><td>0.054</td><td>--</td><td>--</td><td>--</td><td>--</td><td>--</td><td>--</td><td>--</td><td>PSZ2 G242.41-37.40</td><td>362</td><td>5:00:48.8</td><td>-38:40:29</td><td>0.17</td><td>1.75</td><td>J0500.7-3840</td><td>RXCJ0500.7-3840</td><td>NORAS/REFLEX</td><td>0.48661</td><td>1.2705</td><td>0.7515</td></tr>\n",
       "<tr><td>50</td><td>PSZ2 G243.02+42.87</td><td>153.505417</td><td>-0.95889</td><td>0.045</td><td>--</td><td>--</td><td>--</td><td>--</td><td>--</td><td>--</td><td>--</td><td>PSZ2 G243.02+42.87</td><td>364</td><td>10:14:01.3</td><td>-0:57:32</td><td>0.18</td><td>1.71</td><td>--</td><td>--</td><td>--</td><td>--</td><td>--</td><td>--</td></tr>\n",
       "<tr><td>44</td><td>PSZ2 G246.36-30.27</td><td>85.037083</td><td>-40.79333</td><td>0.036</td><td>--</td><td>--</td><td>--</td><td>--</td><td>--</td><td>--</td><td>--</td><td>PSZ2 G246.36-30.27</td><td>379</td><td>5:40:08.9</td><td>-40:47:36</td><td>0.17</td><td>1.13</td><td>J0540.1-4050</td><td>RXCJ0540.1-4050</td><td>NORAS/REFLEX</td><td>0.447219</td><td>1.2212</td><td>0.7459</td></tr>\n",
       "<tr><td>52</td><td>PSZ2 G257.51+57.54</td><td>170.3625</td><td>2.84194</td><td>0.047</td><td>--</td><td>--</td><td>--</td><td>--</td><td>--</td><td>--</td><td>--</td><td>PSZ2 G257.51+57.54</td><td>372</td><td>11:21:27</td><td>2:50:31</td><td>0.19</td><td>1.52</td><td>--</td><td>--</td><td>--</td><td>--</td><td>--</td><td>--</td></tr>\n",
       "<tr><td>47</td><td>PSZ2 G265.21-24.83</td><td>98.070833</td><td>-56.14722</td><td>0.054</td><td>--</td><td>--</td><td>--</td><td>--</td><td>--</td><td>--</td><td>--</td><td>PSZ2 G265.21-24.83</td><td>357</td><td>6:32:17</td><td>-56:08:50</td><td>0.17</td><td>1.84</td><td>--</td><td>--</td><td>--</td><td>--</td><td>--</td><td>--</td></tr>\n",
       "<tr><td>48</td><td>PSZ2 G271.60-12.50</td><td>123.142917</td><td>-57.24167</td><td>0.062</td><td>--</td><td>--</td><td>--</td><td>--</td><td>--</td><td>--</td><td>--</td><td>PSZ2 G271.60-12.50</td><td>270</td><td>8:12:34.3</td><td>-57:14:30</td><td>0.18</td><td>3.51</td><td>J0812.5-5714</td><td>RXC J0812.5-5714</td><td>CIZA</td><td>1.969423</td><td>2.9629</td><td>0.994</td></tr>\n",
       "<tr><td>49</td><td>PSZ2 G272.11-11.50</td><td>125.187917</td><td>-57.13417</td><td>0.061</td><td>--</td><td>--</td><td>--</td><td>--</td><td>--</td><td>--</td><td>--</td><td>PSZ2 G272.11-11.50</td><td>319</td><td>8:20:45.1</td><td>-57:08:03</td><td>0.16</td><td>2.48</td><td>--</td><td>--</td><td>--</td><td>--</td><td>--</td><td>--</td></tr>\n",
       "<tr><td>51</td><td>PSZ2 G280.21+14.57</td><td>162.2175</td><td>-42.83028</td><td>0.058</td><td>--</td><td>--</td><td>--</td><td>--</td><td>--</td><td>--</td><td>--</td><td>PSZ2 G280.21+14.57</td><td>361</td><td>10:48:52.2</td><td>-42:49:49</td><td>0.24</td><td>1.78</td><td>--</td><td>--</td><td>--</td><td>--</td><td>--</td><td>--</td></tr>\n",
       "<tr><td>55</td><td>PSZ2 G317.58-17.82</td><td>251.372917</td><td>-73.59222</td><td>0.069</td><td>--</td><td>--</td><td>--</td><td>--</td><td>--</td><td>--</td><td>--</td><td>PSZ2 G317.58-17.82</td><td>348</td><td>16:45:29.5</td><td>-73:35:32</td><td>0.25</td><td>2.06</td><td>J1645.4-7334</td><td>RXC J1645.4-7334</td><td>CIZA</td><td>0.928838</td><td>1.8647</td><td>0.8499</td></tr>\n",
       "<tr><td>54</td><td>PSZ2 G324.59-11.52</td><td>249.57875</td><td>-64.35917</td><td>0.051</td><td>--</td><td>--</td><td>--</td><td>--</td><td>--</td><td>--</td><td>--</td><td>PSZ2 G324.59-11.52</td><td>20</td><td>16:38:18.9</td><td>-64:21:33</td><td>0.16</td><td>7.94</td><td>J1638.2-6420</td><td>RXC J1638.2-6420</td><td>CIZA</td><td>4.946943</td><td>5.235</td><td>1.2059</td></tr>\n",
       "<tr><td>53</td><td>PSZ2 G326.01+17.21</td><td>222.28</td><td>-40.3275</td><td>0.062</td><td>--</td><td>--</td><td>--</td><td>--</td><td>--</td><td>--</td><td>--</td><td>PSZ2 G326.01+17.21</td><td>345</td><td>14:49:07.2</td><td>-40:19:39</td><td>0.26</td><td>2.12</td><td>--</td><td>--</td><td>--</td><td>--</td><td>--</td><td>--</td></tr>\n",
       "<tr><td>56</td><td>PSZ2 G342.82-30.48</td><td>298.049583</td><td>-55.06333</td><td>0.06</td><td>--</td><td>--</td><td>--</td><td>--</td><td>--</td><td>--</td><td>--</td><td>PSZ2 G342.82-30.48</td><td>283</td><td>19:52:11.9</td><td>-55:03:48</td><td>0.2</td><td>3.24</td><td>J1952.2-5503</td><td>RXCJ1952.2-5503</td><td>NORAS/REFLEX</td><td>0.62587</td><td>1.4748</td><td>0.7882</td></tr>\n",
       "<tr><td>40</td><td>PSZ2 G344.99-81.88</td><td>6.38125</td><td>-33.00583</td><td>0.049</td><td>--</td><td>--</td><td>--</td><td>--</td><td>--</td><td>--</td><td>--</td><td>PSZ2 G344.99-81.88</td><td>374</td><td>0:25:31.5</td><td>-33:00:21</td><td>0.18</td><td>1.45</td><td>J0025.5-3302</td><td>RXCJ0025.5-3302</td><td>NORAS/REFLEX</td><td>0.49467</td><td>1.2872</td><td>0.7559</td></tr>\n",
       "<tr><td>57</td><td>PSZ2 G345.82-34.29</td><td>304.704167</td><td>-52.715</td><td>0.051</td><td>--</td><td>--</td><td>--</td><td>--</td><td>--</td><td>--</td><td>--</td><td>PSZ2 G345.82-34.29</td><td>356</td><td>20:18:49</td><td>-52:42:54</td><td>0.16</td><td>1.84</td><td>J2018.7-5242</td><td>RXCJ2018.7-5242</td><td>NORAS/REFLEX</td><td>0.691313</td><td>1.5771</td><td>0.8085</td></tr>\n",
       "<tr><td>58</td><td>PSZ2 G357.75-41.77</td><td>315.929167</td><td>-43.32583</td><td>0.049</td><td>--</td><td>--</td><td>--</td><td>--</td><td>--</td><td>--</td><td>--</td><td>PSZ2 G357.75-41.77</td><td>368</td><td>21:03:43</td><td>-43:19:33</td><td>0.23</td><td>1.55</td><td>--</td><td>--</td><td>--</td><td>--</td><td>--</td><td>--</td></tr>\n",
       "<tr><td>31</td><td>S1101</td><td>348.494</td><td>-42.734</td><td>0.056</td><td>348.329</td><td>-64.811</td><td>1.988</td><td>N</td><td>0</td><td>NO</td><td>--</td><td>PSZ2 G348.46-64.83</td><td>--</td><td>23:13:58.56</td><td>-42:44:02.4</td><td>--</td><td>3.39</td><td>J2313.9-4244</td><td>RXCJ2313.9-4244</td><td>NORAS/REFLEX</td><td>1.811143</td><td>2.8261</td><td>0.9802</td></tr>\n",
       "</table></div>"
      ],
      "text/plain": [
       "<Table length=59>\n",
       "index    CHANCES name        ra        dec       z    Gal_Long ...       X-rays       X-ray catalog  L500_X   m500_X  r500_X\n",
       "int64       str19         float64    float64  float64 float64  ...       str18            str12     float64  float64 float64\n",
       "----- ------------------ ---------- --------- ------- -------- ... ------------------ ------------- -------- ------- -------\n",
       "   39              A0496      68.41   -13.259   0.032  209.585 ... RXCJ0433.6-1315     NORAS/REFLEX  1.85299  2.9118  0.9974\n",
       "    0              A0500     69.716     -22.1   0.067  220.556 ... RXCJ0438.9-2206     NORAS/REFLEX  0.65502  1.5091  0.7925\n",
       "    1             A0548b     86.366   -25.916   0.044  230.469 ... RXCJ0545.4-2556     NORAS/REFLEX 0.104752  0.5018  0.5533\n",
       "    2              A0754    137.133    -9.616   0.054  239.185 ...                 --            --       --      --      --\n",
       "    3              A0780    139.525   -12.083   0.057  242.915 ... RXCJ0918.1-1205     NORAS/REFLEX 2.716018  3.6243  1.0658\n",
       "    4              A0957    153.408     0.916   0.045  240.931 ...                 --            --       --      --      --\n",
       "    5              A0970    154.391   -10.666   0.059  253.075 ... RXCJ1017.3-1040     NORAS/REFLEX 0.904947  1.8484  0.8502\n",
       "    6              A1069    159.929    -8.683   0.062  256.585 ... RXCJ1039.7-0841     NORAS/REFLEX 0.620608  1.4622  0.7847\n",
       "   34              A1520    184.832    -13.26   0.068  291.007 ... RXCJ1219.3-1315     NORAS/REFLEX  0.93527  1.8728  0.8512\n",
       "    7             A1631a    193.216     -15.4   0.047  303.441 ...                 --            --       --      --      --\n",
       "    8              A1644    194.295     -17.4   0.048  304.885 ... RXCJ1257.1-1724     NORAS/REFLEX 1.897483  2.9254  0.9944\n",
       "    9              A1736    201.795     -27.2   0.046  312.641 ...                 --            --       --      --      --\n",
       "   10              A2717      0.804   -35.933    0.05  349.301 ... RXCJ0003.2-3555     NORAS/REFLEX 0.441862  1.2016  0.7388\n",
       "   37              A3122     50.577   -41.359   0.064  247.581 ... RXCJ0322.3-4121     NORAS/REFLEX 0.593611  1.4238   0.778\n",
       "   11              A3128     52.562   -52.533   0.059  264.685 ...                 --            --       --      --      --\n",
       "   12              A3158     55.787    -53.65   0.059   265.05 ... RXCJ0342.8-5338     NORAS/REFLEX  2.76492  3.6513  1.0667\n",
       "   13              A3164     56.454   -57.033   0.061  269.436 ... RXCJ0346.1-5702     NORAS/REFLEX 0.537529  1.3469  0.7655\n",
       "  ...                ...        ...       ...     ...      ... ...                ...           ...      ...     ...     ...\n",
       "   45 PSZ2 G230.28-24.42  87.160833 -25.48306   0.042       -- ... RXCJ0548.6-2527     NORAS/REFLEX 0.551689  1.3823  0.7758\n",
       "   42 PSZ2 G242.41-37.40  75.203333 -38.67472   0.054       -- ... RXCJ0500.7-3840     NORAS/REFLEX  0.48661  1.2705  0.7515\n",
       "   50 PSZ2 G243.02+42.87 153.505417  -0.95889   0.045       -- ...                 --            --       --      --      --\n",
       "   44 PSZ2 G246.36-30.27  85.037083 -40.79333   0.036       -- ... RXCJ0540.1-4050     NORAS/REFLEX 0.447219  1.2212  0.7459\n",
       "   52 PSZ2 G257.51+57.54   170.3625   2.84194   0.047       -- ...                 --            --       --      --      --\n",
       "   47 PSZ2 G265.21-24.83  98.070833 -56.14722   0.054       -- ...                 --            --       --      --      --\n",
       "   48 PSZ2 G271.60-12.50 123.142917 -57.24167   0.062       -- ... RXC J0812.5-5714    CIZA         1.969423  2.9629   0.994\n",
       "   49 PSZ2 G272.11-11.50 125.187917 -57.13417   0.061       -- ...                 --            --       --      --      --\n",
       "   51 PSZ2 G280.21+14.57   162.2175 -42.83028   0.058       -- ...                 --            --       --      --      --\n",
       "   55 PSZ2 G317.58-17.82 251.372917 -73.59222   0.069       -- ... RXC J1645.4-7334    CIZA         0.928838  1.8647  0.8499\n",
       "   54 PSZ2 G324.59-11.52  249.57875 -64.35917   0.051       -- ... RXC J1638.2-6420    CIZA         4.946943   5.235  1.2059\n",
       "   53 PSZ2 G326.01+17.21     222.28  -40.3275   0.062       -- ...                 --            --       --      --      --\n",
       "   56 PSZ2 G342.82-30.48 298.049583 -55.06333    0.06       -- ... RXCJ1952.2-5503     NORAS/REFLEX  0.62587  1.4748  0.7882\n",
       "   40 PSZ2 G344.99-81.88    6.38125 -33.00583   0.049       -- ... RXCJ0025.5-3302     NORAS/REFLEX  0.49467  1.2872  0.7559\n",
       "   57 PSZ2 G345.82-34.29 304.704167   -52.715   0.051       -- ... RXCJ2018.7-5242     NORAS/REFLEX 0.691313  1.5771  0.8085\n",
       "   58 PSZ2 G357.75-41.77 315.929167 -43.32583   0.049       -- ...                 --            --       --      --      --\n",
       "   31              S1101    348.494   -42.734   0.056  348.329 ... RXCJ2313.9-4244     NORAS/REFLEX 1.811143  2.8261  0.9802"
      ]
     },
     "execution_count": 173,
     "metadata": {},
     "output_type": "execute_result"
    }
   ],
   "source": [
    "chances_mcxc = join(chances, mcxc['MCXC','X-rays','X-ray catalog','L500_X','m500_X', 'r500_X','CHANCES name'], keys=('CHANCES name',), join_type='left')\n",
    "chances_mcxc"
   ]
  },
  {
   "cell_type": "code",
   "execution_count": 174,
   "metadata": {},
   "outputs": [
    {
     "data": {
      "text/plain": [
       "(2, 46, 39)"
      ]
     },
     "execution_count": 174,
     "metadata": {},
     "output_type": "execute_result"
    }
   ],
   "source": [
    "if sample == 'evolution':\n",
    "    inact = ~chances_mcxc['m500_ACT'].mask\n",
    "    inpsz = ~chances_mcxc['m500_PSZ'].mask\n",
    "else:\n",
    "    inact = np.array(['ACT-CL' in name for name in chances_mcxc['CHANCES name']])\n",
    "    inpsz = (chances_mcxc['PSZ_name'] != '--')\n",
    "inx = ~chances_mcxc['m500_X'].mask\n",
    "inact.sum(), inpsz.sum(), inx.sum()"
   ]
  },
  {
   "cell_type": "code",
   "execution_count": 175,
   "metadata": {},
   "outputs": [
    {
     "data": {
      "text/plain": [
       "0"
      ]
     },
     "execution_count": 175,
     "metadata": {},
     "output_type": "execute_result"
    }
   ],
   "source": [
    "sz = inact & inpsz\n",
    "sz.sum()"
   ]
  },
  {
   "cell_type": "markdown",
   "metadata": {},
   "source": [
    "Clusters in MCXC and at least one of the SZ catalogues:"
   ]
  },
  {
   "cell_type": "code",
   "execution_count": 176,
   "metadata": {},
   "outputs": [
    {
     "data": {
      "text/plain": [
       "(2, 32)"
      ]
     },
     "execution_count": 176,
     "metadata": {},
     "output_type": "execute_result"
    }
   ],
   "source": [
    "actx = inact & inx\n",
    "pszx = inpsz & inx\n",
    "actx.sum(), pszx.sum()"
   ]
  },
  {
   "cell_type": "markdown",
   "metadata": {},
   "source": [
    "Clusters in MCXC and both SZ catalogues:"
   ]
  },
  {
   "cell_type": "code",
   "execution_count": 177,
   "metadata": {},
   "outputs": [
    {
     "data": {
      "text/plain": [
       "0"
      ]
     },
     "execution_count": 177,
     "metadata": {},
     "output_type": "execute_result"
    }
   ],
   "source": [
    "xsz = actx & pszx\n",
    "xsz.sum()"
   ]
  },
  {
   "cell_type": "markdown",
   "metadata": {},
   "source": [
    "Finally, clusters in none of the three:"
   ]
  },
  {
   "cell_type": "code",
   "execution_count": 178,
   "metadata": {},
   "outputs": [
    {
     "data": {
      "text/plain": [
       "6"
      ]
     },
     "execution_count": 178,
     "metadata": {},
     "output_type": "execute_result"
    }
   ],
   "source": [
    "nowhere = ~inact & ~inpsz & ~inx\n",
    "nowhere.sum()"
   ]
  },
  {
   "cell_type": "markdown",
   "metadata": {},
   "source": [
    "All Evolution clusters are in at least one of (ACT, PSZ, MCXC), but there are 6 Low-z clusters that are not in any of the three:"
   ]
  },
  {
   "cell_type": "code",
   "execution_count": 179,
   "metadata": {},
   "outputs": [
    {
     "data": {
      "text/html": [
       "<div><i>Table length=6</i>\n",
       "<table id=\"table140096887839552\" class=\"table-striped table-bordered table-condensed\">\n",
       "<thead><tr><th>index</th><th>CHANCES name</th><th>ra</th><th>dec</th><th>z</th><th>Gal_Long</th><th>Gal_Latitude</th><th>Lx</th><th>VST</th><th>AAO_redshifts</th><th>SPLUS</th><th>Comments</th><th>PSZ_name</th><th>index_PSZ</th><th>hms</th><th>dms</th><th>m500lo</th><th>m500</th><th>MCXC</th><th>X-rays</th><th>X-ray catalog</th><th>L500_X</th><th>m500_X</th><th>r500_X</th></tr></thead>\n",
       "<thead><tr><th>int64</th><th>str19</th><th>float64</th><th>float64</th><th>float64</th><th>float64</th><th>float64</th><th>float64</th><th>str1</th><th>int64</th><th>str6</th><th>str18</th><th>str18</th><th>int64</th><th>str11</th><th>str11</th><th>float64</th><th>float64</th><th>str12</th><th>str18</th><th>str12</th><th>float64</th><th>float64</th><th>float64</th></tr></thead>\n",
       "<tr><td>4</td><td>A0957</td><td>153.408</td><td>0.916</td><td>0.045</td><td>240.931</td><td>43.981</td><td>0.4</td><td>Y</td><td>154</td><td>SPLUS</td><td>--</td><td>--</td><td>--</td><td>10:13:37.92</td><td>0:54:57.6</td><td>--</td><td>--</td><td>--</td><td>--</td><td>--</td><td>--</td><td>--</td><td>--</td></tr>\n",
       "<tr><td>11</td><td>A3128</td><td>52.562</td><td>-52.533</td><td>0.059</td><td>264.685</td><td>-51.117</td><td>1.08</td><td>Y</td><td>584</td><td>SPLUS</td><td>--</td><td>--</td><td>--</td><td>3:30:14.88</td><td>-52:31:58.8</td><td>--</td><td>--</td><td>--</td><td>--</td><td>--</td><td>--</td><td>--</td><td>--</td></tr>\n",
       "<tr><td>33</td><td>A3392</td><td>97.784</td><td>-35.489</td><td>0.055</td><td>243.456</td><td>-19.963</td><td>0.841</td><td>N</td><td>0</td><td>NO</td><td>--</td><td>--</td><td>--</td><td>6:31:08.16</td><td>-35:29:20.4</td><td>--</td><td>--</td><td>--</td><td>--</td><td>--</td><td>--</td><td>--</td><td>--</td></tr>\n",
       "<tr><td>20</td><td>A3528N</td><td>193.5</td><td>-28.85</td><td>0.053</td><td>303.608</td><td>34.018</td><td>1.01</td><td>Y</td><td>627</td><td>Shapl</td><td>--</td><td>--</td><td>--</td><td>12:54:00</td><td>-28:51:00</td><td>--</td><td>--</td><td>--</td><td>--</td><td>--</td><td>--</td><td>--</td><td>--</td></tr>\n",
       "<tr><td>23</td><td>A3556</td><td>201.029</td><td>-31.666</td><td>0.049</td><td>311.017</td><td>30.691</td><td>0.48</td><td>Y</td><td>625</td><td>Shapl</td><td>--</td><td>--</td><td>--</td><td>13:24:06.96</td><td>-31:39:57.6</td><td>--</td><td>--</td><td>--</td><td>--</td><td>--</td><td>--</td><td>--</td><td>--</td></tr>\n",
       "<tr><td>25</td><td>A3560</td><td>202.97</td><td>-33.233</td><td>0.047</td><td>312.586</td><td>28.879</td><td>0.67</td><td>Y</td><td>580</td><td>Shapl</td><td>--</td><td>--</td><td>--</td><td>13:31:52.8</td><td>-33:13:58.8</td><td>--</td><td>--</td><td>--</td><td>--</td><td>--</td><td>--</td><td>--</td><td>--</td></tr>\n",
       "</table></div>"
      ],
      "text/plain": [
       "<Table length=6>\n",
       "index CHANCES name    ra     dec      z    Gal_Long Gal_Latitude ...   m500   MCXC X-rays X-ray catalog  L500_X  m500_X  r500_X\n",
       "int64    str19     float64 float64 float64 float64    float64    ... float64 str12 str18      str12     float64 float64 float64\n",
       "----- ------------ ------- ------- ------- -------- ------------ ... ------- ----- ------ ------------- ------- ------- -------\n",
       "    4        A0957 153.408   0.916   0.045  240.931       43.981 ...      --    --     --            --      --      --      --\n",
       "   11        A3128  52.562 -52.533   0.059  264.685      -51.117 ...      --    --     --            --      --      --      --\n",
       "   33        A3392  97.784 -35.489   0.055  243.456      -19.963 ...      --    --     --            --      --      --      --\n",
       "   20       A3528N   193.5  -28.85   0.053  303.608       34.018 ...      --    --     --            --      --      --      --\n",
       "   23        A3556 201.029 -31.666   0.049  311.017       30.691 ...      --    --     --            --      --      --      --\n",
       "   25        A3560  202.97 -33.233   0.047  312.586       28.879 ...      --    --     --            --      --      --      --"
      ]
     },
     "execution_count": 179,
     "metadata": {},
     "output_type": "execute_result"
    }
   ],
   "source": [
    "chances_mcxc[nowhere]"
   ]
  },
  {
   "cell_type": "markdown",
   "metadata": {},
   "source": [
    "What about SPT?"
   ]
  },
  {
   "cell_type": "code",
   "execution_count": 180,
   "metadata": {},
   "outputs": [
    {
     "name": "stdout",
     "output_type": "stream",
     "text": [
      "SPT-SZ: 0 matches\n"
     ]
    }
   ],
   "source": [
    "if sample == 'lowz':\n",
    "    catalogs.query(chances_mcxc['ra'][nowhere], chances_mcxc['dec'][nowhere], catalogs='spt-sz')"
   ]
  },
  {
   "cell_type": "markdown",
   "metadata": {},
   "source": [
    "# Compare masses"
   ]
  },
  {
   "cell_type": "code",
   "execution_count": 181,
   "metadata": {},
   "outputs": [],
   "source": [
    "def line(x, a, b=1): return a + b*x"
   ]
  },
  {
   "cell_type": "code",
   "execution_count": 182,
   "metadata": {},
   "outputs": [
    {
     "data": {
      "text/plain": [
       "<matplotlib.colorbar.Colorbar at 0x7f6ad865bb80>"
      ]
     },
     "execution_count": 182,
     "metadata": {},
     "output_type": "execute_result"
    },
    {
     "data": {
      "image/png": "[encoded data removed]",
      "text/plain": [
       "<Figure size 1440x432 with 4 Axes>"
      ]
     },
     "metadata": {
      "needs_background": "light"
     },
     "output_type": "display_data"
    }
   ],
   "source": [
    "do_log = True\n",
    "t = np.linspace(0, 25, 10)\n",
    "fig, axes = plt.subplots(1, 3, figsize=(20,6), constrained_layout=True)\n",
    "for ax, xname, yname, mask in zip(axes, ('ACT','ACT','PSZ'), ('PSZ','X','X'), (sz, actx, pszx)):\n",
    "    if np.in1d([xname, yname], ['ACT']).sum() > 0 and sample == 'lowz':\n",
    "        continue\n",
    "    if sample == 'evolution':\n",
    "        x = chances_mcxc[f'm500_{xname}'][mask]\n",
    "        y = chances_mcxc[f'm500_{yname}'][mask]\n",
    "    else:\n",
    "        x = chances_mcxc['m500'][mask]\n",
    "        y = chances_mcxc['m500_X'][mask]\n",
    "    if do_log:\n",
    "        x = np.log10(x)\n",
    "        y = np.log10(y)\n",
    "    z = chances_mcxc['z'][mask]\n",
    "    pts = ax.scatter(x, y, c=z, vmin=0, vmax=0.5, cmap='viridis', marker='o', s=60)\n",
    "    ax.plot(t, t, '--')\n",
    "    # best-fit straight line with slope=1\n",
    "    fit, cov = curve_fit(line, x, y, p0=(0.3,))\n",
    "    std = np.std(y - line(x, *fit))\n",
    "    ax.plot(t, line(t, *fit), '-', label=f'$a={fit[0]:.2f}$')\n",
    "    xlim = (0, 23) if sample == 'evolution' else (0, 10)\n",
    "    if do_log:\n",
    "        xlim = (0.5, np.log10(xlim[1]))\n",
    "    ax.set(xlabel=fr'$m_{{500}}^\\mathrm{{{xname}}}$ ($10^{{14}}$ M$_\\odot)$',\n",
    "           ylabel=fr'$m_{{500}}^\\mathrm{{{yname}}}$ ($10^{{14}}$ M$_\\odot)$',\n",
    "           xlim=xlim, ylim=xlim)\n",
    "    ax.legend()\n",
    "plt.colorbar(pts, ax=axes, label='Redshift')"
   ]
  },
  {
   "cell_type": "markdown",
   "metadata": {},
   "source": [
    "A 2d fit:"
   ]
  },
  {
   "cell_type": "code",
   "execution_count": 183,
   "metadata": {},
   "outputs": [],
   "source": [
    "def plane(xy, a, b, c, d):\n",
    "    x, y = xy\n",
    "    return a + b*x + c*y + d*x*y"
   ]
  },
  {
   "cell_type": "code",
   "execution_count": 184,
   "metadata": {},
   "outputs": [],
   "source": [
    "if sample == 'evolution':\n",
    "    mpsz = chances_mcxc['m500_PSZ']\n",
    "    mact = chances_mcxc['m500_ACT']\n",
    "    mx = chances_mcxc['m500_X']\n",
    "    xfit = [mpsz[xsz], mact[xsz]]\n",
    "    yfit = mx[xsz]\n",
    "    fit, cov = curve_fit(plane, xfit, yfit, p0=(2,3,4,2))\n",
    "    fig, ax = plt.subplots(figsize=(8,7))\n",
    "    ax.plot(yfit, plane(xfit, *fit), 'o')\n",
    "    ax.plot(t, t, 'C1--')\n",
    "    fit"
   ]
  },
  {
   "cell_type": "markdown",
   "metadata": {},
   "source": [
    "But how many are there with PSZ+X but no ACT?"
   ]
  },
  {
   "cell_type": "code",
   "execution_count": 146,
   "metadata": {},
   "outputs": [
    {
     "data": {
      "text/plain": [
       "32"
      ]
     },
     "execution_count": 146,
     "metadata": {},
     "output_type": "execute_result"
    }
   ],
   "source": [
    "(inpsz & inx & ~inact).sum()"
   ]
  },
  {
   "cell_type": "markdown",
   "metadata": {},
   "source": [
    "This means we could use the 2d fit to improve the estimate in some Evolution clusters (but not now). The low-z sample has 32 but there are only 2 ACT clusters anyway. So:"
   ]
  },
  {
   "cell_type": "markdown",
   "metadata": {},
   "source": [
    "## Best masses\n",
    "\n",
    "**Evolution**\n",
    "\n",
    "The ACT masses have been (i) Eddington-bias corrected and (ii) indirectly calibrated for SZ bias with weak lensing, so we can take those as reference. adding the appropriate values to either PSZ or X to make them consistent with ACT. If both PSZ and X, but not ACT, are present, we take the PSZ mass.\n",
    "\n",
    "**Low-z**\n",
    "\n",
    "The mean difference for low-z, $m_\\mathrm{X} = m_\\mathrm{PSZ} - 0.6$ is consistent with the zero point found in the evolution sample ($-0.4$), so let's just apply the same correction. We're keeping the ACT masses for the two ACT clusters."
   ]
  },
  {
   "cell_type": "markdown",
   "metadata": {},
   "source": [
    "Let's begin by renaming the low-z mass columns for consistency:"
   ]
  },
  {
   "cell_type": "code",
   "execution_count": 185,
   "metadata": {},
   "outputs": [],
   "source": [
    "if sample == 'lowz':\n",
    "    chances_mcxc.rename_column('m500', 'm500_PSZ')\n",
    "    chances_mcxc['m500_ACT'] = -np.ones(inact.size)\n",
    "    chances_mcxc.mask['m500_ACT'] = ~inact\n",
    "    chances_mcxc['m500_ACT'][inact] = chances_mcxc['m500_PSZ'][inact]\n",
    "    chances_mcxc['m500_PSZ'][inact] = -1"
   ]
  },
  {
   "cell_type": "markdown",
   "metadata": {},
   "source": [
    "Now we apply the offsets"
   ]
  },
  {
   "cell_type": "code",
   "execution_count": 186,
   "metadata": {},
   "outputs": [],
   "source": [
    "if do_log:\n",
    "    chances_mcxc['m500_X_corr'] = 10**0.18 * chances_mcxc['m500_X']\n",
    "    chances_mcxc['m500_PSZ_corr'] = 10**0.13 *  chances_mcxc['m500_PSZ']\n",
    "    chances_mcxc['m500_ACT_corr'] = chances_mcxc['m500_ACT'] # for completeness\n",
    "    chances_mcxc['m500'] = np.zeros(inact.size)\n",
    "    chances_mcxc['m500'][inx] = 10**0.18 * chances_mcxc['m500_X'][inx]\n",
    "    chances_mcxc['m500'][inpsz] = 10**0.13 * chances_mcxc['m500_PSZ'][inpsz]\n",
    "    chances_mcxc['m500'][inact] = chances_mcxc['m500_ACT'][inact]\n",
    "else:\n",
    "    chances_mcxc['m500_X_corr'] = 3.4 + chances_mcxc['m500_X']\n",
    "    chances_mcxc['m500_PSZ_corr'] = 3.0 + chances_mcxc['m500_PSZ']\n",
    "    chances_mcxc['m500_ACT_corr'] = chances_mcxc['m500_ACT'] # for completeness\n",
    "    chances_mcxc['m500'] = np.zeros(inact.size)\n",
    "    chances_mcxc['m500'][inx] = 3.4 + chances_mcxc['m500_X'][inx]\n",
    "    chances_mcxc['m500'][inpsz] = 3.0 + chances_mcxc['m500_PSZ'][inpsz]\n",
    "    chances_mcxc['m500'][inact] = chances_mcxc['m500_ACT'][inact]"
   ]
  },
  {
   "cell_type": "markdown",
   "metadata": {},
   "source": [
    "# Radii\n",
    "\n",
    "We can now calculate the radii:"
   ]
  },
  {
   "cell_type": "code",
   "execution_count": 187,
   "metadata": {},
   "outputs": [
    {
     "data": {
      "text/plain": [
       "array([1.07631735, 1.02082694, 0.63508821, 1.4560751 , 1.22259141,\n",
       "       0.        , 1.01042986, 0.93026246, 0.97763604, 0.91705866,\n",
       "       1.1870056 , 1.09483864, 0.84805347, 0.92966784, 0.        ,\n",
       "       1.26657126, 0.88148946, 0.93770113, 1.4410408 , 1.02622634,\n",
       "       1.08421582, 0.        , 1.13241324, 1.04618244, 1.00241483,\n",
       "       0.        , 1.08989627, 0.92364257, 1.15775766, 0.        ,\n",
       "       1.29485901, 0.        , 1.03347475, 1.28389938, 1.36757836,\n",
       "       0.93701582, 0.90701549, 1.24522313, 1.35199737, 1.24394966,\n",
       "       0.88264173, 0.94866704, 0.88680222, 0.92391695, 0.91943162,\n",
       "       0.80310062, 0.88347718, 0.93949151, 1.16220757, 1.03546925,\n",
       "       0.92798686, 0.97087414, 1.53099183, 0.98241115, 1.13233128,\n",
       "       0.86915324, 0.94038418, 0.88869128, 1.15100673])"
      ]
     },
     "execution_count": 187,
     "metadata": {},
     "output_type": "execute_result"
    }
   ],
   "source": [
    "chances_mcxc['r500'] = conversions.rsph(1e14*chances_mcxc['m500'], chances_mcxc['z'], ref='500c')\n",
    "chances_mcxc['r500'].value"
   ]
  },
  {
   "cell_type": "code",
   "execution_count": 151,
   "metadata": {},
   "outputs": [
    {
     "data": {
      "text/html": [
       "<div><i>Table length=59</i>\n",
       "<table id=\"table140096879702416\" class=\"table-striped table-bordered table-condensed\">\n",
       "<thead><tr><th>index</th><th>CHANCES name</th><th>ra</th><th>dec</th><th>z</th><th>Gal_Long</th><th>Gal_Latitude</th><th>Lx</th><th>VST</th><th>AAO_redshifts</th><th>SPLUS</th><th>Comments</th><th>PSZ_name</th><th>m500_PSZ</th><th>index_PSZ</th><th>hms</th><th>dms</th><th>m500lo</th><th>MCXC</th><th>X-rays</th><th>X-ray catalog</th><th>L500_X</th><th>m500_X</th><th>r500_X</th><th>m500_ACT</th><th>m500_X_corr</th><th>m500_PSZ_corr</th><th>m500_ACT_corr</th><th>m500</th><th>r500</th></tr></thead>\n",
       "<thead><tr><th>int64</th><th>str19</th><th>float64</th><th>float64</th><th>float64</th><th>float64</th><th>float64</th><th>float64</th><th>str1</th><th>int64</th><th>str6</th><th>str18</th><th>str18</th><th>float64</th><th>int64</th><th>str11</th><th>str11</th><th>float64</th><th>str12</th><th>str18</th><th>str12</th><th>float64</th><th>float64</th><th>float64</th><th>float64</th><th>float64</th><th>float64</th><th>float64</th><th>float64</th><th>float64</th></tr></thead>\n",
       "<tr><td>39</td><td>A0496</td><td>68.41</td><td>-13.259</td><td>0.032</td><td>209.585</td><td>-36.485</td><td>2.054</td><td>N</td><td>0</td><td>NO</td><td>--</td><td>PSZ2 G209.54-36.50</td><td>2.71</td><td>--</td><td>4:33:38.4</td><td>-13:15:32.4</td><td>--</td><td>J0433.6-1315</td><td>RXCJ0433.6-1315</td><td>NORAS/REFLEX</td><td>1.85299</td><td>2.91</td><td>1.00</td><td>-1.00</td><td>4.41</td><td>3.66</td><td>-1.00</td><td>3.66</td><td>1.08</td></tr>\n",
       "<tr><td>0</td><td>A0500</td><td>69.716</td><td>-22.1</td><td>0.067</td><td>220.556</td><td>-38.49</td><td>0.72</td><td>Y</td><td>478</td><td>2020B</td><td>--</td><td>PSZ2 G220.53-38.55</td><td>2.39</td><td>--</td><td>4:38:51.84</td><td>-22:06:00</td><td>--</td><td>J0438.9-2206</td><td>RXCJ0438.9-2206</td><td>NORAS/REFLEX</td><td>0.65502</td><td>1.51</td><td>0.79</td><td>-1.00</td><td>2.28</td><td>3.22</td><td>-1.00</td><td>3.22</td><td>1.02</td></tr>\n",
       "<tr><td>1</td><td>A0548b</td><td>86.366</td><td>-25.916</td><td>0.044</td><td>230.469</td><td>-25.248</td><td>0.15</td><td>N</td><td>0</td><td>2021B</td><td>--</td><td>--</td><td>-1.00</td><td>--</td><td>5:45:27.84</td><td>-25:54:57.6</td><td>--</td><td>J0545.4-2556</td><td>RXCJ0545.4-2556</td><td>NORAS/REFLEX</td><td>0.104752</td><td>0.50</td><td>0.55</td><td>-1.00</td><td>0.76</td><td>-1.35</td><td>-1.00</td><td>0.76</td><td>0.64</td></tr>\n",
       "<tr><td>2</td><td>A0754</td><td>137.133</td><td>-9.616</td><td>0.054</td><td>239.185</td><td>24.707</td><td>4.08</td><td>Y</td><td>423</td><td>2021B</td><td>--</td><td>PSZ2 G239.29+24.75</td><td>6.85</td><td>--</td><td>9:08:31.92</td><td>-9:36:57.6</td><td>--</td><td>--</td><td>--</td><td>--</td><td>--</td><td>--</td><td>--</td><td>-1.00</td><td>--</td><td>9.24</td><td>-1.00</td><td>9.24</td><td>1.46</td></tr>\n",
       "<tr><td>3</td><td>A0780</td><td>139.525</td><td>-12.083</td><td>0.057</td><td>242.915</td><td>25.101</td><td>3.38</td><td>N</td><td>0</td><td>2021B</td><td>--</td><td>--</td><td>-1.00</td><td>--</td><td>9:18:06</td><td>-12:04:58.8</td><td>--</td><td>J0918.1-1205</td><td>RXCJ0918.1-1205</td><td>NORAS/REFLEX</td><td>2.716018</td><td>3.62</td><td>1.07</td><td>-1.00</td><td>5.49</td><td>-1.35</td><td>-1.00</td><td>5.49</td><td>1.22</td></tr>\n",
       "<tr><td>4</td><td>A0957</td><td>153.408</td><td>0.916</td><td>0.045</td><td>240.931</td><td>43.981</td><td>0.4</td><td>Y</td><td>154</td><td>SPLUS</td><td>--</td><td>--</td><td>-1.00</td><td>--</td><td>10:13:37.92</td><td>0:54:57.6</td><td>--</td><td>--</td><td>--</td><td>--</td><td>--</td><td>--</td><td>--</td><td>-1.00</td><td>--</td><td>-1.35</td><td>-1.00</td><td>0.00</td><td>0.00</td></tr>\n",
       "<tr><td>5</td><td>A0970</td><td>154.391</td><td>-10.666</td><td>0.059</td><td>253.075</td><td>36.897</td><td>0.77</td><td>Y</td><td>136</td><td>SPLUS</td><td>--</td><td>PSZ2 G253.04+36.83</td><td>2.30</td><td>--</td><td>10:17:33.84</td><td>-10:39:57.6</td><td>--</td><td>J1017.3-1040</td><td>RXCJ1017.3-1040</td><td>NORAS/REFLEX</td><td>0.904947</td><td>1.85</td><td>0.85</td><td>-1.00</td><td>2.80</td><td>3.10</td><td>-1.00</td><td>3.10</td><td>1.01</td></tr>\n",
       "<tr><td>6</td><td>A1069</td><td>159.929</td><td>-8.683</td><td>0.062</td><td>256.585</td><td>42.035</td><td>0.48</td><td>Y</td><td>496</td><td>SPLUS</td><td>--</td><td>PSZ2 G256.67+42.05</td><td>1.80</td><td>--</td><td>10:39:42.96</td><td>-8:40:58.8</td><td>--</td><td>J1039.7-0841</td><td>RXCJ1039.7-0841</td><td>NORAS/REFLEX</td><td>0.620608</td><td>1.46</td><td>0.78</td><td>-1.00</td><td>2.21</td><td>2.43</td><td>-1.00</td><td>2.43</td><td>0.93</td></tr>\n",
       "<tr><td>34</td><td>A1520</td><td>184.832</td><td>-13.26</td><td>0.068</td><td>291.007</td><td>48.867</td><td>0.821</td><td>N</td><td>0</td><td>SPLUS</td><td>--</td><td>--</td><td>-1.00</td><td>--</td><td>12:19:19.68</td><td>-13:15:36</td><td>--</td><td>J1219.3-1315</td><td>RXCJ1219.3-1315</td><td>NORAS/REFLEX</td><td>0.93527</td><td>1.87</td><td>0.85</td><td>-1.00</td><td>2.83</td><td>-1.35</td><td>-1.00</td><td>2.83</td><td>0.98</td></tr>\n",
       "<tr><td>7</td><td>A1631a</td><td>193.216</td><td>-15.4</td><td>0.047</td><td>303.441</td><td>47.47</td><td>0.37</td><td>Y</td><td>673</td><td>SPLUS</td><td>--</td><td>PSZ2 G303.56+47.54</td><td>1.70</td><td>--</td><td>12:52:51.84</td><td>-15:24:00</td><td>--</td><td>--</td><td>--</td><td>--</td><td>--</td><td>--</td><td>--</td><td>-1.00</td><td>--</td><td>2.29</td><td>-1.00</td><td>2.29</td><td>0.92</td></tr>\n",
       "<tr><td>8</td><td>A1644</td><td>194.295</td><td>-17.4</td><td>0.048</td><td>304.885</td><td>45.449</td><td>1.8</td><td>N</td><td>0</td><td>SPLUS</td><td>--</td><td>PSZ2 G304.91+45.43</td><td>3.69</td><td>--</td><td>12:57:10.8</td><td>-17:24:00</td><td>--</td><td>J1257.1-1724</td><td>RXCJ1257.1-1724</td><td>NORAS/REFLEX</td><td>1.897483</td><td>2.93</td><td>0.99</td><td>-1.00</td><td>4.43</td><td>4.98</td><td>-1.00</td><td>4.98</td><td>1.19</td></tr>\n",
       "<tr><td>9</td><td>A1736</td><td>201.795</td><td>-27.2</td><td>0.046</td><td>312.641</td><td>34.996</td><td>1.21</td><td>N</td><td>0</td><td>Shapl</td><td>--</td><td>PSZ2 G312.62+35.05</td><td>2.89</td><td>--</td><td>13:27:10.8</td><td>-27:12:00</td><td>--</td><td>--</td><td>--</td><td>--</td><td>--</td><td>--</td><td>--</td><td>-1.00</td><td>--</td><td>3.90</td><td>-1.00</td><td>3.90</td><td>1.09</td></tr>\n",
       "<tr><td>10</td><td>A2717</td><td>0.804</td><td>-35.933</td><td>0.05</td><td>349.301</td><td>-76.488</td><td>0.52</td><td>Y</td><td>610</td><td>SPLUS</td><td>--</td><td>--</td><td>-1.00</td><td>--</td><td>0:03:12.96</td><td>-35:55:58.8</td><td>--</td><td>J0003.2-3555</td><td>RXCJ0003.2-3555</td><td>NORAS/REFLEX</td><td>0.441862</td><td>1.20</td><td>0.74</td><td>-1.00</td><td>1.82</td><td>-1.35</td><td>-1.00</td><td>1.82</td><td>0.85</td></tr>\n",
       "<tr><td>37</td><td>A3122</td><td>50.577</td><td>-41.359</td><td>0.064</td><td>247.581</td><td>-56.069</td><td>0.642</td><td>N</td><td>0</td><td>SPLUS</td><td>--</td><td>PSZ2 G247.56-56.06</td><td>1.80</td><td>--</td><td>3:22:18.48</td><td>-41:21:32.4</td><td>--</td><td>J0322.3-4121</td><td>RXCJ0322.3-4121</td><td>NORAS/REFLEX</td><td>0.593611</td><td>1.42</td><td>0.78</td><td>-1.00</td><td>2.16</td><td>2.43</td><td>-1.00</td><td>2.43</td><td>0.93</td></tr>\n",
       "<tr><td>11</td><td>A3128</td><td>52.562</td><td>-52.533</td><td>0.059</td><td>264.685</td><td>-51.117</td><td>1.08</td><td>Y</td><td>584</td><td>SPLUS</td><td>--</td><td>--</td><td>-1.00</td><td>--</td><td>3:30:14.88</td><td>-52:31:58.8</td><td>--</td><td>--</td><td>--</td><td>--</td><td>--</td><td>--</td><td>--</td><td>-1.00</td><td>--</td><td>-1.35</td><td>-1.00</td><td>0.00</td><td>0.00</td></tr>\n",
       "<tr><td>12</td><td>A3158</td><td>55.787</td><td>-53.65</td><td>0.059</td><td>265.05</td><td>-48.894</td><td>2.71</td><td>Y</td><td>621</td><td>SPLUS</td><td>--</td><td>PSZ2 G265.02-48.96</td><td>4.53</td><td>--</td><td>3:43:08.88</td><td>-53:39:00</td><td>--</td><td>J0342.8-5338</td><td>RXCJ0342.8-5338</td><td>NORAS/REFLEX</td><td>2.76492</td><td>3.65</td><td>1.07</td><td>-1.00</td><td>5.53</td><td>6.11</td><td>-1.00</td><td>6.11</td><td>1.27</td></tr>\n",
       "<tr><td>13</td><td>A3164</td><td>56.454</td><td>-57.033</td><td>0.061</td><td>269.436</td><td>-47.164</td><td>0.75</td><td>N</td><td>0</td><td>SPLUS</td><td>--</td><td>PSZ2 G269.36-47.20</td><td>1.53</td><td>--</td><td>3:45:48.96</td><td>-57:01:58.8</td><td>--</td><td>J0346.1-5702</td><td>RXCJ0346.1-5702</td><td>NORAS/REFLEX</td><td>0.537529</td><td>1.35</td><td>0.77</td><td>-1.00</td><td>2.04</td><td>2.06</td><td>-1.00</td><td>2.06</td><td>0.88</td></tr>\n",
       "<tr><td>...</td><td>...</td><td>...</td><td>...</td><td>...</td><td>...</td><td>...</td><td>...</td><td>...</td><td>...</td><td>...</td><td>...</td><td>...</td><td>...</td><td>...</td><td>...</td><td>...</td><td>...</td><td>...</td><td>...</td><td>...</td><td>...</td><td>...</td><td>...</td><td>...</td><td>...</td><td>...</td><td>...</td><td>...</td><td>...</td></tr>\n",
       "<tr><td>45</td><td>PSZ2 G230.28-24.42</td><td>87.160833</td><td>-25.48306</td><td>0.042</td><td>--</td><td>--</td><td>--</td><td>--</td><td>--</td><td>--</td><td>--</td><td>PSZ2 G230.28-24.42</td><td>1.53</td><td>370</td><td>5:48:38.6</td><td>-25:28:59</td><td>0.17</td><td>J0548.6-2527</td><td>RXCJ0548.6-2527</td><td>NORAS/REFLEX</td><td>0.551689</td><td>1.38</td><td>0.78</td><td>-1.00</td><td>2.09</td><td>2.06</td><td>-1.00</td><td>2.06</td><td>0.89</td></tr>\n",
       "<tr><td>42</td><td>PSZ2 G242.41-37.40</td><td>75.203333</td><td>-38.67472</td><td>0.054</td><td>--</td><td>--</td><td>--</td><td>--</td><td>--</td><td>--</td><td>--</td><td>PSZ2 G242.41-37.40</td><td>1.75</td><td>362</td><td>5:00:48.8</td><td>-38:40:29</td><td>0.17</td><td>J0500.7-3840</td><td>RXCJ0500.7-3840</td><td>NORAS/REFLEX</td><td>0.48661</td><td>1.27</td><td>0.75</td><td>-1.00</td><td>1.92</td><td>2.36</td><td>-1.00</td><td>2.36</td><td>0.92</td></tr>\n",
       "<tr><td>50</td><td>PSZ2 G243.02+42.87</td><td>153.505417</td><td>-0.95889</td><td>0.045</td><td>--</td><td>--</td><td>--</td><td>--</td><td>--</td><td>--</td><td>--</td><td>PSZ2 G243.02+42.87</td><td>1.71</td><td>364</td><td>10:14:01.3</td><td>-0:57:32</td><td>0.18</td><td>--</td><td>--</td><td>--</td><td>--</td><td>--</td><td>--</td><td>-1.00</td><td>--</td><td>2.31</td><td>-1.00</td><td>2.31</td><td>0.92</td></tr>\n",
       "<tr><td>44</td><td>PSZ2 G246.36-30.27</td><td>85.037083</td><td>-40.79333</td><td>0.036</td><td>--</td><td>--</td><td>--</td><td>--</td><td>--</td><td>--</td><td>--</td><td>PSZ2 G246.36-30.27</td><td>1.13</td><td>379</td><td>5:40:08.9</td><td>-40:47:36</td><td>0.17</td><td>J0540.1-4050</td><td>RXCJ0540.1-4050</td><td>NORAS/REFLEX</td><td>0.447219</td><td>1.22</td><td>0.75</td><td>-1.00</td><td>1.85</td><td>1.52</td><td>-1.00</td><td>1.52</td><td>0.80</td></tr>\n",
       "<tr><td>52</td><td>PSZ2 G257.51+57.54</td><td>170.3625</td><td>2.84194</td><td>0.047</td><td>--</td><td>--</td><td>--</td><td>--</td><td>--</td><td>--</td><td>--</td><td>PSZ2 G257.51+57.54</td><td>1.52</td><td>372</td><td>11:21:27</td><td>2:50:31</td><td>0.19</td><td>--</td><td>--</td><td>--</td><td>--</td><td>--</td><td>--</td><td>-1.00</td><td>--</td><td>2.05</td><td>-1.00</td><td>2.05</td><td>0.88</td></tr>\n",
       "<tr><td>47</td><td>PSZ2 G265.21-24.83</td><td>98.070833</td><td>-56.14722</td><td>0.054</td><td>--</td><td>--</td><td>--</td><td>--</td><td>--</td><td>--</td><td>--</td><td>PSZ2 G265.21-24.83</td><td>1.84</td><td>357</td><td>6:32:17</td><td>-56:08:50</td><td>0.17</td><td>--</td><td>--</td><td>--</td><td>--</td><td>--</td><td>--</td><td>-1.00</td><td>--</td><td>2.48</td><td>-1.00</td><td>2.48</td><td>0.94</td></tr>\n",
       "<tr><td>48</td><td>PSZ2 G271.60-12.50</td><td>123.142917</td><td>-57.24167</td><td>0.062</td><td>--</td><td>--</td><td>--</td><td>--</td><td>--</td><td>--</td><td>--</td><td>PSZ2 G271.60-12.50</td><td>3.51</td><td>270</td><td>8:12:34.3</td><td>-57:14:30</td><td>0.18</td><td>J0812.5-5714</td><td>RXC J0812.5-5714</td><td>CIZA</td><td>1.969423</td><td>2.96</td><td>0.99</td><td>-1.00</td><td>4.48</td><td>4.73</td><td>-1.00</td><td>4.73</td><td>1.16</td></tr>\n",
       "<tr><td>49</td><td>PSZ2 G272.11-11.50</td><td>125.187917</td><td>-57.13417</td><td>0.061</td><td>--</td><td>--</td><td>--</td><td>--</td><td>--</td><td>--</td><td>--</td><td>PSZ2 G272.11-11.50</td><td>2.48</td><td>319</td><td>8:20:45.1</td><td>-57:08:03</td><td>0.16</td><td>--</td><td>--</td><td>--</td><td>--</td><td>--</td><td>--</td><td>-1.00</td><td>--</td><td>3.35</td><td>-1.00</td><td>3.35</td><td>1.04</td></tr>\n",
       "<tr><td>51</td><td>PSZ2 G280.21+14.57</td><td>162.2175</td><td>-42.83028</td><td>0.058</td><td>--</td><td>--</td><td>--</td><td>--</td><td>--</td><td>--</td><td>--</td><td>PSZ2 G280.21+14.57</td><td>1.78</td><td>361</td><td>10:48:52.2</td><td>-42:49:49</td><td>0.24</td><td>--</td><td>--</td><td>--</td><td>--</td><td>--</td><td>--</td><td>-1.00</td><td>--</td><td>2.40</td><td>-1.00</td><td>2.40</td><td>0.93</td></tr>\n",
       "<tr><td>55</td><td>PSZ2 G317.58-17.82</td><td>251.372917</td><td>-73.59222</td><td>0.069</td><td>--</td><td>--</td><td>--</td><td>--</td><td>--</td><td>--</td><td>--</td><td>PSZ2 G317.58-17.82</td><td>2.06</td><td>348</td><td>16:45:29.5</td><td>-73:35:32</td><td>0.25</td><td>J1645.4-7334</td><td>RXC J1645.4-7334</td><td>CIZA</td><td>0.928838</td><td>1.86</td><td>0.85</td><td>-1.00</td><td>2.82</td><td>2.78</td><td>-1.00</td><td>2.78</td><td>0.97</td></tr>\n",
       "<tr><td>54</td><td>PSZ2 G324.59-11.52</td><td>249.57875</td><td>-64.35917</td><td>0.051</td><td>--</td><td>--</td><td>--</td><td>--</td><td>--</td><td>--</td><td>--</td><td>PSZ2 G324.59-11.52</td><td>7.94</td><td>20</td><td>16:38:18.9</td><td>-64:21:33</td><td>0.16</td><td>J1638.2-6420</td><td>RXC J1638.2-6420</td><td>CIZA</td><td>4.946943</td><td>5.24</td><td>1.21</td><td>-1.00</td><td>7.92</td><td>10.71</td><td>-1.00</td><td>10.71</td><td>1.53</td></tr>\n",
       "<tr><td>53</td><td>PSZ2 G326.01+17.21</td><td>222.28</td><td>-40.3275</td><td>0.062</td><td>--</td><td>--</td><td>--</td><td>--</td><td>--</td><td>--</td><td>--</td><td>PSZ2 G326.01+17.21</td><td>2.12</td><td>345</td><td>14:49:07.2</td><td>-40:19:39</td><td>0.26</td><td>--</td><td>--</td><td>--</td><td>--</td><td>--</td><td>--</td><td>-1.00</td><td>--</td><td>2.86</td><td>-1.00</td><td>2.86</td><td>0.98</td></tr>\n",
       "<tr><td>56</td><td>PSZ2 G342.82-30.48</td><td>298.049583</td><td>-55.06333</td><td>0.06</td><td>--</td><td>--</td><td>--</td><td>--</td><td>--</td><td>--</td><td>--</td><td>PSZ2 G342.82-30.48</td><td>3.24</td><td>283</td><td>19:52:11.9</td><td>-55:03:48</td><td>0.20</td><td>J1952.2-5503</td><td>RXCJ1952.2-5503</td><td>NORAS/REFLEX</td><td>0.62587</td><td>1.47</td><td>0.79</td><td>-1.00</td><td>2.23</td><td>4.37</td><td>-1.00</td><td>4.37</td><td>1.13</td></tr>\n",
       "<tr><td>40</td><td>PSZ2 G344.99-81.88</td><td>6.38125</td><td>-33.00583</td><td>0.049</td><td>--</td><td>--</td><td>--</td><td>--</td><td>--</td><td>--</td><td>--</td><td>PSZ2 G344.99-81.88</td><td>1.45</td><td>374</td><td>0:25:31.5</td><td>-33:00:21</td><td>0.18</td><td>J0025.5-3302</td><td>RXCJ0025.5-3302</td><td>NORAS/REFLEX</td><td>0.49467</td><td>1.29</td><td>0.76</td><td>-1.00</td><td>1.95</td><td>1.96</td><td>-1.00</td><td>1.96</td><td>0.87</td></tr>\n",
       "<tr><td>57</td><td>PSZ2 G345.82-34.29</td><td>304.704167</td><td>-52.715</td><td>0.051</td><td>--</td><td>--</td><td>--</td><td>--</td><td>--</td><td>--</td><td>--</td><td>PSZ2 G345.82-34.29</td><td>1.84</td><td>356</td><td>20:18:49</td><td>-52:42:54</td><td>0.16</td><td>J2018.7-5242</td><td>RXCJ2018.7-5242</td><td>NORAS/REFLEX</td><td>0.691313</td><td>1.58</td><td>0.81</td><td>-1.00</td><td>2.39</td><td>2.48</td><td>-1.00</td><td>2.48</td><td>0.94</td></tr>\n",
       "<tr><td>58</td><td>PSZ2 G357.75-41.77</td><td>315.929167</td><td>-43.32583</td><td>0.049</td><td>--</td><td>--</td><td>--</td><td>--</td><td>--</td><td>--</td><td>--</td><td>PSZ2 G357.75-41.77</td><td>1.55</td><td>368</td><td>21:03:43</td><td>-43:19:33</td><td>0.23</td><td>--</td><td>--</td><td>--</td><td>--</td><td>--</td><td>--</td><td>-1.00</td><td>--</td><td>2.09</td><td>-1.00</td><td>2.09</td><td>0.89</td></tr>\n",
       "<tr><td>31</td><td>S1101</td><td>348.494</td><td>-42.734</td><td>0.056</td><td>348.329</td><td>-64.811</td><td>1.988</td><td>N</td><td>0</td><td>NO</td><td>--</td><td>PSZ2 G348.46-64.83</td><td>3.39</td><td>--</td><td>23:13:58.56</td><td>-42:44:02.4</td><td>--</td><td>J2313.9-4244</td><td>RXCJ2313.9-4244</td><td>NORAS/REFLEX</td><td>1.811143</td><td>2.83</td><td>0.98</td><td>-1.00</td><td>4.28</td><td>4.57</td><td>-1.00</td><td>4.57</td><td>1.15</td></tr>\n",
       "</table></div>"
      ],
      "text/plain": [
       "<Table length=59>\n",
       "index    CHANCES name        ra        dec       z    Gal_Long ... m500_X_corr m500_PSZ_corr m500_ACT_corr   m500    r500 \n",
       "int64       str19         float64    float64  float64 float64  ...   float64      float64       float64    float64 float64\n",
       "----- ------------------ ---------- --------- ------- -------- ... ----------- ------------- ------------- ------- -------\n",
       "   39              A0496      68.41   -13.259   0.032  209.585 ...        4.41          3.66         -1.00    3.66    1.08\n",
       "    0              A0500     69.716     -22.1   0.067  220.556 ...        2.28          3.22         -1.00    3.22    1.02\n",
       "    1             A0548b     86.366   -25.916   0.044  230.469 ...        0.76         -1.35         -1.00    0.76    0.64\n",
       "    2              A0754    137.133    -9.616   0.054  239.185 ...          --          9.24         -1.00    9.24    1.46\n",
       "    3              A0780    139.525   -12.083   0.057  242.915 ...        5.49         -1.35         -1.00    5.49    1.22\n",
       "    4              A0957    153.408     0.916   0.045  240.931 ...          --         -1.35         -1.00    0.00    0.00\n",
       "    5              A0970    154.391   -10.666   0.059  253.075 ...        2.80          3.10         -1.00    3.10    1.01\n",
       "    6              A1069    159.929    -8.683   0.062  256.585 ...        2.21          2.43         -1.00    2.43    0.93\n",
       "   34              A1520    184.832    -13.26   0.068  291.007 ...        2.83         -1.35         -1.00    2.83    0.98\n",
       "    7             A1631a    193.216     -15.4   0.047  303.441 ...          --          2.29         -1.00    2.29    0.92\n",
       "    8              A1644    194.295     -17.4   0.048  304.885 ...        4.43          4.98         -1.00    4.98    1.19\n",
       "    9              A1736    201.795     -27.2   0.046  312.641 ...          --          3.90         -1.00    3.90    1.09\n",
       "   10              A2717      0.804   -35.933    0.05  349.301 ...        1.82         -1.35         -1.00    1.82    0.85\n",
       "   37              A3122     50.577   -41.359   0.064  247.581 ...        2.16          2.43         -1.00    2.43    0.93\n",
       "   11              A3128     52.562   -52.533   0.059  264.685 ...          --         -1.35         -1.00    0.00    0.00\n",
       "   12              A3158     55.787    -53.65   0.059   265.05 ...        5.53          6.11         -1.00    6.11    1.27\n",
       "   13              A3164     56.454   -57.033   0.061  269.436 ...        2.04          2.06         -1.00    2.06    0.88\n",
       "  ...                ...        ...       ...     ...      ... ...         ...           ...           ...     ...     ...\n",
       "   45 PSZ2 G230.28-24.42  87.160833 -25.48306   0.042       -- ...        2.09          2.06         -1.00    2.06    0.89\n",
       "   42 PSZ2 G242.41-37.40  75.203333 -38.67472   0.054       -- ...        1.92          2.36         -1.00    2.36    0.92\n",
       "   50 PSZ2 G243.02+42.87 153.505417  -0.95889   0.045       -- ...          --          2.31         -1.00    2.31    0.92\n",
       "   44 PSZ2 G246.36-30.27  85.037083 -40.79333   0.036       -- ...        1.85          1.52         -1.00    1.52    0.80\n",
       "   52 PSZ2 G257.51+57.54   170.3625   2.84194   0.047       -- ...          --          2.05         -1.00    2.05    0.88\n",
       "   47 PSZ2 G265.21-24.83  98.070833 -56.14722   0.054       -- ...          --          2.48         -1.00    2.48    0.94\n",
       "   48 PSZ2 G271.60-12.50 123.142917 -57.24167   0.062       -- ...        4.48          4.73         -1.00    4.73    1.16\n",
       "   49 PSZ2 G272.11-11.50 125.187917 -57.13417   0.061       -- ...          --          3.35         -1.00    3.35    1.04\n",
       "   51 PSZ2 G280.21+14.57   162.2175 -42.83028   0.058       -- ...          --          2.40         -1.00    2.40    0.93\n",
       "   55 PSZ2 G317.58-17.82 251.372917 -73.59222   0.069       -- ...        2.82          2.78         -1.00    2.78    0.97\n",
       "   54 PSZ2 G324.59-11.52  249.57875 -64.35917   0.051       -- ...        7.92         10.71         -1.00   10.71    1.53\n",
       "   53 PSZ2 G326.01+17.21     222.28  -40.3275   0.062       -- ...          --          2.86         -1.00    2.86    0.98\n",
       "   56 PSZ2 G342.82-30.48 298.049583 -55.06333    0.06       -- ...        2.23          4.37         -1.00    4.37    1.13\n",
       "   40 PSZ2 G344.99-81.88    6.38125 -33.00583   0.049       -- ...        1.95          1.96         -1.00    1.96    0.87\n",
       "   57 PSZ2 G345.82-34.29 304.704167   -52.715   0.051       -- ...        2.39          2.48         -1.00    2.48    0.94\n",
       "   58 PSZ2 G357.75-41.77 315.929167 -43.32583   0.049       -- ...          --          2.09         -1.00    2.09    0.89\n",
       "   31              S1101    348.494   -42.734   0.056  348.329 ...        4.28          4.57         -1.00    4.57    1.15"
      ]
     },
     "execution_count": 151,
     "metadata": {},
     "output_type": "execute_result"
    }
   ],
   "source": [
    "for col in chances_mcxc.colnames:\n",
    "    if 'm500' in col or 'r500' in col:\n",
    "        chances_mcxc[col].format = '%.2f'\n",
    "chances_mcxc"
   ]
  },
  {
   "cell_type": "markdown",
   "metadata": {},
   "source": [
    "Let's compare the radii from the corrected masses just as a consistency check"
   ]
  },
  {
   "cell_type": "code",
   "execution_count": 121,
   "metadata": {},
   "outputs": [],
   "source": [
    "def zline(xz, a, b, c=1):\n",
    "    x, z = xz\n",
    "    return a + b*z + c*x"
   ]
  },
  {
   "cell_type": "code",
   "execution_count": 122,
   "metadata": {},
   "outputs": [],
   "source": [
    "for name, mask in zip(('ACT', 'PSZ', 'X'), (inact, inpsz, inx)):\n",
    "    r500 = conversions.rsph(1e14*chances_mcxc[f'm500_{name}_corr'], chances_mcxc['z'], ref='500c')\n",
    "    #r500 = np.ma.array(r500, mask=~mask)\n",
    "    rname = f'r500_{name}_corr'\n",
    "    if rname in chances_mcxc.colnames:\n",
    "        chances_mcxc[rname] = r500\n",
    "    else:\n",
    "        chances_mcxc.add_column(r500, name=rname)\n",
    "    if name != 'X':\n",
    "        r500[mask] = conversions.rsph(1e14*chances_mcxc[f'm500_{name}'][mask], chances_mcxc['z'][mask], ref='500c')\n",
    "        r500 = np.ma.array(r500, mask=~mask)\n",
    "        rname = f'r500_{name}'\n",
    "        if rname in chances_mcxc.colnames:\n",
    "            chances_mcxc[rname] = r500\n",
    "        else:\n",
    "            chances_mcxc.add_column(r500, name=rname)"
   ]
  },
  {
   "cell_type": "code",
   "execution_count": null,
   "metadata": {},
   "outputs": [],
   "source": [
    "t = np.linspace(0, 2, 10)\n",
    "fig, axes = plt.subplots(1, 3, figsize=(20,6), constrained_layout=True)\n",
    "for ax, xname, yname, mask in zip(axes, ('ACT','ACT','PSZ'), ('PSZ','X','X'), (sz, actx, pszx)):\n",
    "    x = evol_mcxc[f'r500_{xname}_corr'][mask]\n",
    "    y = evol_mcxc[f'r500_{yname}_corr'][mask]\n",
    "    z = evol_mcxc['z'][mask]\n",
    "    pts = ax.scatter(x, y, c=z, vmin=0, vmax=0.5, cmap='viridis', marker='o', s=60)\n",
    "    ax.plot(t, t, '--')\n",
    "    # best-fit straight line with slope=1\n",
    "    fit, cov = curve_fit(line, x, y, p0=(0.3,))\n",
    "    std = np.std(y - line(x, *fit))\n",
    "    ax.plot(t, line(t, *fit), '-', label=f'$a={fit[0]:.2f}$ ($\\sigma={std:.2f}$)')\n",
    "    # best-fit including redshift (not plotting)\n",
    "    zfit, zcov = curve_fit(zline, [x,z], y, p0=(0.3,0.1))\n",
    "    zstd = np.std(y - zline([x, z], *zfit))\n",
    "    print(f'std_z = {zstd:.2f}')\n",
    "    ax.set(xlabel=fr'$r_{{500}}^\\mathrm{{{xname}}}$ (Mpc)',\n",
    "           ylabel=fr'$r_{{500}}^\\mathrm{{{yname}}}$ (Mpc)',\n",
    "           xlim=(0.8, 2), ylim=(0.8, 2))\n",
    "    ax.legend()\n",
    "plt.colorbar(pts, ax=axes, label='Redshift')"
   ]
  },
  {
   "cell_type": "markdown",
   "metadata": {},
   "source": [
    "Including the redshift does not reduce the scatter."
   ]
  },
  {
   "cell_type": "code",
   "execution_count": null,
   "metadata": {},
   "outputs": [],
   "source": [
    "evol_mcxc['r500_r'] = 0.15 + evol_mcxc['r500_X']\n",
    "evol_mcxc['r500_r'][inpsz] = 0.15 + evol_mcxc['r500_PSZ'][inpsz]\n",
    "evol_mcxc['r500_r'][inact] = evol_mcxc['r500_ACT'][inact]"
   ]
  },
  {
   "cell_type": "code",
   "execution_count": null,
   "metadata": {},
   "outputs": [],
   "source": [
    "rbins = np.arange(1, 1.8, 0.05)\n",
    "plt.hist(evol_mcxc['r500_r'], rbins, alpha=0.5, label='From radii')\n",
    "plt.hist(evol_mcxc['r500'], rbins, alpha=0.5, label='From mass')\n",
    "plt.xlabel('$r_{500}$ (Mpc)')\n",
    "plt.legend(fontsize=14)"
   ]
  },
  {
   "cell_type": "code",
   "execution_count": null,
   "metadata": {},
   "outputs": [],
   "source": [
    "kpc2arcmin = Planck18.kpc_proper_per_arcmin(evol_mcxc['z'])\n",
    "d200 = (evol_mcxc['r500'] * u.Mpc / kpc2arcmin).to('arcmin')\n",
    "plt.hist(d200.value, 20)\n",
    "plt.xlabel(r'$\\theta_{500}$ (arcmin)')"
   ]
  },
  {
   "cell_type": "markdown",
   "metadata": {},
   "source": [
    "# $r_{200}$"
   ]
  },
  {
   "cell_type": "markdown",
   "metadata": {},
   "source": [
    "Now let's calculate $r_{200}$:"
   ]
  },
  {
   "cell_type": "code",
   "execution_count": 152,
   "metadata": {},
   "outputs": [],
   "source": [
    "import astro.constants\n",
    "import astropy.constants"
   ]
  },
  {
   "cell_type": "code",
   "execution_count": 153,
   "metadata": {},
   "outputs": [
    {
     "data": {
      "text/plain": [
       "6.6743e-08"
      ]
     },
     "execution_count": 153,
     "metadata": {},
     "output_type": "execute_result"
    }
   ],
   "source": [
    "astro.constants.G"
   ]
  },
  {
   "cell_type": "code",
   "execution_count": 154,
   "metadata": {},
   "outputs": [
    {
     "data": {
      "text/latex": [
       "$6.6743 \\times 10^{-11} \\; \\mathrm{\\frac{m^{3}}{kg\\,s^{2}}}$"
      ],
      "text/plain": [
       "<<class 'astropy.constants.codata2018.CODATA2018'> name='Gravitational constant' value=6.6743e-11 uncertainty=1.5e-15 unit='m3 / (kg s2)' reference='CODATA 2018'>"
      ]
     },
     "execution_count": 154,
     "metadata": {},
     "output_type": "execute_result"
    }
   ],
   "source": [
    "astropy.constants.G"
   ]
  },
  {
   "cell_type": "code",
   "execution_count": 155,
   "metadata": {},
   "outputs": [
    {
     "name": "stdout",
     "output_type": "stream",
     "text": [
      "Deleted outdated persistence file, no further action needed.\n"
     ]
    },
    {
     "ename": "Exception",
     "evalue": "R = 0.00e+00 is too small (min. R = 1.00e-12, min. M = 3.60e-25)",
     "output_type": "error",
     "traceback": [
      "\u001b[0;31m---------------------------------------------------------------------------\u001b[0m",
      "\u001b[0;31mException\u001b[0m                                 Traceback (most recent call last)",
      "\u001b[0;32m/tmp/ipykernel_1084425/3623751960.py\u001b[0m in \u001b[0;36m<module>\u001b[0;34m\u001b[0m\n\u001b[1;32m      1\u001b[0m \u001b[0mcosmology\u001b[0m\u001b[0;34m.\u001b[0m\u001b[0mfromAstropy\u001b[0m\u001b[0;34m(\u001b[0m\u001b[0mPlanck18\u001b[0m\u001b[0;34m,\u001b[0m \u001b[0msigma8\u001b[0m\u001b[0;34m=\u001b[0m\u001b[0;36m0.81\u001b[0m\u001b[0;34m,\u001b[0m \u001b[0mns\u001b[0m\u001b[0;34m=\u001b[0m\u001b[0;36m0.966\u001b[0m\u001b[0;34m)\u001b[0m\u001b[0;34m\u001b[0m\u001b[0;34m\u001b[0m\u001b[0m\n\u001b[0;32m----> 2\u001b[0;31m \u001b[0mc\u001b[0m \u001b[0;34m=\u001b[0m \u001b[0mconcentration\u001b[0m\u001b[0;34m.\u001b[0m\u001b[0mconcentration\u001b[0m\u001b[0;34m(\u001b[0m\u001b[0;36m1e14\u001b[0m\u001b[0;34m*\u001b[0m\u001b[0mchances_mcxc\u001b[0m\u001b[0;34m[\u001b[0m\u001b[0;34m'm500'\u001b[0m\u001b[0;34m]\u001b[0m\u001b[0;34m,\u001b[0m \u001b[0;34m'500c'\u001b[0m\u001b[0;34m,\u001b[0m \u001b[0mchances_mcxc\u001b[0m\u001b[0;34m[\u001b[0m\u001b[0;34m'z'\u001b[0m\u001b[0;34m]\u001b[0m\u001b[0;34m,\u001b[0m \u001b[0mmodel\u001b[0m\u001b[0;34m=\u001b[0m\u001b[0;34m'ishiyama21'\u001b[0m\u001b[0;34m)\u001b[0m\u001b[0;34m\u001b[0m\u001b[0;34m\u001b[0m\u001b[0m\n\u001b[0m\u001b[1;32m      3\u001b[0m \u001b[0mnfw\u001b[0m \u001b[0;34m=\u001b[0m \u001b[0mNFW\u001b[0m\u001b[0;34m(\u001b[0m\u001b[0;36m1e14\u001b[0m\u001b[0;34m*\u001b[0m\u001b[0mchances_mcxc\u001b[0m\u001b[0;34m[\u001b[0m\u001b[0;34m'm500'\u001b[0m\u001b[0;34m]\u001b[0m\u001b[0;34m,\u001b[0m \u001b[0mc\u001b[0m\u001b[0;34m,\u001b[0m \u001b[0mchances_mcxc\u001b[0m\u001b[0;34m[\u001b[0m\u001b[0;34m'z'\u001b[0m\u001b[0;34m]\u001b[0m\u001b[0;34m,\u001b[0m \u001b[0moverdensity\u001b[0m\u001b[0;34m=\u001b[0m\u001b[0;36m500\u001b[0m\u001b[0;34m,\u001b[0m \u001b[0mframe\u001b[0m\u001b[0;34m=\u001b[0m\u001b[0;34m'physical'\u001b[0m\u001b[0;34m,\u001b[0m \u001b[0mcosmo\u001b[0m\u001b[0;34m=\u001b[0m\u001b[0mPlanck18\u001b[0m\u001b[0;34m)\u001b[0m\u001b[0;34m\u001b[0m\u001b[0;34m\u001b[0m\u001b[0m\n\u001b[1;32m      4\u001b[0m \u001b[0mm200\u001b[0m\u001b[0;34m,\u001b[0m \u001b[0mc200\u001b[0m \u001b[0;34m=\u001b[0m \u001b[0mnfw\u001b[0m\u001b[0;34m.\u001b[0m\u001b[0mmdelta\u001b[0m\u001b[0;34m(\u001b[0m\u001b[0;36m200\u001b[0m\u001b[0;34m)\u001b[0m\u001b[0;34m\u001b[0m\u001b[0;34m\u001b[0m\u001b[0m\n\u001b[1;32m      5\u001b[0m \u001b[0mr200\u001b[0m \u001b[0;34m=\u001b[0m \u001b[0mnfw\u001b[0m\u001b[0;34m.\u001b[0m\u001b[0mrdelta\u001b[0m\u001b[0;34m(\u001b[0m\u001b[0;36m200\u001b[0m\u001b[0;34m)\u001b[0m\u001b[0;34m\u001b[0m\u001b[0;34m\u001b[0m\u001b[0m\n",
      "\u001b[0;32m~/anaconda3/envs/bluemembers/lib/python3.10/site-packages/colossus/halo/concentration.py\u001b[0m in \u001b[0;36mconcentration\u001b[0;34m(M, mdef, z, model, statistic, conversion_profile, range_return, range_warning, **kwargs)\u001b[0m\n\u001b[1;32m    362\u001b[0m                 \u001b[0;32mif\u001b[0m \u001b[0mlen\u001b[0m\u001b[0;34m(\u001b[0m\u001b[0mmdefs_model\u001b[0m\u001b[0;34m)\u001b[0m \u001b[0;34m>\u001b[0m \u001b[0;36m1\u001b[0m\u001b[0;34m:\u001b[0m\u001b[0;34m\u001b[0m\u001b[0;34m\u001b[0m\u001b[0m\n\u001b[1;32m    363\u001b[0m                         \u001b[0margs\u001b[0m \u001b[0;34m=\u001b[0m \u001b[0margs\u001b[0m \u001b[0;34m+\u001b[0m \u001b[0;34m(\u001b[0m\u001b[0mmdef\u001b[0m\u001b[0;34m,\u001b[0m\u001b[0;34m)\u001b[0m\u001b[0;34m\u001b[0m\u001b[0;34m\u001b[0m\u001b[0m\n\u001b[0;32m--> 364\u001b[0;31m                 \u001b[0mc\u001b[0m\u001b[0;34m,\u001b[0m \u001b[0mmask\u001b[0m \u001b[0;34m=\u001b[0m \u001b[0mevaluateC\u001b[0m\u001b[0;34m(\u001b[0m\u001b[0mfunc\u001b[0m\u001b[0;34m,\u001b[0m \u001b[0mM\u001b[0m\u001b[0;34m,\u001b[0m \u001b[0muniversal\u001b[0m\u001b[0;34m,\u001b[0m \u001b[0margs\u001b[0m\u001b[0;34m,\u001b[0m \u001b[0mkwargs\u001b[0m\u001b[0;34m)\u001b[0m\u001b[0;34m\u001b[0m\u001b[0;34m\u001b[0m\u001b[0m\n\u001b[0m\u001b[1;32m    365\u001b[0m \u001b[0;34m\u001b[0m\u001b[0m\n\u001b[1;32m    366\u001b[0m                 \u001b[0;31m# Generate a mask if the model doesn't return one\u001b[0m\u001b[0;34m\u001b[0m\u001b[0;34m\u001b[0m\u001b[0m\n",
      "\u001b[0;32m~/anaconda3/envs/bluemembers/lib/python3.10/site-packages/colossus/halo/concentration.py\u001b[0m in \u001b[0;36mevaluateC\u001b[0;34m(func, M, universal, args, kwargs)\u001b[0m\n\u001b[1;32m    323\u001b[0m         \u001b[0;32mdef\u001b[0m \u001b[0mevaluateC\u001b[0m\u001b[0;34m(\u001b[0m\u001b[0mfunc\u001b[0m\u001b[0;34m,\u001b[0m \u001b[0mM\u001b[0m\u001b[0;34m,\u001b[0m \u001b[0muniversal\u001b[0m\u001b[0;34m,\u001b[0m \u001b[0margs\u001b[0m\u001b[0;34m,\u001b[0m \u001b[0mkwargs\u001b[0m\u001b[0;34m)\u001b[0m\u001b[0;34m:\u001b[0m\u001b[0;34m\u001b[0m\u001b[0;34m\u001b[0m\u001b[0m\n\u001b[1;32m    324\u001b[0m                 \u001b[0;32mif\u001b[0m \u001b[0;32mnot\u001b[0m \u001b[0muniversal\u001b[0m\u001b[0;34m:\u001b[0m\u001b[0;34m\u001b[0m\u001b[0;34m\u001b[0m\u001b[0m\n\u001b[0;32m--> 325\u001b[0;31m                         \u001b[0mc\u001b[0m\u001b[0;34m,\u001b[0m \u001b[0mmask\u001b[0m \u001b[0;34m=\u001b[0m \u001b[0mfunc\u001b[0m\u001b[0;34m(\u001b[0m\u001b[0mM\u001b[0m\u001b[0;34m,\u001b[0m \u001b[0;34m*\u001b[0m\u001b[0margs\u001b[0m\u001b[0;34m,\u001b[0m \u001b[0;34m**\u001b[0m\u001b[0mkwargs\u001b[0m\u001b[0;34m)\u001b[0m\u001b[0;34m\u001b[0m\u001b[0;34m\u001b[0m\u001b[0m\n\u001b[0m\u001b[1;32m    326\u001b[0m                 \u001b[0;32melse\u001b[0m\u001b[0;34m:\u001b[0m\u001b[0;34m\u001b[0m\u001b[0;34m\u001b[0m\u001b[0m\n\u001b[1;32m    327\u001b[0m                         \u001b[0mmask\u001b[0m \u001b[0;34m=\u001b[0m \u001b[0;32mNone\u001b[0m\u001b[0;34m\u001b[0m\u001b[0;34m\u001b[0m\u001b[0m\n",
      "\u001b[0;32m~/anaconda3/envs/bluemembers/lib/python3.10/site-packages/colossus/halo/concentration.py\u001b[0m in \u001b[0;36mmodelIshiyama21\u001b[0;34m(M, z, mdef, ps_args, c_type, halo_sample)\u001b[0m\n\u001b[1;32m   1639\u001b[0m \t\t\t\tc_alpha           = 0.079)\t\t\n\u001b[1;32m   1640\u001b[0m \u001b[0;34m\u001b[0m\u001b[0m\n\u001b[0;32m-> 1641\u001b[0;31m         \u001b[0;32mreturn\u001b[0m \u001b[0m_diemer19_general\u001b[0m\u001b[0;34m(\u001b[0m\u001b[0mM\u001b[0m\u001b[0;34m,\u001b[0m \u001b[0mz\u001b[0m\u001b[0;34m,\u001b[0m \u001b[0mparams\u001b[0m\u001b[0;34m,\u001b[0m \u001b[0mps_args\u001b[0m \u001b[0;34m=\u001b[0m \u001b[0mps_args\u001b[0m\u001b[0;34m)\u001b[0m\u001b[0;34m\u001b[0m\u001b[0;34m\u001b[0m\u001b[0m\n\u001b[0m\u001b[1;32m   1642\u001b[0m \u001b[0;34m\u001b[0m\u001b[0m\n\u001b[1;32m   1643\u001b[0m \u001b[0;31m###################################################################################################\u001b[0m\u001b[0;34m\u001b[0m\u001b[0;34m\u001b[0m\u001b[0m\n",
      "\u001b[0;32m~/anaconda3/envs/bluemembers/lib/python3.10/site-packages/colossus/halo/concentration.py\u001b[0m in \u001b[0;36m_diemer19_general\u001b[0;34m(M, z, params, ps_args)\u001b[0m\n\u001b[1;32m   1406\u001b[0m \u001b[0;34m\u001b[0m\u001b[0m\n\u001b[1;32m   1407\u001b[0m         \u001b[0;31m# Compute peak height, n_eff, and alpha_eff\u001b[0m\u001b[0;34m\u001b[0m\u001b[0;34m\u001b[0m\u001b[0m\n\u001b[0;32m-> 1408\u001b[0;31m         \u001b[0mnu\u001b[0m \u001b[0;34m=\u001b[0m \u001b[0mpeaks\u001b[0m\u001b[0;34m.\u001b[0m\u001b[0mpeakHeight\u001b[0m\u001b[0;34m(\u001b[0m\u001b[0mM\u001b[0m\u001b[0;34m,\u001b[0m \u001b[0mz\u001b[0m\u001b[0;34m,\u001b[0m \u001b[0mps_args\u001b[0m \u001b[0;34m=\u001b[0m \u001b[0mps_args\u001b[0m\u001b[0;34m)\u001b[0m\u001b[0;34m\u001b[0m\u001b[0;34m\u001b[0m\u001b[0m\n\u001b[0m\u001b[1;32m   1409\u001b[0m         \u001b[0mn_eff\u001b[0m \u001b[0;34m=\u001b[0m \u001b[0mpeaks\u001b[0m\u001b[0;34m.\u001b[0m\u001b[0mpowerSpectrumSlope\u001b[0m\u001b[0;34m(\u001b[0m\u001b[0mnu\u001b[0m\u001b[0;34m,\u001b[0m \u001b[0mz\u001b[0m\u001b[0;34m,\u001b[0m \u001b[0mslope_type\u001b[0m \u001b[0;34m=\u001b[0m \u001b[0;34m'sigma'\u001b[0m\u001b[0;34m,\u001b[0m \u001b[0mscale\u001b[0m \u001b[0;34m=\u001b[0m \u001b[0mparams\u001b[0m\u001b[0;34m[\u001b[0m\u001b[0;34m'kappa'\u001b[0m\u001b[0;34m]\u001b[0m\u001b[0;34m,\u001b[0m \u001b[0mps_args\u001b[0m \u001b[0;34m=\u001b[0m \u001b[0mps_args\u001b[0m\u001b[0;34m)\u001b[0m\u001b[0;34m\u001b[0m\u001b[0;34m\u001b[0m\u001b[0m\n\u001b[1;32m   1410\u001b[0m         \u001b[0malpha_eff\u001b[0m \u001b[0;34m=\u001b[0m \u001b[0m_diemer19_alpha_eff\u001b[0m\u001b[0;34m(\u001b[0m\u001b[0mz\u001b[0m\u001b[0;34m)\u001b[0m\u001b[0;34m\u001b[0m\u001b[0;34m\u001b[0m\u001b[0m\n",
      "\u001b[0;32m~/anaconda3/envs/bluemembers/lib/python3.10/site-packages/colossus/lss/peaks.py\u001b[0m in \u001b[0;36mpeakHeight\u001b[0;34m(M, z, ps_args, sigma_args, deltac_args)\u001b[0m\n\u001b[1;32m    224\u001b[0m         \u001b[0mcosmo\u001b[0m \u001b[0;34m=\u001b[0m \u001b[0mcosmology\u001b[0m\u001b[0;34m.\u001b[0m\u001b[0mgetCurrent\u001b[0m\u001b[0;34m(\u001b[0m\u001b[0;34m)\u001b[0m\u001b[0;34m\u001b[0m\u001b[0;34m\u001b[0m\u001b[0m\n\u001b[1;32m    225\u001b[0m         \u001b[0mR\u001b[0m \u001b[0;34m=\u001b[0m \u001b[0mlagrangianR\u001b[0m\u001b[0;34m(\u001b[0m\u001b[0mM\u001b[0m\u001b[0;34m)\u001b[0m\u001b[0;34m\u001b[0m\u001b[0;34m\u001b[0m\u001b[0m\n\u001b[0;32m--> 226\u001b[0;31m         \u001b[0msigma\u001b[0m \u001b[0;34m=\u001b[0m \u001b[0mcosmo\u001b[0m\u001b[0;34m.\u001b[0m\u001b[0msigma\u001b[0m\u001b[0;34m(\u001b[0m\u001b[0mR\u001b[0m\u001b[0;34m,\u001b[0m \u001b[0mz\u001b[0m\u001b[0;34m,\u001b[0m \u001b[0mps_args\u001b[0m \u001b[0;34m=\u001b[0m \u001b[0mps_args\u001b[0m\u001b[0;34m,\u001b[0m \u001b[0;34m**\u001b[0m\u001b[0msigma_args\u001b[0m\u001b[0;34m)\u001b[0m\u001b[0;34m\u001b[0m\u001b[0;34m\u001b[0m\u001b[0m\n\u001b[0m\u001b[1;32m    227\u001b[0m         \u001b[0mnu\u001b[0m \u001b[0;34m=\u001b[0m \u001b[0mcollapseOverdensity\u001b[0m\u001b[0;34m(\u001b[0m\u001b[0mz\u001b[0m \u001b[0;34m=\u001b[0m \u001b[0mz\u001b[0m\u001b[0;34m,\u001b[0m \u001b[0;34m**\u001b[0m\u001b[0mdeltac_args\u001b[0m\u001b[0;34m)\u001b[0m \u001b[0;34m/\u001b[0m \u001b[0msigma\u001b[0m\u001b[0;34m\u001b[0m\u001b[0;34m\u001b[0m\u001b[0m\n\u001b[1;32m    228\u001b[0m \u001b[0;34m\u001b[0m\u001b[0m\n",
      "\u001b[0;32m~/anaconda3/envs/bluemembers/lib/python3.10/site-packages/colossus/cosmology/cosmology.py\u001b[0m in \u001b[0;36msigma\u001b[0;34m(self, R, z, j, filt, inverse, derivative, kmin, kmax, ps_args)\u001b[0m\n\u001b[1;32m   2795\u001b[0m                                 \u001b[0;32mif\u001b[0m \u001b[0mR_req\u001b[0m \u001b[0;34m<\u001b[0m \u001b[0mself\u001b[0m\u001b[0;34m.\u001b[0m\u001b[0mR_min_sigma\u001b[0m\u001b[0;34m:\u001b[0m\u001b[0;34m\u001b[0m\u001b[0;34m\u001b[0m\u001b[0m\n\u001b[1;32m   2796\u001b[0m                                         \u001b[0mM_min\u001b[0m \u001b[0;34m=\u001b[0m \u001b[0;36m4.0\u001b[0m \u001b[0;34m/\u001b[0m \u001b[0;36m3.0\u001b[0m \u001b[0;34m*\u001b[0m \u001b[0mnp\u001b[0m\u001b[0;34m.\u001b[0m\u001b[0mpi\u001b[0m \u001b[0;34m*\u001b[0m \u001b[0mself\u001b[0m\u001b[0;34m.\u001b[0m\u001b[0mR_min_sigma\u001b[0m\u001b[0;34m**\u001b[0m\u001b[0;36m3\u001b[0m \u001b[0;34m*\u001b[0m \u001b[0mself\u001b[0m\u001b[0;34m.\u001b[0m\u001b[0mrho_m\u001b[0m\u001b[0;34m(\u001b[0m\u001b[0;36m0.0\u001b[0m\u001b[0;34m)\u001b[0m \u001b[0;34m*\u001b[0m \u001b[0;36m1E9\u001b[0m\u001b[0;34m\u001b[0m\u001b[0;34m\u001b[0m\u001b[0m\n\u001b[0;32m-> 2797\u001b[0;31m \t\t\t\t\traise Exception('R = %.2e is too small (min. R = %.2e, min. M = %.2e)' \\\n\u001b[0m\u001b[1;32m   2798\u001b[0m \t\t\t\t\t\t% (R_req, self.R_min_sigma, M_min))\n\u001b[1;32m   2799\u001b[0m \u001b[0;34m\u001b[0m\u001b[0m\n",
      "\u001b[0;31mException\u001b[0m: R = 0.00e+00 is too small (min. R = 1.00e-12, min. M = 3.60e-25)"
     ]
    }
   ],
   "source": [
    "cosmology.fromAstropy(Planck18, sigma8=0.81, ns=0.966)\n",
    "c = concentration.concentration(1e14*chances_mcxc['m500'], '500c', chances_mcxc['z'], model='ishiyama21')\n",
    "nfw = NFW(1e14*chances_mcxc['m500'], c, chances_mcxc['z'], overdensity=500, frame='physical', cosmo=Planck18)\n",
    "m200, c200 = nfw.mdelta(200)\n",
    "r200 = nfw.rdelta(200)\n",
    "d200 = (r200*u.Mpc * Planck18.arcsec_per_kpc_proper(chances['z'])).to('arcmin').value\n",
    "chances_mcxc['m200'] = m200 / 1e14\n",
    "chances_mcxc['c200'] = c200\n",
    "chances_mcxc['r200'] = r200\n",
    "chances_mcxc['d200'] = d200\n",
    "for col in ('m200','c200','r200','d200'):\n",
    "    chances_mcxc[col].format = '%.2f'\n",
    "fig, axes = plt.subplots(1, 2, figsize=(12,5))\n",
    "axes[0].hist(chances_mcxc['r200'], 20)\n",
    "axes[0].set_xlabel('$r_{200}$ (Mpc)')\n",
    "axes[1].hist(chances_mcxc['d200'], 20)\n",
    "axes[1].set_xlabel(r'$\\theta_{200}$ (arcmin)')"
   ]
  },
  {
   "cell_type": "code",
   "execution_count": 127,
   "metadata": {},
   "outputs": [
    {
     "data": {
      "text/html": [
       "<div><i>Table length=6</i>\n",
       "<table id=\"table140096879499424\" class=\"table-striped table-bordered table-condensed\">\n",
       "<thead><tr><th>CHANCES name</th><th>ACT_name</th><th>X-rays</th><th>z</th><th>m500</th><th>r500</th><th>m200</th><th>r200</th><th>d200</th></tr></thead>\n",
       "<thead><tr><th>str19</th><th>str19</th><th>str18</th><th>float64</th><th>float64</th><th>float64</th><th>float64</th><th>float64</th><th>float64</th></tr></thead>\n",
       "<tr><td>PSZ2 G263.68-22.55</td><td>ACT-CL J0645.4-5413</td><td>RXCJ0645.4-5413</td><td>0.167</td><td>11.18</td><td>1.49</td><td>15.96</td><td>2.33</td><td>13.17</td></tr>\n",
       "<tr><td>PSZ2 G306.66+61.06</td><td>ACT-CL J1258.7-0145</td><td>RXCJ1258.6-0145</td><td>0.085</td><td>8.05</td><td>1.38</td><td>11.60</td><td>2.16</td><td>15.31</td></tr>\n",
       "<tr><td>PSZ2 G309.43-72.86</td><td>ACT-CL J0040.8-4407</td><td>--</td><td>0.35</td><td>10.29</td><td>1.36</td><td>14.55</td><td>2.11</td><td>21.33</td></tr>\n",
       "<tr><td>PSZ2 G325.70+17.34</td><td>--</td><td>--</td><td>0.315</td><td>10.21</td><td>1.37</td><td>14.49</td><td>2.14</td><td>12.96</td></tr>\n",
       "<tr><td>PSZ2 G333.89-43.60</td><td>--</td><td>--</td><td>0.318</td><td>8.98</td><td>1.32</td><td>12.78</td><td>2.05</td><td>18.38</td></tr>\n",
       "<tr><td>PSZ2 G337.12-66.02</td><td>--</td><td>--</td><td>0.547</td><td>9.60</td><td>1.23</td><td>13.46</td><td>1.90</td><td>15.92</td></tr>\n",
       "</table></div>"
      ],
      "text/plain": [
       "<Table length=6>\n",
       "   CHANCES name          ACT_name            X-rays          z      m500    r500    m200    r200    d200 \n",
       "      str19               str19              str18        float64 float64 float64 float64 float64 float64\n",
       "------------------ ------------------- ------------------ ------- ------- ------- ------- ------- -------\n",
       "PSZ2 G263.68-22.55 ACT-CL J0645.4-5413 RXCJ0645.4-5413      0.167   11.18    1.49   15.96    2.33   13.17\n",
       "PSZ2 G306.66+61.06 ACT-CL J1258.7-0145 RXCJ1258.6-0145      0.085    8.05    1.38   11.60    2.16   15.31\n",
       "PSZ2 G309.43-72.86 ACT-CL J0040.8-4407                 --    0.35   10.29    1.36   14.55    2.11   21.33\n",
       "PSZ2 G325.70+17.34                  --                 --   0.315   10.21    1.37   14.49    2.14   12.96\n",
       "PSZ2 G333.89-43.60                  --                 --   0.318    8.98    1.32   12.78    2.05   18.38\n",
       "PSZ2 G337.12-66.02                  --                 --   0.547    9.60    1.23   13.46    1.90   15.92"
      ]
     },
     "execution_count": 127,
     "metadata": {},
     "output_type": "execute_result"
    }
   ],
   "source": [
    "chances_mcxc['CHANCES name','ACT_name','X-rays','z','m500','r500','m200','r200','d200'][d200 > 12]"
   ]
  },
  {
   "cell_type": "code",
   "execution_count": 129,
   "metadata": {},
   "outputs": [],
   "source": [
    "chances_mcxc.write(f'catalogues/chances_clusters_{sample}_r200.txt',\n",
    "                   format='ascii.fixed_width', overwrite=True)"
   ]
  },
  {
   "cell_type": "code",
   "execution_count": null,
   "metadata": {},
   "outputs": [],
   "source": []
  }
 ],
 "metadata": {
  "kernelspec": {
   "display_name": "Python [conda env:bluemembers]",
   "language": "python",
   "name": "conda-env-bluemembers-py"
  },
  "language_info": {
   "codemirror_mode": {
    "name": "ipython",
    "version": 3
   },
   "file_extension": ".py",
   "mimetype": "text/x-python",
   "name": "python",
   "nbconvert_exporter": "python",
   "pygments_lexer": "ipython3",
   "version": "3.10.0"
  }
 },
 "nbformat": 4,
 "nbformat_minor": 4
}
